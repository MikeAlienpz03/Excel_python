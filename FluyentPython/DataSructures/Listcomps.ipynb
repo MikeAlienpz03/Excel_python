{
 "cells": [
  {
   "cell_type": "code",
   "execution_count": 3,
   "metadata": {},
   "outputs": [],
   "source": [
    "import numpy as np"
   ]
  },
  {
   "cell_type": "markdown",
   "metadata": {},
   "source": [
    "**Listcomps versus map and filter**"
   ]
  },
  {
   "cell_type": "code",
   "execution_count": 4,
   "metadata": {},
   "outputs": [
    {
     "data": {
      "text/plain": [
       "[162, 163, 165, 8364, 164]"
      ]
     },
     "execution_count": 4,
     "metadata": {},
     "output_type": "execute_result"
    }
   ],
   "source": [
    "symbols = '$¢£¥€¤'\n",
    "beyond_ascii = [ord(s) for s in symbols if ord(s) > 127]\n",
    "beyond_ascii"
   ]
  },
  {
   "cell_type": "code",
   "execution_count": 5,
   "metadata": {},
   "outputs": [
    {
     "data": {
      "text/plain": [
       "[162, 163, 165, 8364, 164]"
      ]
     },
     "execution_count": 5,
     "metadata": {},
     "output_type": "execute_result"
    }
   ],
   "source": [
    "beyond_ascii = list(filter(lambda c: c> 127,map(ord,symbols)))\n",
    "beyond_ascii"
   ]
  },
  {
   "attachments": {
    "image.png": {
     "image/png": "[encoded data removed]"
    }
   },
   "cell_type": "markdown",
   "metadata": {},
   "source": [
    "**Productos cartesianos**\n",
    "\n",
    "* Listcomps puede generar listas a partir del producto cartesiano de dos o más iterables. Los elementos que componen el producto cartesiano son tuplas formadas por elementos de cada iterable de entrada. \n",
    "\n",
    "* La lista resultante tiene una longitud igual a las longitudes de los iterables de entrada multiplicadas.\n",
    "\n",
    "![image.png](attachment:image.png)"
   ]
  },
  {
   "cell_type": "markdown",
   "metadata": {},
   "source": [
    "Por ejemplo, imagina que necesitas producir una lista de camisetas disponibles en 2 colores y tres tamaños. Muestra como hacerlo usando listcomp, el resultado son 6 items"
   ]
  },
  {
   "cell_type": "code",
   "execution_count": 6,
   "metadata": {},
   "outputs": [],
   "source": [
    "colors = [\"black\",\"white\"]\n",
    "sizes = [\"S\",\"M\",\"L\"]"
   ]
  },
  {
   "cell_type": "code",
   "execution_count": 7,
   "metadata": {},
   "outputs": [
    {
     "name": "stdout",
     "output_type": "stream",
     "text": [
      "('black', 'S')\n",
      "('black', 'M')\n",
      "('black', 'L')\n",
      "('white', 'S')\n",
      "('white', 'M')\n",
      "('white', 'L')\n"
     ]
    }
   ],
   "source": [
    "for color in colors:\n",
    "    for size in sizes:\n",
    "        print((color,size))"
   ]
  },
  {
   "cell_type": "markdown",
   "metadata": {},
   "source": [
    "Observe cómo la lista resultante se ordena como si los bucles for estuvieran anidados en el mismo orden en que aparecen en la listacomp."
   ]
  },
  {
   "cell_type": "code",
   "execution_count": 8,
   "metadata": {},
   "outputs": [
    {
     "data": {
      "text/plain": [
       "[('black', 'S'),\n",
       " ('black', 'M'),\n",
       " ('black', 'L'),\n",
       " ('white', 'S'),\n",
       " ('white', 'M'),\n",
       " ('white', 'L')]"
      ]
     },
     "execution_count": 8,
     "metadata": {},
     "output_type": "execute_result"
    }
   ],
   "source": [
    "#Cartesian product using a list comprehension.\n",
    "#Fue la forma de que un un bucle anidado fuera una list comprehension\n",
    "tshirts = [(color,size) for color in colors for size in sizes]\n",
    "tshirts"
   ]
  },
  {
   "cell_type": "code",
   "execution_count": 9,
   "metadata": {},
   "outputs": [
    {
     "data": {
      "text/plain": [
       "[('black', 'S'),\n",
       " ('black', 'M'),\n",
       " ('black', 'L'),\n",
       " ('white', 'S'),\n",
       " ('white', 'M'),\n",
       " ('white', 'L')]"
      ]
     },
     "execution_count": 9,
     "metadata": {},
     "output_type": "execute_result"
    }
   ],
   "source": [
    "tshirts = [(color,size) for color in colors for size in sizes]\n",
    "tshirts"
   ]
  },
  {
   "cell_type": "markdown",
   "metadata": {},
   "source": [
    "**Tuplas como registros**\n",
    "\n",
    "* Las tuplas contienen registros: cada elemento de la tupla contiene los datos de un campo y la posición del elemento le da su significado.\n",
    "\n",
    "* Si se considera una tupla como una lista inmutable, la cantidad y el orden de los elementos pueden o no ser importantes dependiendo del contexto. Pero cuando se utiliza una tupla como una\n",
    "colección de campos, el número de elementos suele ser fijo y su orden siempre es vital.\n",
    "\n",
    "* Observe que en todas las expresiones siguientes, ordenar la tupla destruiría la información porque el significado de cada dato viene dado por su posición en la tupla."
   ]
  },
  {
   "cell_type": "code",
   "execution_count": 10,
   "metadata": {},
   "outputs": [
    {
     "name": "stdout",
     "output_type": "stream",
     "text": [
      "BRA/CE342567\n",
      "ESP/XDA205856\n",
      "USA/31195855\n"
     ]
    }
   ],
   "source": [
    "lax_coordinates = (33.9425, -118.408056)\n",
    "city, year, pop, chg, area = ('Tokyo', 2003, 32450, 0.66, 8014)  \n",
    "traveler_ids = [('USA', '31195855'), ('BRA', 'CE342567'), ('ESP', 'XDA205856')]\n",
    "\n",
    "for passport in sorted(traveler_ids):\n",
    "    \"\"\"\n",
    "    Diferentes formas de formatear la cadena \n",
    "    y mostrar los valores de la tupla\n",
    "    \"\"\"\n",
    "    # print('%s/%s' % (passport[0],passport[1]))\n",
    "    # print(f'{passport[0]}/{passport[1]}')\n",
    "    print('%s/%s' % passport)\n"
   ]
  },
  {
   "cell_type": "markdown",
   "metadata": {},
   "source": [
    "estás desempaquetando cada tupla de traveler_ids en dos variables: country y _. La coma después de country indica que solo estás interesado en el primer elemento de cada tupla (en este caso, el código de país), y _ es una convención en Python que se usa para ignorar variables que no necesitas en una desestructuración de tupla o lista."
   ]
  },
  {
   "cell_type": "code",
   "execution_count": 11,
   "metadata": {},
   "outputs": [
    {
     "name": "stdout",
     "output_type": "stream",
     "text": [
      "USA\n",
      "BRA\n",
      "ESP\n"
     ]
    }
   ],
   "source": [
    "#Desempaquetado de tuplas\n",
    "for country, _ in traveler_ids:\n",
    "    print(country)"
   ]
  },
  {
   "cell_type": "code",
   "execution_count": 12,
   "metadata": {},
   "outputs": [
    {
     "data": {
      "text/plain": [
       "['USA', 'BRA', 'ESP']"
      ]
     },
     "execution_count": 12,
     "metadata": {},
     "output_type": "execute_result"
    }
   ],
   "source": [
    "countrys = [country for country, _ in traveler_ids]\n",
    "countrys"
   ]
  },
  {
   "cell_type": "code",
   "execution_count": 13,
   "metadata": {},
   "outputs": [
    {
     "name": "stdout",
     "output_type": "stream",
     "text": [
      "31195855\n",
      "CE342567\n",
      "XDA205856\n"
     ]
    }
   ],
   "source": [
    "for _,item in traveler_ids:\n",
    "    print(item)"
   ]
  },
  {
   "cell_type": "markdown",
   "metadata": {},
   "source": [
    "pag 55"
   ]
  },
  {
   "cell_type": "code",
   "execution_count": 15,
   "metadata": {},
   "outputs": [
    {
     "name": "stdout",
     "output_type": "stream",
     "text": [
      "Documento PDF 'comparativo_incentivos_aseguradoras.pdf' generado exitosamente.\n"
     ]
    }
   ],
   "source": [
    "from fpdf import FPDF\n",
    "import pandas as pd\n",
    "\n",
    "# Crear el documento PDF\n",
    "pdf = FPDF()\n",
    "pdf.add_page()\n",
    "pdf.set_auto_page_break(auto=True, margin=15)\n",
    "\n",
    "# Configuración de la portada\n",
    "pdf.set_font(\"Arial\", size=12)\n",
    "pdf.cell(200, 10, txt=\"Análisis Comparativo de Incentivos para Agentes en Aseguradoras - Ramo de Autos y Flotillas\", ln=True, align='C')\n",
    "pdf.ln(10)\n",
    "pdf.set_font(\"Arial\", size=10)\n",
    "pdf.multi_cell(0, 10, txt=\"[Fecha: Julio 2024]\\n\\nEste documento presenta un análisis comparativo de los incentivos ofrecidos por varias aseguradoras en el ramo de autos y flotillas. El análisis incluye detalles específicos sobre los bonos, sus cifras y rangos, y un ranking de las aseguradoras basado en sus ventajas y beneficios.\")\n",
    "pdf.ln(10)\n",
    "\n",
    "# Añadir análisis de cada aseguradora\n",
    "def add_insurer_details(pdf, title, details):\n",
    "    pdf.set_font(\"Arial\", size=12)\n",
    "    pdf.cell(200, 10, txt=title, ln=True, align='L')\n",
    "    pdf.ln(5)\n",
    "    pdf.set_font(\"Arial\", size=10)\n",
    "    for detail in details:\n",
    "        pdf.cell(200, 10, txt=detail['title'], ln=True, align='L')\n",
    "        pdf.ln(3)\n",
    "        for item in detail['items']:\n",
    "            pdf.cell(200, 10, txt=f\"- {item['desc']}: {item['value']}\", ln=True, align='L')\n",
    "        pdf.ln(5)\n",
    "\n",
    "# Detalles de cada aseguradora (continuación del código original)\n",
    "gnp_details = [\n",
    "    {\n",
    "        'title': 'Bono Inicial',\n",
    "        'items': [\n",
    "            {'desc': '$510,000', 'value': '14%'},\n",
    "            {'desc': '$430,000', 'value': '12%'},\n",
    "            {'desc': '$330,000', 'value': '11%'},\n",
    "            {'desc': '$260,000', 'value': '10%'},\n",
    "            {'desc': '$210,000', 'value': '9%'},\n",
    "            {'desc': '$160,000', 'value': '8%'},\n",
    "            {'desc': '$120,000', 'value': '6%'}\n",
    "        ]\n",
    "    },\n",
    "    {\n",
    "        'title': 'Bono de Cartera',\n",
    "        'items': [\n",
    "            {'desc': '2,000,000', 'value': '5.0% (0%), 8.0% (5%), 11.0% (10%)'},\n",
    "            {'desc': '1,200,000', 'value': '4.0% (0%), 7.0% (5%), 9.5% (10%)'},\n",
    "            {'desc': '950,000', 'value': '3.0% (0%), 6.0% (5%), 8.5% (10%)'},\n",
    "            {'desc': '530,000', 'value': '2.0% (0%), 5.0% (5%), 7.5% (10%)'},\n",
    "            {'desc': '260,000', 'value': '1.0% (0%), 4.0% (5%), 7.0% (10%)'}\n",
    "        ]\n",
    "    },\n",
    "    {\n",
    "        'title': 'Bono de Siniestralidad',\n",
    "        'items': [\n",
    "            {'desc': '40%', 'value': '4%'},\n",
    "            {'desc': '50%', 'value': '3%'},\n",
    "            {'desc': '60%', 'value': '2%'}\n",
    "        ]\n",
    "    }\n",
    "]\n",
    "\n",
    "mapfre_details = [\n",
    "    {\n",
    "        'title': 'Bono de Producción',\n",
    "        'items': [\n",
    "            {'desc': '$200,000', 'value': '10%'},\n",
    "            {'desc': '$150,000', 'value': '7%'},\n",
    "            {'desc': '$100,000', 'value': '5%'}\n",
    "        ]\n",
    "    },\n",
    "    {\n",
    "        'title': 'Bono de Rentabilidad',\n",
    "        'items': [\n",
    "            {'desc': '< 50%', 'value': '6%'},\n",
    "            {'desc': '50%-60%', 'value': '4%'},\n",
    "            {'desc': '60%-70%', 'value': '2%'}\n",
    "        ]\n",
    "    }\n",
    "]\n",
    "\n",
    "axa_details = [\n",
    "    {\n",
    "        'title': 'Bono de Producción',\n",
    "        'items': [\n",
    "            {'desc': '$1,000,000', 'value': '9%'},\n",
    "            {'desc': '$750,000', 'value': '7%'},\n",
    "            {'desc': '$500,000', 'value': '5%'},\n",
    "            {'desc': '$250,000', 'value': '3%'}\n",
    "        ]\n",
    "    },\n",
    "    {\n",
    "        'title': 'Bono de Crecimiento',\n",
    "        'items': [\n",
    "            {'desc': '20%', 'value': '6%'},\n",
    "            {'desc': '15%', 'value': '5%'},\n",
    "            {'desc': '10%', 'value': '4%'},\n",
    "            {'desc': '5%', 'value': '2%'}\n",
    "        ]\n",
    "    },\n",
    "    {\n",
    "        'title': 'Bono de Rentabilidad',\n",
    "        'items': [\n",
    "            {'desc': '< 50%', 'value': '8%'},\n",
    "            {'desc': '50%-60%', 'value': '5%'},\n",
    "            {'desc': '60%-70%', 'value': '3%'}\n",
    "        ]\n",
    "    }\n",
    "]\n",
    "\n",
    "hdi_details = [\n",
    "    {\n",
    "        'title': 'Bono de Producción',\n",
    "        'items': [\n",
    "            {'desc': '$500,000', 'value': '10%'},\n",
    "            {'desc': '$300,000', 'value': '8%'},\n",
    "            {'desc': '$150,000', 'value': '6%'},\n",
    "            {'desc': '$50,000', 'value': '4%'}\n",
    "        ]\n",
    "    },\n",
    "    {\n",
    "        'title': 'Bono de Rentabilidad',\n",
    "        'items': [\n",
    "            {'desc': '< 50%', 'value': '7%'},\n",
    "            {'desc': '50%-60%', 'value': '5%'},\n",
    "            {'desc': '60%-70%', 'value': '3%'}\n",
    "        ]\n",
    "    }\n",
    "]\n",
    "\n",
    "# Añadir detalles de cada aseguradora\n",
    "add_insurer_details(pdf, 'GNP Consolidados - Autos y Flotillas', gnp_details)\n",
    "add_insurer_details(pdf, 'MAPFRE - Autos y Flotillas', mapfre_details)\n",
    "add_insurer_details(pdf, 'AXA - Autos y Flotillas', axa_details)\n",
    "add_insurer_details(pdf, 'HDI - Autos y Flotillas', hdi_details)\n",
    "\n",
    "# Comparación General\n",
    "pdf.add_page()\n",
    "pdf.set_font(\"Arial\", size=12)\n",
    "pdf.cell(200, 10, txt=\"Comparación General\", ln=True, align='L')\n",
    "pdf.ln(10)\n",
    "\n",
    "comparison_data = [\n",
    "    [\"Aspecto\", \"GNP Consolidados\", \"MAPFRE\", \"AXA\", \"HDI\"],\n",
    "    [\"Tipos de Bono\", \"Productividad, Rentabilidad, Integral\", \"Producción, Rentabilidad\", \"Producción, Crecimiento, Rentabilidad\", \"Producción, Rentabilidad\"],\n",
    "    [\"Beneficios\", \"Diversificación de incentivos, claridad en criterios, bonos adicionales\", \"Incremento progresivo, enfoque en siniestralidad\", \"Reconocimiento a los mejores agentes, participación amplia\", \"Incremento significativo, premios por eficiencia\"],\n",
    "    [\"Ventajas\", \"Diversificación, claridad, incentivos adicionales\", \"Simplicidad, flexibilidad en el pago\", \"Enfoque en diversos productos, bonificación por segmento\", \"Diversidad en los bonos, metas claras\"],\n",
    "    [\"Desventajas\", \"Requisitos rigurosos, complejidad, dependencia de siniestralidad\", \"Enfoque limitado, dependencia en el volumen\", \"Requisitos elevados, condiciones especiales\", \"Altos requisitos iniciales, dependencia de la siniestralidad\"]\n",
    "]\n",
    "\n",
    "for row in comparison_data:\n",
    "    pdf.set_font(\"Arial\", size=10)\n",
    "    for item in row:\n",
    "        pdf.cell(40, 10, txt=item, border=1)\n",
    "    pdf.ln(10)\n",
    "\n",
    "# Ranking de Aseguradoras\n",
    "pdf.add_page()\n",
    "pdf.set_font(\"Arial\", size=12)\n",
    "pdf.cell(200, 10, txt=\"Ranking de Aseguradoras\", ln=True, align='L')\n",
    "pdf.ln(10)\n",
    "\n",
    "# Continúa añadiendo contenido aquí...\n",
    "ranking_data = [\n",
    "    {\"rank\": 1, \"name\": \"AXA\", \"reasons\": [\"Altas bonificaciones por producción, crecimiento y rentabilidad\", \"Amplia cobertura de productos y reconocimiento adicional por segmentación alfa\"]},\n",
    "    {\"rank\": 2, \"name\": \"GNP Consolidados\", \"reasons\": [\"Diversificación de incentivos, claridad en los criterios, y bonos adicionales como el Integral\", \"Bonos por buen desempeño y buena siniestralidad\"]},\n",
    "    {\"rank\": 3, \"name\": \"HDI\", \"reasons\": [\"Diversidad en los bonos y claridad en las metas\", \"Bonificaciones significativas por producción y rentabilidad\"]}]\n",
    "\n",
    "# Guardar el documento PDF generado\n",
    "pdf_file = \"comparativo_incentivos_aseguradoras.pdf\"\n",
    "pdf.output(pdf_file)\n",
    "print(f\"Documento PDF '{pdf_file}' generado exitosamente.\")\n"
   ]
  }
 ],
 "metadata": {
  "kernelspec": {
   "display_name": "base",
   "language": "python",
   "name": "python3"
  },
  "language_info": {
   "codemirror_mode": {
    "name": "ipython",
    "version": 3
   },
   "file_extension": ".py",
   "mimetype": "text/x-python",
   "name": "python",
   "nbconvert_exporter": "python",
   "pygments_lexer": "ipython3",
   "version": "3.11.7"
  }
 },
 "nbformat": 4,
 "nbformat_minor": 2
}
