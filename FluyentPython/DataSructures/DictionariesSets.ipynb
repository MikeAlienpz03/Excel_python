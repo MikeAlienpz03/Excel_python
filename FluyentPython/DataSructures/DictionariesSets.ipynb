{
 "cells": [
  {
   "cell_type": "markdown",
   "metadata": {},
   "source": [
    "Dictionaries and sets\n",
    "\n",
    " He aquí un breve resumen de este capítulo:\n",
    " - Métodos comunes de diccionario\n",
    " - Manejo especial de claves perdidas\n",
    " - Variaciones de dict en la biblioteca estándar\n",
    " - Los tipos set y frozenset\n",
    " - Cómo funcionan las tablas hash\n",
    " - Implicaciones de las tablas hash: limitaciones del tipo de clave, ordenación impredecible, etc."
   ]
  },
  {
   "attachments": {
    "image.png": {
     "image/png": "[encoded data removed]"
    }
   },
   "cell_type": "markdown",
   "metadata": {},
   "source": [
    "**Tipos de mapeo genéricos**\n",
    "\n",
    "* El módulo collections.abc proporciona los ABCs Mapping y MutableMapping para formalizar las interfaces de dict y tipos similares\n",
    "\n",
    "![image.png](attachment:image.png)"
   ]
  },
  {
   "cell_type": "code",
   "execution_count": 8,
   "metadata": {},
   "outputs": [],
   "source": [
    "from collections.abc import Mapping"
   ]
  },
  {
   "cell_type": "markdown",
   "metadata": {},
   "source": [
    " Las implementaciones de mapeos especializados a menudo extienden dict o collections.User Dict, en lugar de estos ABCs. El principal valor de los ABC es documentar y formalizar las interfaces mínimas para los mapeos, y servir como criterio para las pruebas isinstance en el código que necesita soportar mapeos en un sentido amplio:"
   ]
  },
  {
   "cell_type": "code",
   "execution_count": 9,
   "metadata": {},
   "outputs": [
    {
     "data": {
      "text/plain": [
       "True"
      ]
     },
     "execution_count": 9,
     "metadata": {},
     "output_type": "execute_result"
    }
   ],
   "source": [
    "my_dict = {}\n",
    "isinstance(my_dict,Mapping)"
   ]
  },
  {
   "cell_type": "markdown",
   "metadata": {},
   "source": [
    " Dadas estas reglas básicas, puede construir diccionarios de varias maneras"
   ]
  },
  {
   "cell_type": "code",
   "execution_count": 16,
   "metadata": {},
   "outputs": [
    {
     "data": {
      "text/plain": [
       "True"
      ]
     },
     "execution_count": 16,
     "metadata": {},
     "output_type": "execute_result"
    }
   ],
   "source": [
    "a = dict(one=1,two=2,three=3)\n",
    "b = {\"one\":1, \"two\":2,\"three\":3}\n",
    "c = dict(zip(['one', 'two', 'three'], [1, 2, 3]))\n",
    "d = dict([('two', 2), ('one', 1), ('three', 3)])\n",
    "e = dict({'three': 3, 'one': 1, 'two': 2})\n",
    "\n",
    "a == b == c == d == e"
   ]
  },
  {
   "cell_type": "markdown",
   "metadata": {},
   "source": [
    "**dict comprehensions**"
   ]
  },
  {
   "cell_type": "code",
   "execution_count": 18,
   "metadata": {},
   "outputs": [
    {
     "data": {
      "text/plain": [
       "{'China': 86,\n",
       " 'India': 91,\n",
       " 'United States': 1,\n",
       " 'Indonesia': 62,\n",
       " 'Brazil': 55,\n",
       " 'Pakistan': 92,\n",
       " 'Bangladesh': 880,\n",
       " 'Nigeria': 234,\n",
       " 'Russia': 7,\n",
       " 'Japan': 81}"
      ]
     },
     "execution_count": 18,
     "metadata": {},
     "output_type": "execute_result"
    }
   ],
   "source": [
    "DIAL_CODES = [\n",
    "  (86, 'China'),\n",
    "  (91, 'India'),\n",
    "  (1, 'United States'),\n",
    "  (62, 'Indonesia'),\n",
    "  (55, 'Brazil'),\n",
    "  (92, 'Pakistan'),\n",
    "  (880, 'Bangladesh'),\n",
    "  (234, 'Nigeria'),\n",
    "  (7, 'Russia'),\n",
    "  (81, 'Japan'),\n",
    "]\n",
    "\n",
    "country_code = {country: code for code, country in DIAL_CODES}\n",
    "country_code"
   ]
  },
  {
   "cell_type": "code",
   "execution_count": 27,
   "metadata": {},
   "outputs": [
    {
     "name": "stdout",
     "output_type": "stream",
     "text": [
      "('China', 86)\n",
      "('India', 91)\n",
      "('United States', 1)\n",
      "('Indonesia', 62)\n",
      "('Brazil', 55)\n",
      "('Pakistan', 92)\n",
      "('Bangladesh', 880)\n",
      "('Nigeria', 234)\n",
      "('Russia', 7)\n",
      "('Japan', 81)\n"
     ]
    }
   ],
   "source": [
    "for x in country_code.items():\n",
    "    print(x)"
   ]
  },
  {
   "cell_type": "code",
   "execution_count": 31,
   "metadata": {},
   "outputs": [
    {
     "name": "stdout",
     "output_type": "stream",
     "text": [
      "China : 86\n",
      "India : 91\n",
      "United States : 1\n",
      "Indonesia : 62\n",
      "Brazil : 55\n",
      "Pakistan : 92\n",
      "Bangladesh : 880\n",
      "Nigeria : 234\n",
      "Russia : 7\n",
      "Japan : 81\n"
     ]
    }
   ],
   "source": [
    "for key,value in country_code.items():\n",
    "    print(f\"{key} : {value}\")"
   ]
  },
  {
   "cell_type": "code",
   "execution_count": 30,
   "metadata": {},
   "outputs": [
    {
     "name": "stdout",
     "output_type": "stream",
     "text": [
      "China\n",
      "India\n",
      "United States\n",
      "Indonesia\n",
      "Brazil\n",
      "Pakistan\n",
      "Bangladesh\n",
      "Nigeria\n",
      "Russia\n",
      "Japan\n"
     ]
    }
   ],
   "source": [
    "for x in country_code.keys():\n",
    "    print(x)"
   ]
  },
  {
   "cell_type": "code",
   "execution_count": 23,
   "metadata": {},
   "outputs": [
    {
     "data": {
      "text/plain": [
       "{86: 'CHINA',\n",
       " 91: 'INDIA',\n",
       " 1: 'UNITED STATES',\n",
       " 62: 'INDONESIA',\n",
       " 55: 'BRAZIL',\n",
       " 92: 'PAKISTAN',\n",
       " 880: 'BANGLADESH',\n",
       " 234: 'NIGERIA',\n",
       " 7: 'RUSSIA',\n",
       " 81: 'JAPAN'}"
      ]
     },
     "execution_count": 23,
     "metadata": {},
     "output_type": "execute_result"
    }
   ],
   "source": [
    "{code: country.upper() for country, code in country_code.items()}"
   ]
  },
  {
   "cell_type": "markdown",
   "metadata": {},
   "source": [
    "**Sorted data in dictionary**"
   ]
  },
  {
   "cell_type": "code",
   "execution_count": 37,
   "metadata": {},
   "outputs": [
    {
     "name": "stdout",
     "output_type": "stream",
     "text": [
      "d1: {86: 'China', 91: 'India', 1: 'United States', 62: 'Indonesia', 55: 'Brazil', 92: 'Pakistan', 880: 'Bangladesh', 234: 'Nigeria', 7: 'Russia', 81: 'Japan'}\n",
      "d1: dict_keys([86, 91, 1, 62, 55, 92, 880, 234, 7, 81])\n",
      "d1: dict_values(['China', 'India', 'United States', 'Indonesia', 'Brazil', 'Pakistan', 'Bangladesh', 'Nigeria', 'Russia', 'Japan'])\n",
      "d1: dict_items([(86, 'China'), (91, 'India'), (1, 'United States'), (62, 'Indonesia'), (55, 'Brazil'), (92, 'Pakistan'), (880, 'Bangladesh'), (234, 'Nigeria'), (7, 'Russia'), (81, 'Japan')])\n"
     ]
    }
   ],
   "source": [
    "d1 = dict(DIAL_CODES)\n",
    "print(f\"d1: {d1}\")\n",
    "print(f\"d1: {d1.keys()}\")\n",
    "print(f\"d1: {d1.values()}\")\n",
    "print(f\"d1: {d1.items()}\")"
   ]
  },
  {
   "cell_type": "code",
   "execution_count": 50,
   "metadata": {},
   "outputs": [
    {
     "name": "stdout",
     "output_type": "stream",
     "text": [
      "d2: dict_keys([1, 7, 55, 62, 81, 86, 91, 92, 234, 880])\n"
     ]
    }
   ],
   "source": [
    "d2 = dict(sorted(DIAL_CODES))\n",
    "print(f\"d2: {d2.keys()}\")"
   ]
  },
  {
   "cell_type": "code",
   "execution_count": 49,
   "metadata": {},
   "outputs": [
    {
     "name": "stdout",
     "output_type": "stream",
     "text": [
      "d3: dict_keys([880, 55, 86, 91, 62, 81, 234, 92, 7, 1])\n"
     ]
    }
   ],
   "source": [
    "d3 = dict(sorted(DIAL_CODES,key=lambda x:x[1]))\n",
    "print('d3:', d3.keys())"
   ]
  },
  {
   "cell_type": "markdown",
   "metadata": {},
   "source": [
    " En Python 3, los métodos .keys(), .items() y .values() devuelven vistas de diccionario, que se comportan más como conjuntos que las listas devueltas por estos métodos"
   ]
  }
 ],
 "metadata": {
  "kernelspec": {
   "display_name": "base",
   "language": "python",
   "name": "python3"
  },
  "language_info": {
   "codemirror_mode": {
    "name": "ipython",
    "version": 3
   },
   "file_extension": ".py",
   "mimetype": "text/x-python",
   "name": "python",
   "nbconvert_exporter": "python",
   "pygments_lexer": "ipython3",
   "version": "3.11.7"
  }
 },
 "nbformat": 4,
 "nbformat_minor": 2
}
