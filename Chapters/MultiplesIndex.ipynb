{
 "cells": [
  {
   "cell_type": "code",
   "execution_count": 1,
   "metadata": {},
   "outputs": [],
   "source": [
    "import pandas as pd\n",
    "import numpy as np"
   ]
  },
  {
   "cell_type": "markdown",
   "metadata": {},
   "source": [
    "**Una Serie con Índices Múltiples**\n",
    "\n",
    "* Comencemos considerando cómo podríamos representar datos bidimensionales dentro de una Serie unidimensional. Para ser concretos, consideraremos una serie de datos donde cada punto tiene una clave característica y numérica.\n",
    "\n",
    "**La manera incorrecta**\n",
    "* Supongamos que deseas seguir datos sobre estados de dos años diferentes. Usando las herramientas de Pandas que ya hemos cubierto, podrías sentir la tentación de simplemente usar tuplas de Python como claves:"
   ]
  },
  {
   "cell_type": "code",
   "execution_count": 24,
   "metadata": {},
   "outputs": [
    {
     "data": {
      "text/plain": [
       "(California, 2000)    33871648\n",
       "(California, 2010)    37253956\n",
       "(New York, 2000)      18976457\n",
       "(New York, 2010)      19378102\n",
       "(Texas, 2000)         20851820\n",
       "(Texas, 2010)         25145561\n",
       "dtype: int64"
      ]
     },
     "execution_count": 24,
     "metadata": {},
     "output_type": "execute_result"
    }
   ],
   "source": [
    "index = [('California', 2000), ('California', 2010),\n",
    "         ('New York', 2000), ('New York', 2010),\n",
    "         ('Texas', 2000), ('Texas', 2010)\n",
    "         ]\n",
    "\n",
    "populations = [33871648, 37253956,\n",
    "               18976457, 19378102,\n",
    "               20851820, 25145561\n",
    "               ]\n",
    "\n",
    "pop = pd.Series(populations,index=index)\n",
    "pop"
   ]
  },
  {
   "cell_type": "markdown",
   "metadata": {},
   "source": [
    "**Ejercicio Propio**"
   ]
  },
  {
   "cell_type": "code",
   "execution_count": 51,
   "metadata": {},
   "outputs": [
    {
     "name": "stdout",
     "output_type": "stream",
     "text": [
      "Año: 2000\n",
      "  Estado: California, Población: 33871648\n",
      "  Estado: New York, Población: 18976457\n",
      "  Estado: Texas, Población: 20851820\n",
      "Año: 2010\n",
      "  Estado: California, Población: 37253956\n",
      "  Estado: New York, Población: 19378102\n",
      "  Estado: Texas, Población: 25145561\n"
     ]
    }
   ],
   "source": [
    "from itertools import groupby\n",
    "from operator import itemgetter\n",
    "\n",
    "# Paso 1: Definir los datos\n",
    "index = [('California', 2000), ('California', 2010),\n",
    "         ('New York', 2000), ('New York', 2010),\n",
    "         ('Texas', 2000), ('Texas', 2010)\n",
    "         ]\n",
    "\n",
    "populations = [33871648, 37253956,\n",
    "               18976457, 19378102,\n",
    "               20851820, 25145561\n",
    "               ]\n",
    "\n",
    "# Paso 2: Crear una lista de tuplas (estado, año, población)\n",
    "data = list(zip(index, populations))\n",
    "\n",
    "# Paso 3: Ordenar la lista de tuplas por año usando lambda\n",
    "data_sorted = sorted(data,key=lambda x: x[0][1])\n",
    "\n",
    "# grouped_data = groupby(data_sorted,key=lambda x: x[0][1])\n",
    "grouped_data = {key: list (group) for key, group in groupby(data_sorted,key=lambda x: x[0][1])}\n",
    "\n",
    "for year, group in grouped_data.items():\n",
    "    print(f\"Año: {year}\")\n",
    "    for (state,_),population in group:\n",
    "        print(f\"  Estado: {state}, Población: {population}\")        "
   ]
  },
  {
   "cell_type": "markdown",
   "metadata": {},
   "source": [
    "Con este esquema de indexación, puedes indexar o dividir directamente la serie basándote en este índice múltiple:"
   ]
  },
  {
   "cell_type": "code",
   "execution_count": 3,
   "metadata": {},
   "outputs": [
    {
     "data": {
      "text/plain": [
       "(California, 2010)    37253956\n",
       "(New York, 2000)      18976457\n",
       "(New York, 2010)      19378102\n",
       "(Texas, 2000)         20851820\n",
       "dtype: int64"
      ]
     },
     "execution_count": 3,
     "metadata": {},
     "output_type": "execute_result"
    }
   ],
   "source": [
    "pop[('California', 2010):('Texas', 2000)]"
   ]
  },
  {
   "cell_type": "markdown",
   "metadata": {},
   "source": [
    "pag 147"
   ]
  }
 ],
 "metadata": {
  "kernelspec": {
   "display_name": "base",
   "language": "python",
   "name": "python3"
  },
  "language_info": {
   "codemirror_mode": {
    "name": "ipython",
    "version": 3
   },
   "file_extension": ".py",
   "mimetype": "text/x-python",
   "name": "python",
   "nbconvert_exporter": "python",
   "pygments_lexer": "ipython3",
   "version": "3.11.7"
  }
 },
 "nbformat": 4,
 "nbformat_minor": 2
}
