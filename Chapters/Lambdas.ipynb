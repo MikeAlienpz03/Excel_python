{
 "cells": [
  {
   "cell_type": "code",
   "execution_count": 1,
   "metadata": {},
   "outputs": [],
   "source": [
    "import numpy as np"
   ]
  },
  {
   "attachments": {
    "image.png": {
     "image/png": "[encoded data removed]"
    }
   },
   "cell_type": "markdown",
   "metadata": {},
   "source": [
    "**Funciones Lambda**\n",
    "* Las funciones lambda en Python son funciones anónimas, es decir, funciones que no tienen nombre. Se utilizan principalmente para definir funciones cortas y simples sobre la marcha. La sintaxis básica es:\n",
    "\n",
    "* ![image.png](attachment:image.png)\n",
    "\n",
    "* La función lambda puede tener cualquier número de argumentos, pero solo una expresión. Aquí hay algunos ejemplos básicos:"
   ]
  },
  {
   "cell_type": "code",
   "execution_count": 2,
   "metadata": {},
   "outputs": [
    {
     "name": "stdout",
     "output_type": "stream",
     "text": [
      "5\n"
     ]
    }
   ],
   "source": [
    "#Una funcion lambda que suma dos numeros\n",
    "suma = lambda x, y: x + y\n",
    "print(suma(2,3))"
   ]
  },
  {
   "cell_type": "markdown",
   "metadata": {},
   "source": [
    "**Uso de Lambda con Diferentes Estructuras de Datos**\n",
    "\n",
    "* **Listas** Puedes usar funciones lambda con funciones integradas como:\n",
    " \n",
    "* **map()**\n",
    "* **filter()**\n",
    "* **sorted()** \n",
    "\n",
    "Para operar en las listas definidas\n",
    "\n",
    "**Uso de map()**\n",
    "\n",
    "* map(): Aplica una función a todos los elementos de una lista."
   ]
  },
  {
   "cell_type": "code",
   "execution_count": 8,
   "metadata": {},
   "outputs": [
    {
     "name": "stdout",
     "output_type": "stream",
     "text": [
      "[1, 4, 9, 16]\n"
     ]
    }
   ],
   "source": [
    "numeros = np.arange(1,5)\n",
    "cuadrados = list(map(lambda x: x ** 2,numeros))\n",
    "print(cuadrados)"
   ]
  },
  {
   "cell_type": "markdown",
   "metadata": {},
   "source": [
    "**filter():** Filtra los elementos de una lista que cumplen con una condición."
   ]
  },
  {
   "cell_type": "code",
   "execution_count": 7,
   "metadata": {},
   "outputs": [
    {
     "name": "stdout",
     "output_type": "stream",
     "text": [
      "[2, 4, 6]\n"
     ]
    }
   ],
   "source": [
    "numeros = list(np.arange(1,7))\n",
    "\n",
    "pares = list(filter(lambda x: x % 2 == 0, numeros))\n",
    "print(pares)"
   ]
  },
  {
   "cell_type": "markdown",
   "metadata": {},
   "source": [
    "**sorted():** Ordena los elementos de una lista, y puede tomar una función lambda como clave de ordenación."
   ]
  },
  {
   "cell_type": "code",
   "execution_count": 28,
   "metadata": {},
   "outputs": [
    {
     "name": "stdout",
     "output_type": "stream",
     "text": [
      "[(5, 0), (3, 1), (1, 2), (2, 4)]\n"
     ]
    }
   ],
   "source": [
    "puntos = [(1, 2), (3, 1), (5, 0), (2, 4)]\n",
    "grouped_data = sorted(puntos,key=lambda x: x[1])\n",
    "print(grouped_data)"
   ]
  },
  {
   "cell_type": "markdown",
   "metadata": {},
   "source": [
    "**Diccionarios**\n",
    "\n",
    "* Puedes usar funciones lambda con diccionarios para tareas como ordenar por claves o valores."
   ]
  },
  {
   "cell_type": "code",
   "execution_count": 44,
   "metadata": {},
   "outputs": [
    {
     "name": "stdout",
     "output_type": "stream",
     "text": [
      "Usando Itemgetter: {'Ana': 8, 'Luis': 9, 'Pedro': 7}\n",
      "Usando lambda: {'Ana': 8, 'Luis': 9, 'Pedro': 7}\n",
      "{'Pedro': 7, 'Ana': 8, 'Luis': 9}\n",
      "{'Luis': 9, 'Ana': 8, 'Pedro': 7}\n"
     ]
    }
   ],
   "source": [
    "from operator import itemgetter\n",
    "estudiantes = {'Ana': 8, 'Pedro': 7, 'Luis': 9}\n",
    "\n",
    "#ordenar por nombre\n",
    "sorted_students = dict(sorted(estudiantes.items(),key=itemgetter(0)))\n",
    "print(f\"Usando Itemgetter: {sorted_students}\")\n",
    "\n",
    "sorted_students_lambda = dict(sorted(estudiantes.items(), key=lambda item: item[0]))\n",
    "print(f\"Usando lambda: {sorted_students_lambda}\")\n",
    "\n",
    "#Ordenar por calificacion de menor a mayor\n",
    "sorted_values = dict(sorted(estudiantes.items(),key=lambda item: item[1]))\n",
    "print(sorted_values)\n",
    "\n",
    "#Ordenar por calificacion de mayor a menor\n",
    "sorted_values = dict(sorted(estudiantes.items(),key=lambda item: item[1],reverse=True))\n",
    "print(sorted_values)\n"
   ]
  },
  {
   "cell_type": "markdown",
   "metadata": {},
   "source": [
    "**Ejercicios para Practicar**\n",
    "* Multiplicar todos los elementos de una lista por 3 utilizando map() y una función lambda."
   ]
  },
  {
   "cell_type": "code",
   "execution_count": 48,
   "metadata": {},
   "outputs": [
    {
     "name": "stdout",
     "output_type": "stream",
     "text": [
      "[3, 6, 9, 12]\n"
     ]
    }
   ],
   "source": [
    "lista = np.arange(1,5)\n",
    "multiplicados = list(map(lambda x: x * 3,lista))\n",
    "print(multiplicados)"
   ]
  },
  {
   "cell_type": "markdown",
   "metadata": {},
   "source": [
    "* Filtrar los números negativos de una lista utilizando filter() y una función lambda."
   ]
  },
  {
   "cell_type": "code",
   "execution_count": 49,
   "metadata": {},
   "outputs": [
    {
     "name": "stdout",
     "output_type": "stream",
     "text": [
      "[-5, -2, -1]\n"
     ]
    }
   ],
   "source": [
    "numeros = [-5, -2, 0, 1, 4, -1]\n",
    "\n",
    "negativos = list(filter(lambda x: x < 0,numeros))\n",
    "print(negativos)\n"
   ]
  },
  {
   "cell_type": "markdown",
   "metadata": {},
   "source": [
    "* Ordenar una lista de diccionarios por un valor específico utilizando sorted() y una función lambda."
   ]
  },
  {
   "cell_type": "code",
   "execution_count": 58,
   "metadata": {},
   "outputs": [
    {
     "name": "stdout",
     "output_type": "stream",
     "text": [
      "[{'nombre': 'banana', 'precio': 8}, {'nombre': 'manzana', 'precio': 10}, {'nombre': 'naranja', 'precio': 12}]\n",
      "[{'nombre': 'banana', 'precio': 8}, {'nombre': 'manzana', 'precio': 10}, {'nombre': 'naranja', 'precio': 12}]\n"
     ]
    }
   ],
   "source": [
    "from operator import itemgetter\n",
    "productos = [{'nombre': 'manzana', 'precio': 10}, {'nombre': 'banana', 'precio': 8}, {'nombre': 'naranja', 'precio': 12}]\n",
    "\n",
    "sorted_price = sorted(productos,key=lambda x: x['precio'])\n",
    "print(sorted_price)\n",
    "\n",
    "sorted_price_item = sorted(productos,key=itemgetter('precio'))\n",
    "print(sorted_price_item)"
   ]
  },
  {
   "cell_type": "markdown",
   "metadata": {},
   "source": [
    "**Estructura de Datos Compleja**\n",
    "\n",
    "* Supongamos que tienes una lista de tuplas que representa datos de ventas en diferentes tiendas, donde cada tupla contiene una sub-tupla con el nombre de la tienda y la ciudad, y el valor es la cantidad vendida."
   ]
  },
  {
   "cell_type": "code",
   "execution_count": 59,
   "metadata": {},
   "outputs": [],
   "source": [
    "ventas = [(('Tienda A', 'Ciudad X'), 100),\n",
    "          (('Tienda B', 'Ciudad Y'), 200),\n",
    "          (('Tienda A', 'Ciudad X'), 150),\n",
    "          (('Tienda C', 'Ciudad Z'), 300),\n",
    "          (('Tienda B', 'Ciudad Y'), 50)]\n"
   ]
  },
  {
   "cell_type": "markdown",
   "metadata": {},
   "source": [
    "**Ejemplos de Operaciones con Funciones Lambda**\n",
    "1. Sumar las Ventas por Tienda\n",
    "Queremos sumar las ventas para cada tienda independientemente de la ciudad."
   ]
  },
  {
   "cell_type": "code",
   "execution_count": 63,
   "metadata": {},
   "outputs": [
    {
     "name": "stdout",
     "output_type": "stream",
     "text": [
      "[('Tienda A', 250), ('Tienda B', 250), ('Tienda C', 300)]\n"
     ]
    }
   ],
   "source": [
    "from collections import defaultdict\n",
    "\n",
    "\n",
    "#Crear un diccionario para almacenar las ventas por tienda\n",
    "ventas_por_tienda = defaultdict(int)\n",
    "\n",
    "for ((tienda, ciudad), venta) in ventas:\n",
    "    ventas_por_tienda[tienda] += venta\n",
    "\n",
    "    \n",
    "resultado = list(ventas_por_tienda.items())\n",
    "print(resultado)"
   ]
  },
  {
   "cell_type": "code",
   "execution_count": 81,
   "metadata": {},
   "outputs": [
    {
     "data": {
      "text/plain": [
       "[(('Tienda A', 'Ciudad X'), 100),\n",
       " (('Tienda B', 'Ciudad Y'), 200),\n",
       " (('Tienda A', 'Ciudad X'), 150),\n",
       " (('Tienda C', 'Ciudad Z'), 300),\n",
       " (('Tienda B', 'Ciudad Y'), 50)]"
      ]
     },
     "execution_count": 81,
     "metadata": {},
     "output_type": "execute_result"
    }
   ],
   "source": [
    "ventas"
   ]
  },
  {
   "cell_type": "code",
   "execution_count": 145,
   "metadata": {},
   "outputs": [
    {
     "name": "stdout",
     "output_type": "stream",
     "text": [
      "[('Tienda A', 250), ('Tienda B', 250), ('Tienda C', 300)]\n"
     ]
    }
   ],
   "source": [
    "from itertools import groupby\n",
    "\n",
    "sorted_store = sorted(ventas,key=lambda x: x[0][0])\n",
    "\n",
    "#agrupar los datos por tienda y sumar los valores\n",
    "resultados = []\n",
    "for tienda, price in groupby(sorted_store,key=lambda x: x[0][0]):\n",
    "    #Explicacion de como funcion\n",
    "    # print(tienda,price)\n",
    "    # for item in price:\n",
    "    #     print(item[1])\n",
    "\n",
    "#Mas simplificado\n",
    "    suma = sum(item[1] for item in price)\n",
    "    resultados.append((tienda,suma))\n",
    "\n",
    "print(resultados)"
   ]
  },
  {
   "cell_type": "markdown",
   "metadata": {},
   "source": [
    "2. Filtrar Ventas por Ciudad Específica\n",
    "Queremos filtrar todas las ventas que se realizaron en la \"Ciudad X\"."
   ]
  },
  {
   "cell_type": "code",
   "execution_count": 146,
   "metadata": {},
   "outputs": [
    {
     "data": {
      "text/plain": [
       "[(('Tienda A', 'Ciudad X'), 100),\n",
       " (('Tienda B', 'Ciudad Y'), 200),\n",
       " (('Tienda A', 'Ciudad X'), 150),\n",
       " (('Tienda C', 'Ciudad Z'), 300),\n",
       " (('Tienda B', 'Ciudad Y'), 50)]"
      ]
     },
     "execution_count": 146,
     "metadata": {},
     "output_type": "execute_result"
    }
   ],
   "source": [
    "ventas"
   ]
  },
  {
   "cell_type": "code",
   "execution_count": 171,
   "metadata": {},
   "outputs": [
    {
     "data": {
      "text/plain": [
       "'Ciudad X'"
      ]
     },
     "execution_count": 171,
     "metadata": {},
     "output_type": "execute_result"
    }
   ],
   "source": [
    "ventas[0][0][1]"
   ]
  },
  {
   "cell_type": "code",
   "execution_count": 206,
   "metadata": {},
   "outputs": [
    {
     "name": "stdout",
     "output_type": "stream",
     "text": [
      "Se filtro unicamente por la tienda Ciudad X\n",
      "[('Ciudad X', (100, 150))]\n"
     ]
    }
   ],
   "source": [
    "from itertools import groupby\n",
    "\n",
    "sales_sorted = sorted(ventas,key=lambda x: x[0][0])\n",
    "\n",
    "list_stores = []\n",
    "for key, sales in groupby(sales_sorted,key=lambda x: x[0][1]):\n",
    "    if key not in lista:\n",
    "        values = tuple(value[1] for value in sales)\n",
    "        \n",
    "        list_stores.append((key,values))\n",
    "        \n",
    "\n",
    "print(\"Se filtro unicamente por la tienda Ciudad X\")\n",
    "city_store_X = list(filter(lambda x: x[0] == \"Ciudad X\",list_stores))\n",
    "print(city_store_X)"
   ]
  },
  {
   "cell_type": "code",
   "execution_count": 174,
   "metadata": {},
   "outputs": [
    {
     "name": "stdout",
     "output_type": "stream",
     "text": [
      "[(('Tienda A', 'Ciudad X'), 100), (('Tienda A', 'Ciudad X'), 150)]\n"
     ]
    }
   ],
   "source": [
    "ciudad_x = list(filter(lambda x: x[0][1]=='Ciudad X',ventas))\n",
    "print(ciudad_x)"
   ]
  }
 ],
 "metadata": {
  "kernelspec": {
   "display_name": "base",
   "language": "python",
   "name": "python3"
  },
  "language_info": {
   "codemirror_mode": {
    "name": "ipython",
    "version": 3
   },
   "file_extension": ".py",
   "mimetype": "text/x-python",
   "name": "python",
   "nbconvert_exporter": "python",
   "pygments_lexer": "ipython3",
   "version": "3.11.7"
  }
 },
 "nbformat": 4,
 "nbformat_minor": 2
}
