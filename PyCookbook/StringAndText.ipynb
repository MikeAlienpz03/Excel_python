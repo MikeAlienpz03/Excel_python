{
 "cells": [
  {
   "cell_type": "markdown",
   "metadata": {},
   "source": [
    "**Strings and Text**\n",
    "* Casi todo programa útil implica algún tipo de procesamiento de texto, ya sea analizando datos o generando salida. \n",
    "* Este capítulo se centra en problemas comunes relacionados con la manipulación de texto, **como separar cadenas**, **búsqueda**, **sustitución**, **análisis léxico y análisis sintáctico**. \n",
    "\n",
    "* Muchas de estas tareas pueden resolverse fácilmente utilizando métodos integrados de cadenas. Sin embargo, operaciones más complicadas podrían requerir el uso de expresiones regulares o la creación de un analizador completo. Todos estos temas están cubiertos. Además, se abordan algunos aspectos complicados al trabajar con Unicode."
   ]
  },
  {
   "cell_type": "markdown",
   "metadata": {},
   "source": [
    "**Dividir cadenas en cualquiera de varios delimitadores**\n",
    "\n",
    "**Problema**\n",
    "* Necesitas dividir una cadena en campos, pero los delimitadores (y los espacios alrededor de ellos) no son consistentes a lo largo de la cadena.\n",
    "\n",
    "**Solución**\n",
    "* **El método split()** de los objetos de cadena está realmente diseñado para casos muy simples y no permite múltiples delimitadores ni tiene en cuenta los posibles espacios en blanco alrededor de los delimitadores.\n",
    " \n",
    "* En casos en los que necesites un poco más de flexibilidad, utiliza el **método re.split() (de expresiones regulares)**:"
   ]
  },
  {
   "cell_type": "code",
   "execution_count": 2,
   "metadata": {},
   "outputs": [],
   "source": [
    "import re"
   ]
  },
  {
   "cell_type": "code",
   "execution_count": 3,
   "metadata": {},
   "outputs": [
    {
     "data": {
      "text/plain": [
       "['asdf', 'fjdk', 'afed', 'fjek', 'asdf', 'foo']"
      ]
     },
     "execution_count": 3,
     "metadata": {},
     "output_type": "execute_result"
    }
   ],
   "source": [
    "line = 'asdf fjdk; afed, fjek,asdf,      foo'\n",
    "re.split(r'[;,\\s]\\s*', line)"
   ]
  },
  {
   "cell_type": "markdown",
   "metadata": {},
   "source": [
    "55"
   ]
  },
  {
   "cell_type": "code",
   "execution_count": null,
   "metadata": {},
   "outputs": [],
   "source": []
  }
 ],
 "metadata": {
  "kernelspec": {
   "display_name": "base",
   "language": "python",
   "name": "python3"
  },
  "language_info": {
   "codemirror_mode": {
    "name": "ipython",
    "version": 3
   },
   "file_extension": ".py",
   "mimetype": "text/x-python",
   "name": "python",
   "nbconvert_exporter": "python",
   "pygments_lexer": "ipython3",
   "version": "3.11.7"
  }
 },
 "nbformat": 4,
 "nbformat_minor": 2
}
