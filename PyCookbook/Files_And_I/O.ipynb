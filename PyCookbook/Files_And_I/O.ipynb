{
 "cells": [
  {
   "cell_type": "markdown",
   "metadata": {},
   "source": [
    "**CHAPTER 5 - Files and I/O**\n",
    "\n",
    "* Todos los programas necesitan realizar entrada y salida. Este capítulo cubre los modismos comunes para trabajar con diferentes tipos de archivos, incluidos archivos de texto y binarios, codificaciones de archivos y otros temas relacionados. También se abordan técnicas para manipular nombres de archivos y directorios."
   ]
  },
  {
   "cell_type": "markdown",
   "metadata": {},
   "source": [
    "**Reading and Writing Text Data**\n",
    "\n",
    "**Problema**\n",
    "* Necesitas leer o escribir datos de texto, posiblemente en diferentes codificaciones de texto como ASCII, UTF-8 o UTF-16.\n",
    "\n",
    "* **Solución**\n",
    "* Utiliza la **función open()** con el modo **'rt'** para leer un archivo de texto. Por ejemplo:"
   ]
  },
  {
   "cell_type": "code",
   "execution_count": 57,
   "metadata": {},
   "outputs": [
    {
     "name": "stdout",
     "output_type": "stream",
     "text": [
      "%matplotlib inline\n",
      "import numpy as np\n",
      "import matplotlib.pyplot as plt\n",
      "\n",
      "\n",
      "\"\"\"\n",
      "De esta manera podemos llamar a un modulo y sus funciones desde Jupyter Notebook en vscode\n",
      "\"\"\"\n",
      "%run \"../Algebra_lineal_Machine_Learning/Funciones_Auxiliares/GraficarVectores.ipynb\"\n",
      "\n",
      "def Graficar_Vectores(vecs, cols, alpha = 1):\n",
      "    plt.figure(figsize=(4,4))\n",
      "    plt.axvline(x= 0, color = \"grey\",zorder = 0)\n",
      "    plt.axhline(y= 0, color = \"grey\",zorder = 0)\n",
      "\n",
      "    for i in range(len(vecs)):\n",
      "        x = np.concatenate([[0,0], vecs[i]])\n",
      "        plt.quiver([x[0]],\n",
      "                   [x[1]],\n",
      "                   [x[2]],\n",
      "                   [x[3]],\n",
      "                   angles = \"xy\", scale_units = \"xy\",\n",
      "                   scale = 1,\n",
      "                   color = cols[i],\n",
      "                   alpha = alpha)\n",
      "\n",
      "\n",
      "Graficar_Vectores([v1,v2,v1v2],[\"green\",\"blue\",\"red\"])\n",
      "\n"
     ]
    }
   ],
   "source": [
    "# Abre el archivo en modo lectura de texto ('rt')\n",
    "with open('./codigo.txt', 'rt') as f:\n",
    "    # Lee todo el contenido del archivo en una sola cadena\n",
    "    contenido = f.read()\n",
    "\n",
    "# 'contenido' ahora contiene todo el contenido del archivo como una sola cadena\n",
    "print(contenido)"
   ]
  },
  {
   "cell_type": "code",
   "execution_count": 58,
   "metadata": {},
   "outputs": [
    {
     "name": "stdout",
     "output_type": "stream",
     "text": [
      "%matplotlib inline\n",
      "import numpy as np\n",
      "import matplotlib.pyplot as plt\n",
      "\n",
      "\n",
      "\"\"\"\n",
      "De esta manera podemos llamar a un modulo y sus funciones desde Jupyter Notebook en vscode\n",
      "\"\"\"\n",
      "%run \"../Algebra_lineal_Machine_Learning/Funciones_Auxiliares/GraficarVectores.ipynb\"\n",
      "\n",
      "def Graficar_Vectores(vecs, cols, alpha = 1):\n",
      "plt.figure(figsize=(4,4))\n",
      "plt.axvline(x= 0, color = \"grey\",zorder = 0)\n",
      "plt.axhline(y= 0, color = \"grey\",zorder = 0)\n",
      "\n",
      "for i in range(len(vecs)):\n",
      "x = np.concatenate([[0,0], vecs[i]])\n",
      "plt.quiver([x[0]],\n",
      "[x[1]],\n",
      "[x[2]],\n",
      "[x[3]],\n",
      "angles = \"xy\", scale_units = \"xy\",\n",
      "scale = 1,\n",
      "color = cols[i],\n",
      "alpha = alpha)\n",
      "\n",
      "\n",
      "Graficar_Vectores([v1,v2,v1v2],[\"green\",\"blue\",\"red\"])\n"
     ]
    }
   ],
   "source": [
    "# Abre el archivo en modo lectura de texto ('rt')\n",
    "with open('./codigo.txt', 'rt') as f:\n",
    "    # Itera sobre cada línea del archivo\n",
    "    for linea in f:\n",
    "        # Procesa cada línea como desees\n",
    "        # Ejemplo: imprime la línea eliminando espacios en blanco al inicio y al final\n",
    "        print(linea.strip())  \n"
   ]
  },
  {
   "cell_type": "markdown",
   "metadata": {},
   "source": [
    "* Del mismo modo, para escribir en un archivo de texto en Python, puedes usar la **función open()** con el **modo 'wt'** para escribir un archivo, limpiando y sobrescribiendo el contenido anterior (si lo hay). Aquí tienes un ejemplo:"
   ]
  },
  {
   "cell_type": "code",
   "execution_count": 59,
   "metadata": {},
   "outputs": [],
   "source": [
    "# Abre el archivo en modo escritura de texto ('wt')\n",
    "with open('./somefile.txt', 'wt') as f:\n",
    "    # Escribe contenido en el archivo\n",
    "    f.write('Hola, mundo!\\n')\n",
    "    f.write('Esta es otra línea.\\n')\n",
    "    f.write('Y una tercera línea.\\n')\n"
   ]
  },
  {
   "cell_type": "code",
   "execution_count": 60,
   "metadata": {},
   "outputs": [
    {
     "name": "stdout",
     "output_type": "stream",
     "text": [
      "Hola, mundo!\n",
      "Esta es otra línea.\n",
      "Y una tercera línea.\n",
      "\n"
     ]
    }
   ],
   "source": [
    "with open('./somefile.txt','rt') as f:\n",
    "    contenido = f.read()\n",
    "    \n",
    "\n",
    "print(contenido)"
   ]
  },
  {
   "cell_type": "markdown",
   "metadata": {},
   "source": [
    "* Para redirigir las declaraciones de impresión (print statements) a un archivo de texto en Python, puedes utilizar el parámetro file de la función print(). Aquí tienes un ejemplo de cómo hacerlo:"
   ]
  },
  {
   "cell_type": "code",
   "execution_count": 61,
   "metadata": {},
   "outputs": [],
   "source": [
    "# Abre el archivo en modo escritura de texto ('wt')\n",
    "with open('somefile.txt', 'wt') as f:\n",
    "    # Redirige las impresiones al archivo\n",
    "    print(\"Línea 1\", file=f)\n",
    "    print(\"Línea 2\", file=f)\n",
    "   \n"
   ]
  },
  {
   "cell_type": "code",
   "execution_count": 62,
   "metadata": {},
   "outputs": [
    {
     "name": "stdout",
     "output_type": "stream",
     "text": [
      "Línea 1\n",
      "Línea 2\n",
      "\n"
     ]
    }
   ],
   "source": [
    "with open('./somefile.txt','rt') as f:\n",
    "    contenido = f.read()\n",
    "    \n",
    "\n",
    "print(contenido)"
   ]
  },
  {
   "cell_type": "markdown",
   "metadata": {},
   "source": [
    "**5.5. Escribir en un archivo que no existe aún**\n",
    "\n",
    "**Problema**\n",
    "* Quieres escribir datos en un archivo, pero solo si aún no existe en el sistema de archivos.\n",
    "\n",
    "**Solución**\n",
    "* Este problema se resuelve fácilmente **utilizando el modo x en lugar del modo w con la función open()**. Por ejemplo:"
   ]
  },
  {
   "cell_type": "code",
   "execution_count": 63,
   "metadata": {},
   "outputs": [
    {
     "data": {
      "text/plain": [
       "'\\nwith open(\\'somefile2\\',\\'wt\\') as f:\\n    f.write(\\'Hello Loky\\')\\n\\nwith open(\\'somefile2\\',\\'xt\\') as f:\\n    f.write(\\'Hello Loky\\')\\n\\n    \\n Traceback (most recent call last):\\n  File \"<stdin>\", line 1, in <module>\\n FileExistsError: [Errno 17] File exists: \\'somefile\\'\\n'"
      ]
     },
     "execution_count": 63,
     "metadata": {},
     "output_type": "execute_result"
    }
   ],
   "source": [
    "\"\"\"\n",
    "with open('somefile2','wt') as f:\n",
    "    f.write('Hello Loky')\n",
    "\n",
    "with open('somefile2','xt') as f:\n",
    "    f.write('Hello Loky')\n",
    "\n",
    "    \n",
    " Traceback (most recent call last):\n",
    "  File \"<stdin>\", line 1, in <module>\n",
    " FileExistsError: [Errno 17] File exists: 'somefile'\n",
    "\"\"\""
   ]
  },
  {
   "cell_type": "markdown",
   "metadata": {},
   "source": [
    "**Discusión**\n",
    "* Esta receta ilustra una solución extremadamente elegante a un problema que a veces surge al escribir archivos (es decir, sobrescribir accidentalmente un archivo existente). Una solución alternativa es primero verificar la existencia del archivo de esta manera:"
   ]
  },
  {
   "cell_type": "code",
   "execution_count": 64,
   "metadata": {},
   "outputs": [
    {
     "name": "stdout",
     "output_type": "stream",
     "text": [
      "File already exists!!\n"
     ]
    }
   ],
   "source": [
    "import os  # Importa el módulo os para interactuar con el sistema operativo\n",
    "\n",
    "# Comprueba si el archivo 'somefile2.txt' no existe\n",
    "if not os.path.exists('somefile2.txt'):\n",
    "    # Si el archivo no existe, abre el archivo en modo de escritura de texto ('wt')\n",
    "    with open('somefile2.txt', 'wt') as f:\n",
    "        # Escribe 'Hello Loky, How are you?' en el archivo\n",
    "        f.write('Hello Loky, How are you?')\n",
    "else:\n",
    "    # Si el archivo ya existe, imprime 'File already exists!!'\n",
    "    print('File already exists!!')\n"
   ]
  },
  {
   "cell_type": "markdown",
   "metadata": {},
   "source": [
    "**5.12. Probando la existencia de un archivo**\n",
    "\n",
    "**Problema**\n",
    "* Necesitas verificar si un archivo o directorio existe.\n",
    "\n",
    "**Solución**\n",
    "* Utiliza el módulo os.path para verificar la existencia de un archivo o directorio. Por ejemplo:"
   ]
  },
  {
   "cell_type": "code",
   "execution_count": 65,
   "metadata": {},
   "outputs": [
    {
     "name": "stdout",
     "output_type": "stream",
     "text": [
      "True\n",
      "False\n"
     ]
    }
   ],
   "source": [
    "import os\n",
    "\n",
    "print(os.path.exists('somefile.txt'))\n",
    "print(os.path.exists('somefile4.txt'))"
   ]
  },
  {
   "cell_type": "markdown",
   "metadata": {},
   "source": [
    "* Puedes realizar pruebas adicionales para determinar qué tipo de archivo podría ser. Estas pruebas devuelven False si el archivo en cuestión no existe:"
   ]
  },
  {
   "cell_type": "code",
   "execution_count": 66,
   "metadata": {},
   "outputs": [
    {
     "data": {
      "text/plain": [
       "True"
      ]
     },
     "execution_count": 66,
     "metadata": {},
     "output_type": "execute_result"
    }
   ],
   "source": [
    "#Is a regular file\n",
    "os.path.isfile('./codigo.txt')"
   ]
  },
  {
   "cell_type": "code",
   "execution_count": 67,
   "metadata": {},
   "outputs": [
    {
     "data": {
      "text/plain": [
       "True"
      ]
     },
     "execution_count": 67,
     "metadata": {},
     "output_type": "execute_result"
    }
   ],
   "source": [
    "#Is a directory\n",
    "os.path.isdir(r'C:\\Users\\Mike\\Desktop/walmex')"
   ]
  },
  {
   "cell_type": "markdown",
   "metadata": {},
   "source": [
    "* Si necesitas obtener metadatos (como el tamaño del archivo o la fecha de modificación), eso también está disponible en el módulo os.path."
   ]
  },
  {
   "cell_type": "code",
   "execution_count": 68,
   "metadata": {},
   "outputs": [
    {
     "name": "stdout",
     "output_type": "stream",
     "text": [
      "856\n",
      "Wed Jul 17 04:42:49 2024\n"
     ]
    }
   ],
   "source": [
    "#Tamaño del archivo\n",
    "print(os.path.getsize('./codigo.txt'))\n",
    "\n",
    "#Fecha de modificacion\n",
    "import time\n",
    "print(time.ctime(os.path.getatime('./codigo.txt')))"
   ]
  },
  {
   "cell_type": "markdown",
   "metadata": {},
   "source": [
    "**5.13. Obteniendo un listado de directorio**\n",
    "\n",
    "**Problema**\n",
    "* Quieres obtener una lista de los archivos contenidos en un directorio en el sistema de archivos.\n",
    "\n",
    "**Solución**\n",
    "* Utiliza la función **os.listdir()** para obtener una lista de archivos en un directorio:\n"
   ]
  },
  {
   "cell_type": "code",
   "execution_count": 69,
   "metadata": {},
   "outputs": [
    {
     "name": "stdout",
     "output_type": "stream",
     "text": [
      "DirInterno\n",
      "DirInterno2\n",
      "DirInterno3\n"
     ]
    }
   ],
   "source": [
    "import os\n",
    "\n",
    "names = os.listdir(r'C:\\Users\\Mike\\Desktop/Dir')\n",
    "for dir in names:\n",
    "    print(dir)"
   ]
  },
  {
   "cell_type": "markdown",
   "metadata": {},
   "source": [
    "Esto te dará el listado bruto del directorio, incluyendo todos \n",
    " * los archivos. \n",
    " * subdirectorios.\n",
    " * enlaces simbólicos y demás. \n",
    " \n",
    "Si necesitas filtrar los datos de alguna manera, considera usar una comprensión de lista combinada con varias funciones del módulo os.path. Por ejemplo:"
   ]
  },
  {
   "cell_type": "code",
   "execution_count": 70,
   "metadata": {},
   "outputs": [
    {
     "name": "stdout",
     "output_type": "stream",
     "text": [
      "Flujos de Efectivo.xlsx\n",
      "Piramide Ratios ROE - copia.xlsx\n",
      "Piramide Ratios ROE.xlsx\n",
      "Walmex Analisis Vertical y Horizontal.xlsx\n",
      "Walmex Horizontal - Liquidez.xlsx\n"
     ]
    }
   ],
   "source": [
    "import os\n",
    "\n",
    "Directory = os.listdir(r'C:\\Users\\Mike\\Desktop/walmex')\n",
    "for files in Directory:\n",
    "    print(files)"
   ]
  },
  {
   "cell_type": "code",
   "execution_count": 71,
   "metadata": {},
   "outputs": [
    {
     "name": "stdout",
     "output_type": "stream",
     "text": [
      ".vscode\n",
      "Datos-faltantes\n",
      "Desarrollos Varios\n",
      "Entornos_Virtuales\n",
      "Funciones_Python\n",
      "Musica_python.ipynb\n",
      "Programacion Orientada Objetos Python\n",
      "Pruebas\n",
      "Regresion Logistica\n",
      "reports\n",
      "ScriptsShell\n",
      "Selenium\n",
      "web-scraping-master\n",
      "WhatsApp_Python\n"
     ]
    }
   ],
   "source": [
    "import os\n",
    "\n",
    "size = os.path.getsize(r'C:\\Users\\Mike\\Desktop/Data_Engineer')\n",
    "Directory = os.listdir(r'C:\\Users\\Mike\\Desktop/Data_Engineer')\n",
    "for files in Directory:\n",
    "    print(files)"
   ]
  },
  {
   "cell_type": "code",
   "execution_count": 72,
   "metadata": {},
   "outputs": [
    {
     "name": "stdout",
     "output_type": "stream",
     "text": [
      "C:\\Users\\Mike\\Desktop\\Data_Engineer\\.vscode\n",
      "C:\\Users\\Mike\\Desktop\\Data_Engineer\\Datos-faltantes\n",
      "C:\\Users\\Mike\\Desktop\\Data_Engineer\\Desarrollos Varios\n",
      "C:\\Users\\Mike\\Desktop\\Data_Engineer\\Entornos_Virtuales\n",
      "C:\\Users\\Mike\\Desktop\\Data_Engineer\\Funciones_Python\n",
      "C:\\Users\\Mike\\Desktop\\Data_Engineer\\Musica_python.ipynb\n",
      "Archivo: Musica_python.ipynb, Tamaño: 1844 bytes\n",
      "C:\\Users\\Mike\\Desktop\\Data_Engineer\\Programacion Orientada Objetos Python\n",
      "C:\\Users\\Mike\\Desktop\\Data_Engineer\\Pruebas\n",
      "C:\\Users\\Mike\\Desktop\\Data_Engineer\\Regresion Logistica\n",
      "C:\\Users\\Mike\\Desktop\\Data_Engineer\\reports\n",
      "C:\\Users\\Mike\\Desktop\\Data_Engineer\\ScriptsShell\n",
      "C:\\Users\\Mike\\Desktop\\Data_Engineer\\Selenium\n",
      "C:\\Users\\Mike\\Desktop\\Data_Engineer\\web-scraping-master\n",
      "C:\\Users\\Mike\\Desktop\\Data_Engineer\\WhatsApp_Python\n"
     ]
    }
   ],
   "source": [
    "import os\n",
    "\n",
    "ruta = r'C:\\Users\\Mike\\Desktop\\Data_Engineer'\n",
    "#names = [name for name in os.listdir(ruta) if os.path.isfile(os.path.join(ruta,name))]\n",
    "\n",
    "for name in os.listdir(ruta):\n",
    "    # Construye la ruta completa de cada archivo\n",
    "    full_path = os.path.join(ruta, name)\n",
    "    print(full_path)\n",
    "    # Comprueba si es un archivo regular\n",
    "    if os.path.isfile(full_path):\n",
    "        print(f\"Archivo: {name}, Tamaño: {os.path.getsize(full_path)} bytes\")\n",
    "\n"
   ]
  },
  {
   "cell_type": "code",
   "execution_count": 73,
   "metadata": {},
   "outputs": [
    {
     "name": "stdout",
     "output_type": "stream",
     "text": [
      "['Musica_python.ipynb']\n"
     ]
    }
   ],
   "source": [
    "import os\n",
    "\n",
    "ruta = r'C:\\Users\\Mike\\Desktop\\Data_Engineer'\n",
    "names = [name for name in os.listdir(ruta) if os.path.isfile(os.path.join(ruta,name))]\n",
    "print(names)"
   ]
  },
  {
   "cell_type": "code",
   "execution_count": 74,
   "metadata": {},
   "outputs": [],
   "source": [
    "for name in os.listdir(ruta):\n",
    "    if os.path.isdir:\n",
    "        full_path = os.path.join(ruta,name)\n",
    "\n",
    "    # print(name)"
   ]
  },
  {
   "attachments": {
    "image.png": {
     "image/png": "[encoded data removed]"
    }
   },
   "cell_type": "markdown",
   "metadata": {},
   "source": [
    "![image.png](attachment:image.png)"
   ]
  },
  {
   "cell_type": "code",
   "execution_count": 75,
   "metadata": {},
   "outputs": [
    {
     "data": {
      "text/plain": [
       "['.vscode',\n",
       " 'Datos-faltantes',\n",
       " 'Desarrollos Varios',\n",
       " 'Entornos_Virtuales',\n",
       " 'Funciones_Python',\n",
       " 'Programacion Orientada Objetos Python',\n",
       " 'Pruebas',\n",
       " 'Regresion Logistica',\n",
       " 'reports',\n",
       " 'ScriptsShell',\n",
       " 'Selenium',\n",
       " 'web-scraping-master',\n",
       " 'WhatsApp_Python']"
      ]
     },
     "execution_count": 75,
     "metadata": {},
     "output_type": "execute_result"
    }
   ],
   "source": [
    "dirnames = [\n",
    "    name for name in os.listdir(ruta) \n",
    "    if os.path.isdir(os.path.join(ruta, name))]\n",
    "\n",
    "\n",
    "dirnames"
   ]
  },
  {
   "cell_type": "markdown",
   "metadata": {},
   "source": [
    "**Los métodos startswith() y endswith()** de las cadenas de texto también pueden ser útiles para filtrar el contenido de un directorio. Por ejemplo:"
   ]
  },
  {
   "cell_type": "code",
   "execution_count": 76,
   "metadata": {},
   "outputs": [
    {
     "data": {
      "text/plain": [
       "['App.py',\n",
       " 'ApplicationFirstBook.py',\n",
       " 'helloWorld.py',\n",
       " 'Mv.py',\n",
       " 'prueba.py',\n",
       " 'scrollbar_2_max.py',\n",
       " 'SuperhelloWorld.py',\n",
       " 'Tabulacion_por_pantalla.py']"
      ]
     },
     "execution_count": 76,
     "metadata": {},
     "output_type": "execute_result"
    }
   ],
   "source": [
    "ruta2 = r'C:\\Users\\Mike\\Desktop\\PythonOOP\\TkinterClases/PequeñasFuncionalidades'\n",
    "\n",
    "pyfiles = [\n",
    "    name for name in os.listdir(ruta2) \n",
    "    if name.endswith('.py')\n",
    "    ]\n",
    "\n",
    "pyfiles"
   ]
  },
  {
   "cell_type": "markdown",
   "metadata": {},
   "source": [
    "\n",
    "Para hacer coincidir nombres de archivo, puede ser más útil utilizar los módulos glob o fnmatch en su lugar. Por ejemplo:\n",
    "\n",
    "\n"
   ]
  },
  {
   "cell_type": "markdown",
   "metadata": {},
   "source": [
    "**glob** \n",
    "\n",
    "* se utiliza para buscar archivos y directorios utilizando patrones de coincidencia.\n",
    "\n",
    "**fnmatch**\n",
    "* se utiliza para realizar coincidencias de nombres de archivo utilizando patrones de caracteres similares a los utilizados en las shells Unix."
   ]
  },
  {
   "cell_type": "code",
   "execution_count": 87,
   "metadata": {},
   "outputs": [
    {
     "data": {
      "text/plain": [
       "['App.py',\n",
       " 'ApplicationFirstBook.py',\n",
       " 'helloWorld.py',\n",
       " 'Mv.py',\n",
       " 'prueba.py',\n",
       " 'scrollbar_2_max.py',\n",
       " 'SuperhelloWorld.py',\n",
       " 'Tabulacion_por_pantalla.py']"
      ]
     },
     "execution_count": 87,
     "metadata": {},
     "output_type": "execute_result"
    }
   ],
   "source": [
    "from fnmatch import fnmatch\n",
    "\n",
    "pyfiles = [name for name in os.listdir(ruta2)\n",
    "           if fnmatch(name,'*.py')]\n",
    "\n",
    "pyfiles"
   ]
  }
 ],
 "metadata": {
  "kernelspec": {
   "display_name": "base",
   "language": "python",
   "name": "python3"
  },
  "language_info": {
   "codemirror_mode": {
    "name": "ipython",
    "version": 3
   },
   "file_extension": ".py",
   "mimetype": "text/x-python",
   "name": "python",
   "nbconvert_exporter": "python",
   "pygments_lexer": "ipython3",
   "version": "3.11.7"
  }
 },
 "nbformat": 4,
 "nbformat_minor": 2
}
