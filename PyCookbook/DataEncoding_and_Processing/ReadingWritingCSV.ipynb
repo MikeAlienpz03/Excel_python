{
 "cells": [
  {
   "cell_type": "code",
   "execution_count": 11,
   "metadata": {},
   "outputs": [
    {
     "name": "stdout",
     "output_type": "stream",
     "text": [
      "['Miguel', 'Rodriguez', '1000', 'MX']\n",
      "['Loky', 'Gil', '300', 'MX']\n",
      "['Edgar', 'Contreras', '800', 'JP']\n",
      "['Mariana', 'Carbajal', '1200', 'FR']\n"
     ]
    }
   ],
   "source": [
    "import csv\n",
    "\n",
    "with open('./Sales.csv') as f:\n",
    "    f_csv = csv.reader(f)\n",
    "    headers = next(f_csv)   \n",
    "    for row in f_csv:\n",
    "        print(row)"
   ]
  },
  {
   "cell_type": "markdown",
   "metadata": {},
   "source": [
    "194"
   ]
  }
 ],
 "metadata": {
  "kernelspec": {
   "display_name": "base",
   "language": "python",
   "name": "python3"
  },
  "language_info": {
   "codemirror_mode": {
    "name": "ipython",
    "version": 3
   },
   "file_extension": ".py",
   "mimetype": "text/x-python",
   "name": "python",
   "nbconvert_exporter": "python",
   "pygments_lexer": "ipython3",
   "version": "3.11.7"
  }
 },
 "nbformat": 4,
 "nbformat_minor": 2
}
