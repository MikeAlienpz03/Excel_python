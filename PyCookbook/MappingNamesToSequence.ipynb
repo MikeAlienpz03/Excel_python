{
 "cells": [
  {
   "cell_type": "markdown",
   "metadata": {},
   "source": [
    "**Asignación de nombres a elementos de secuencia**\n",
    "\n",
    "**Problema**\n",
    "* Tiene código que accede a elementos de listas o tuplas por posición, pero esto hace que el código sea a veces algo difícil de leer. También le gustaría depender menos de la posición en la estructura, accediendo a los elementos por su nombre.\n",
    "\n",
    "**Solución**\n",
    "\n",
    "* **collections.namedtuple()**\n",
    "* proporciona estas ventajas, al tiempo que añade una sobrecarga mínima sobre el uso de un objeto tupla normal. **collections.namedtuple() es en realidad un método de fábrica que devuelve una subclase del tipo de tupla estándar de Python.** Se le da un nombre de tipo y los campos que debe tener, y devuelve una clase que se puede instanciar, pasándole los valores de los campos que se han especificado.  valores para los campos que has definido, y así sucesivamente. Por ejemplo:\n",
    "\n",
    "* Las tuplas con nombre son como las tuplas normales, pero los campos pueden ser accedidos tanto por índice de posición como por nombre de atributo. Esto hace que el código sea más legible y auto-documentado."
   ]
  },
  {
   "cell_type": "code",
   "execution_count": 6,
   "metadata": {},
   "outputs": [
    {
     "name": "stdout",
     "output_type": "stream",
     "text": [
      "Juan\n",
      "30\n",
      "Ingeniero\n",
      "Juan\n",
      "30\n",
      "Ingeniero\n"
     ]
    }
   ],
   "source": [
    "from collections import namedtuple\n",
    "\n",
    "# Crear una clase de tupla con nombre 'Persona'\n",
    "Persona = namedtuple('Persona',\n",
    "                      ['nombre', 'edad', 'profesion'])\n",
    "\n",
    "# Crear una instancia de 'Persona'\n",
    "persona1 = Persona(nombre='Juan', edad=30, profesion='Ingeniero')\n",
    "\n",
    "# Acceso a los campos por nombre\n",
    "print(persona1.nombre)     # Salida: Juan\n",
    "print(persona1.edad)       # Salida: 30\n",
    "print(persona1.profesion)  # Salida: Ingeniero\n",
    "\n",
    "# Acceso a los campos por índice\n",
    "print(persona1[0])         # Salida: Juan\n",
    "print(persona1[1])         # Salida: 30\n",
    "print(persona1[2])         # Salida: Ingeniero"
   ]
  },
  {
   "cell_type": "markdown",
   "metadata": {},
   "source": [
    "1) **Agrupación de Datos Relacionados:** Cuando se necesita agrupar varios datos relacionados, como las coordenadas de un punto (x, y) o los detalles de una persona (nombre, edad, profesión), las tuplas con nombre proporcionan una forma clara y eficiente de hacerlo.\n",
    "\n",
    "2) **Acceso a Datos de Forma Clara:** Facilitan el acceso a los datos mediante nombres de atributos en lugar de índices, lo que hace que el código sea más fácil de entender y mantener.\n",
    "\n",
    "3) **Sustitución de Clases Simples:** En casos donde se requiere una estructura de datos simple sin la necesidad de métodos adicionales, las tuplas con nombre pueden ser una alternativa ligera a las clases definidas con **class**."
   ]
  },
  {
   "cell_type": "markdown",
   "metadata": {},
   "source": [
    "**Ejemplo en Contexto Real**\n",
    "\n",
    "* Supongamos que estás trabajando en una aplicación que gestiona los datos de empleados. Puedes usar namedtuple para representar a cada empleado de una manera clara y concisa."
   ]
  },
  {
   "cell_type": "code",
   "execution_count": 11,
   "metadata": {},
   "outputs": [
    {
     "name": "stdout",
     "output_type": "stream",
     "text": [
      "Empleado: Ana Pérez, Puesto: Desarrolladora, Salario: $60000\n",
      "Empleado: Carlos López, Puesto: Diseñador, Salario: $55000\n"
     ]
    }
   ],
   "source": [
    "from collections import namedtuple\n",
    "\n",
    "# Definir la tupla con nombre 'Empleado'\n",
    "Empleado = namedtuple('Empleado', ['id', 'nombre', 'puesto', 'salario'])\n",
    "\n",
    "# Crear instancias de 'Empleado'\n",
    "empleado1 = Empleado(id=1, nombre='Ana Pérez', puesto='Desarrolladora', salario=60000)\n",
    "empleado2 = Empleado(id=2, nombre='Carlos López', puesto='Diseñador', salario=55000)\n",
    "\n",
    "# Acceso a los datos de manera clara\n",
    "print(f\"Empleado: {empleado1.nombre}, Puesto: {empleado1.puesto}, Salario: ${empleado1.salario}\")\n",
    "print(f\"Empleado: {empleado2.nombre}, Puesto: {empleado2.puesto}, Salario: ${empleado2.salario}\")\n"
   ]
  },
  {
   "cell_type": "markdown",
   "metadata": {},
   "source": [
    "**Ejemplo**"
   ]
  },
  {
   "cell_type": "code",
   "execution_count": 20,
   "metadata": {},
   "outputs": [
    {
     "name": "stdout",
     "output_type": "stream",
     "text": [
      "jonesy@example.com\n",
      "2012-10-19\n",
      "\n",
      "jonesy@example.com\n",
      "2012-10-19\n"
     ]
    }
   ],
   "source": [
    "from collections import namedtuple\n",
    "\n",
    "subscriber = namedtuple('suscriber', ['addr','joined'])\n",
    "\n",
    "#instanciamos la subclase 'namedtuple'\n",
    "sub = subscriber(addr='jonesy@example.com',joined='2012-10-19')\n",
    "\n",
    "#accedemos a la iformacion por medio del atributo\n",
    "print(sub.addr)\n",
    "print(sub.joined)\n",
    "print(\"\")\n",
    "#accedemos a la informacion por indice\n",
    "print(sub[0])\n",
    "print(sub[1])"
   ]
  },
  {
   "cell_type": "markdown",
   "metadata": {},
   "source": [
    "* Uno de los principales usos de las tuplas con nombre **(namedtuple)** es desvincular el código de la posición de los elementos que manipula \n",
    "\n",
    "* Así, si recibes una gran lista de tuplas de una llamada a la base de datos, luego las manipulas accediendo a los elementos posicionales, tu código podría romperse si, añades una nueva columna a la tabla sin embargo esto no ocurre si primero convierte las tuplas devueltas a tuplas con nombre.\n",
    "\n",
    "Para ilustrarlo, a continuación se muestra un código que utiliza tuplas normales:"
   ]
  },
  {
   "cell_type": "code",
   "execution_count": 22,
   "metadata": {},
   "outputs": [
    {
     "name": "stdout",
     "output_type": "stream",
     "text": [
      "2\n"
     ]
    }
   ],
   "source": [
    "def compute_cost(records):\n",
    "    total = 0.0\n",
    "    for rec in records:\n",
    "        total += rec[1] * rec[2]\n",
    "    return total"
   ]
  },
  {
   "cell_type": "markdown",
   "metadata": {},
   "source": [
    " Naturalmente, puede evitar la conversión explícita a la Stock namedtuple si la secuencia de registros del ejemplo ya contiene instancias de este tipo."
   ]
  },
  {
   "cell_type": "code",
   "execution_count": 24,
   "metadata": {},
   "outputs": [],
   "source": [
    "from collections import namedtuple\n",
    "\n",
    "Stock = namedtuple('Stock', ['name', 'shares', 'price'])\n",
    "\n",
    "def compute_cost(records):\n",
    "   total = 0.0\n",
    "   for rec in records:\n",
    "    s = Stock(*rec)\n",
    "    total += s.shares * s.price\n",
    "    return total"
   ]
  },
  {
   "cell_type": "markdown",
   "metadata": {},
   "source": [
    "**Discusión**\n",
    "* Un posible uso de una namedtuple es como sustituto de un diccionario, que requiere más espacio para su almacenamiento. Por lo tanto, si usted está construyendo grandes estructuras de datos que implican diccionarios, \n",
    "\n",
    "* el uso de una namedtuple será más eficiente. Sin embargo, tenga en cuenta que, a diferencia de un diccionario una namedtuple es inmutable. Por ejemplo:"
   ]
  },
  {
   "cell_type": "code",
   "execution_count": 29,
   "metadata": {},
   "outputs": [],
   "source": [
    "s = Stock(name='ACME',shares=100,price=123.45)"
   ]
  },
  {
   "cell_type": "markdown",
   "metadata": {},
   "source": [
    "Si necesita cambiar alguno de los atributos, puede hacerlo utilizando el **método _replace()** de una instancia namedtuple, que crea una namedtuple completamente nueva con los valores especificados sustituidos. Por ejemplo:"
   ]
  },
  {
   "cell_type": "code",
   "execution_count": 30,
   "metadata": {},
   "outputs": [
    {
     "data": {
      "text/plain": [
       "Stock(name='ACME', shares=75, price=123.45)"
      ]
     },
     "execution_count": 30,
     "metadata": {},
     "output_type": "execute_result"
    }
   ],
   "source": [
    "s = s._replace(shares=75)\n",
    "s"
   ]
  },
  {
   "cell_type": "markdown",
   "metadata": {},
   "source": [
    "* Un uso sutil del método _replace() es que puede ser una forma conveniente de rellenar tuplas con nombre que tienen campos opcionales o que faltan. \n",
    "\n",
    "* Para ello, se crea un prototipo tupla que contenga los valores por defecto y luego use _replace() para crear nuevas instancias con los valores reemplazados. Por ejemplo:"
   ]
  },
  {
   "cell_type": "code",
   "execution_count": 34,
   "metadata": {},
   "outputs": [],
   "source": [
    "from collections import namedtuple\n",
    "\n",
    "Stock = namedtuple('Stock', ['name','shares','price','date','time'])\n",
    "\n",
    "#create a prototype instance\n",
    "stock_prototype = Stock('',0,0.0,None,None)\n",
    "\n",
    "# Function to convert a dictionary to a Stock\n",
    "def dict_to_stock(s):\n",
    "    \"\"\"\n",
    "    Está desempaquetando un diccionario y \n",
    "    pasándolo como argumentos de palabra clave al método _replace.\n",
    "    \"\"\"\n",
    "    return stock_prototype._replace(**s)"
   ]
  },
  {
   "cell_type": "code",
   "execution_count": 35,
   "metadata": {},
   "outputs": [
    {
     "data": {
      "text/plain": [
       "Stock(name='ACME', shares=100, price=123.45, date=None, time=None)"
      ]
     },
     "execution_count": 35,
     "metadata": {},
     "output_type": "execute_result"
    }
   ],
   "source": [
    "a = {'name': 'ACME', 'shares': 100, 'price': 123.45}\n",
    "dict_to_stock(a)"
   ]
  },
  {
   "cell_type": "code",
   "execution_count": 36,
   "metadata": {},
   "outputs": [
    {
     "data": {
      "text/plain": [
       "Stock(name='ACME', shares=100, price=123.45, date='12/17/2012', time=None)"
      ]
     },
     "execution_count": 36,
     "metadata": {},
     "output_type": "execute_result"
    }
   ],
   "source": [
    "b = {'name': 'ACME', 'shares': 100, 'price': 123.45, 'date': '12/17/2012'}\n",
    "dict_to_stock(b)"
   ]
  },
  {
   "cell_type": "markdown",
   "metadata": {},
   "source": [
    "**Importante**\n",
    "\n",
    "*  Por último, pero no menos importante, es necesario señalar que si tu objetivo es definir una estructura de datos eficiente en la que cambiarás varios atributos de instancia, usar namedtuple no es la mejor opción. En su lugar, considera definir una clase utilizando __slots__"
   ]
  },
  {
   "cell_type": "markdown",
   "metadata": {},
   "source": [
    "pag 55"
   ]
  }
 ],
 "metadata": {
  "kernelspec": {
   "display_name": "base",
   "language": "python",
   "name": "python3"
  },
  "language_info": {
   "codemirror_mode": {
    "name": "ipython",
    "version": 3
   },
   "file_extension": ".py",
   "mimetype": "text/x-python",
   "name": "python",
   "nbconvert_exporter": "python",
   "pygments_lexer": "ipython3",
   "version": "3.11.7"
  }
 },
 "nbformat": 4,
 "nbformat_minor": 2
}
