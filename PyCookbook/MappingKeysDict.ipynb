{
 "cells": [
  {
   "cell_type": "markdown",
   "metadata": {},
   "source": [
    "**Asignación de claves a múltiples valores en un diccionario**\n",
    "\n",
    "**Problema**\n",
    "\n",
    "* Desea crear un diccionario que asigne claves a más de un valor (lo que se denomina \"multidict\").\n",
    "\n",
    "**Solución**\n",
    "\n",
    "* Un diccionario es una asignación en la que cada clave se asigna a un único valor. Si desea asignar claves a múltiples valores, necesita almacenar los valores múltiples en otro contenedor\n",
    " como una lista o un conjunto. Por ejemplo, puede crear diccionarios como los siguientes"
   ]
  },
  {
   "cell_type": "code",
   "execution_count": 1,
   "metadata": {},
   "outputs": [],
   "source": [
    "d = {\n",
    " 'a' : [1, 2, 3],\n",
    " 'b' : [4, 5]\n",
    " }\n",
    "\n",
    "e = {\n",
    " 'a' : {1, 2, 3},\n",
    " 'b' : {4, 5}\n",
    " }"
   ]
  },
  {
   "cell_type": "markdown",
   "metadata": {},
   "source": [
    " La decisión de utilizar o no listas o conjuntos depende del uso previsto. Utilice una lista si desea conservar el orden de inserción de los elementos. Utilice un conjunto si desea eliminar\n",
    " duplicados (y no le importa el orden)."
   ]
  },
  {
   "cell_type": "markdown",
   "metadata": {},
   "source": [
    "**defultdict**"
   ]
  },
  {
   "cell_type": "markdown",
   "metadata": {},
   "source": [
    " Para construir fácilmente estos diccionarios, puede utilizar defaultdict en el módulo collections. Una característica de defaultdict es que inicializa automáticamente el primer valor para que usted puede simplemente centrarse en la adición de elementos. Por ejemplo:"
   ]
  },
  {
   "cell_type": "code",
   "execution_count": 13,
   "metadata": {},
   "outputs": [
    {
     "data": {
      "text/plain": [
       "defaultdict(list, {'a': [1, 2], 'b': [4, 10]})"
      ]
     },
     "execution_count": 13,
     "metadata": {},
     "output_type": "execute_result"
    }
   ],
   "source": [
    "from collections import defaultdict\n",
    "\n",
    "\"\"\"\n",
    "Es la forma de crear un diccionario que tiene listas por ejemplo\n",
    "\n",
    "d = {\n",
    "        \"a\" : [],\n",
    "        \"b\" : []\n",
    "    }\n",
    "\n",
    "de una manera más sencilla por asi decirlo\n",
    "\"\"\"\n",
    "d = defaultdict(list)\n",
    "d['a'].append(1)\n",
    "d['a'].append(2)\n",
    "d['b'].append(4)\n",
    "d['b'].append(10)\n",
    "\n",
    "d"
   ]
  },
  {
   "cell_type": "code",
   "execution_count": 14,
   "metadata": {},
   "outputs": [
    {
     "data": {
      "text/plain": [
       "defaultdict(set, {'a': {1, 2}, 'b': {4}})"
      ]
     },
     "execution_count": 14,
     "metadata": {},
     "output_type": "execute_result"
    }
   ],
   "source": [
    "\"\"\"\n",
    "Es la forma de crear un diccionario que tiene listas por ejemplo\n",
    "\n",
    "d = {\n",
    "        \"a\" : {},\n",
    "        \"b\" : {}\n",
    "    }\n",
    "\n",
    "de una manera más sencilla por asi decirlo\n",
    "\"\"\"\n",
    "\n",
    "d = defaultdict(set)\n",
    "\n",
    "d['a'].add(1)\n",
    "d['a'].add(2)\n",
    "d['b'].add(4)\n",
    "\n",
    "d"
   ]
  },
  {
   "cell_type": "markdown",
   "metadata": {},
   "source": [
    "Sin embargo esta es la mejor practica para crear los diccionarios"
   ]
  },
  {
   "cell_type": "code",
   "execution_count": 20,
   "metadata": {},
   "outputs": [
    {
     "data": {
      "text/plain": [
       "{'a': [1, 2], 'b': [4]}"
      ]
     },
     "execution_count": 20,
     "metadata": {},
     "output_type": "execute_result"
    }
   ],
   "source": [
    "d = {}    # A regular dictionary\n",
    "d.setdefault('a', []).append(1)\n",
    "d.setdefault('a', []).append(2)\n",
    "d.setdefault('b', []).append(4)\n",
    "\n",
    "d"
   ]
  },
  {
   "cell_type": "markdown",
   "metadata": {},
   "source": [
    "**Discusión**\n",
    "\n",
    " En principio, construir un diccionario multivaluado es sencillo. Sin embargo, la inicialización del primer valor puede ser complicada si intenta hacerlo usted mismo. Por ejemplo, puede tener un código como el siguiente:"
   ]
  },
  {
   "cell_type": "code",
   "execution_count": 45,
   "metadata": {},
   "outputs": [],
   "source": [
    "pairs = [('a', 1), ('b', 2), ('a', 3), ('c', 4), ('b', 5)]"
   ]
  },
  {
   "cell_type": "markdown",
   "metadata": {},
   "source": [
    "**Utilización de itemgetter:**\n",
    "\n",
    "**Función básica:**\n",
    "* itemgetter se usa para recuperar elementos específicos de una secuencia (como una lista, tupla, o cualquier objeto que soporte indexación) o claves de un diccionario.\n",
    "\n",
    "**Cómo funciona:**\n",
    "\n",
    "* Cuando llamas a itemgetter(index), creas una función que, cuando se aplica a un objeto, devuelve el elemento en la posición index de ese objeto.\n",
    "Puede tomar múltiples índices y devolverá una tupla de los elementos correspondientes."
   ]
  },
  {
   "cell_type": "code",
   "execution_count": 70,
   "metadata": {},
   "outputs": [
    {
     "name": "stdout",
     "output_type": "stream",
     "text": [
      "a 1\n",
      "b 2\n",
      "a 3\n",
      "c 4\n",
      "b 5\n"
     ]
    }
   ],
   "source": [
    "from operator import itemgetter\n",
    "key_getter = itemgetter(0)\n",
    "\n",
    "for pair in pairs:\n",
    "    print(key_getter(pair),pair[1])"
   ]
  },
  {
   "cell_type": "code",
   "execution_count": 69,
   "metadata": {},
   "outputs": [
    {
     "name": "stdout",
     "output_type": "stream",
     "text": [
      "a 1 {'a': [1]}\n",
      "b 2 {'a': [1], 'b': [2]}\n",
      "a 3 {'a': [1, 3], 'b': [2]}\n",
      "c 4 {'a': [1, 3], 'b': [2], 'c': [4]}\n",
      "b 5 {'a': [1, 3], 'b': [2, 5], 'c': [4]}\n"
     ]
    },
    {
     "data": {
      "text/plain": [
       "{'a': [1, 3], 'b': [2, 5], 'c': [4]}"
      ]
     },
     "execution_count": 69,
     "metadata": {},
     "output_type": "execute_result"
    }
   ],
   "source": [
    "from operator import itemgetter\n",
    "key_getter = itemgetter(0)\n",
    "\n",
    "d = {}\n",
    "for pair in pairs:\n",
    "    itemgetter_value =(key_getter(pair))\n",
    "    value = pair[1]\n",
    "    if itemgetter_value not in d:\n",
    "        d[itemgetter_value] = []\n",
    "\n",
    "    d[itemgetter_value].append(value)\n",
    "    print(itemgetter_value, value,d)\n",
    "\n",
    "d"
   ]
  },
  {
   "cell_type": "code",
   "execution_count": 42,
   "metadata": {},
   "outputs": [
    {
     "name": "stdout",
     "output_type": "stream",
     "text": [
      "{'a': [1, 3], 'b': [2, 5], 'c': [4]}\n"
     ]
    }
   ],
   "source": [
    "from operator import itemgetter\n",
    "\n",
    "pairs = [('a', 1), ('b', 2), ('a', 3), ('c', 4), ('b', 5)]\n",
    "\n",
    "d = {}\n",
    "key_getter = itemgetter(0)    # Función para obtener el primer elemento de una tupla\n",
    "\n",
    "for pair in pairs:\n",
    "    key = key_getter(pair)    # Obtener la clave de la tupla\n",
    "    value = pair[1]           # Obtener el valor de la tupla (segundo elemento)\n",
    "    if key not in d:\n",
    "        d[key] = []           # Inicializar una lista vacía si la clave no está en el diccionario\n",
    "    d[key].append(value)      # Agregar el valor a la lista correspondiente en d\n",
    "\n",
    "print(d)\n",
    "\n"
   ]
  },
  {
   "cell_type": "code",
   "execution_count": 79,
   "metadata": {},
   "outputs": [
    {
     "name": "stdout",
     "output_type": "stream",
     "text": [
      "a 1 {'a': [1]}\n",
      "b 2 {'a': [1], 'b': [2]}\n",
      "a 3 {'a': [1, 3], 'b': [2]}\n",
      "c 4 {'a': [1, 3], 'b': [2], 'c': [4]}\n",
      "b 5 {'a': [1, 3], 'b': [2, 5], 'c': [4]}\n"
     ]
    },
    {
     "data": {
      "text/plain": [
       "{'a': [1, 3], 'b': [2, 5], 'c': [4]}"
      ]
     },
     "execution_count": 79,
     "metadata": {},
     "output_type": "execute_result"
    }
   ],
   "source": [
    "d = {}\n",
    "for key, value in pairs:\n",
    "    if key not in d:\n",
    "        d[key] = []\n",
    "    d[key].append(value)\n",
    "    print(key,value,d)\n",
    "\n",
    "d"
   ]
  },
  {
   "cell_type": "markdown",
   "metadata": {},
   "source": [
    "Usamos defaultdict para simplificar el codigo\n",
    "\n"
   ]
  },
  {
   "cell_type": "code",
   "execution_count": 24,
   "metadata": {},
   "outputs": [
    {
     "data": {
      "text/plain": [
       "defaultdict(list, {'a': [1, 3], 'b': [2, 5], 'c': [4]})"
      ]
     },
     "execution_count": 24,
     "metadata": {},
     "output_type": "execute_result"
    }
   ],
   "source": [
    "from collections import defaultdict\n",
    "\n",
    "d = defaultdict(list)\n",
    "for key, value in pairs:\n",
    "    d[key].append(value)\n",
    "\n",
    "d"
   ]
  },
  {
   "cell_type": "markdown",
   "metadata": {},
   "source": [
    "**Mantener los diccionarios en orden: OrderedDict**\n",
    "\n",
    "**Problema**\n",
    "\n",
    "* Desea crear un diccionario y, además, controlar el orden de los elementos al iterar o serializar\n",
    "\n",
    "**Solución**\n",
    "\n",
    "* Para controlar el orden de los elementos en un diccionario, puede utilizar un OrderedDict del módulo collections. Conserva exactamente el orden de inserción original de los datos al iterar. Por ejemplo"
   ]
  },
  {
   "cell_type": "code",
   "execution_count": 26,
   "metadata": {},
   "outputs": [
    {
     "name": "stdout",
     "output_type": "stream",
     "text": [
      "foo 1\n",
      "bar 2\n",
      "spam 3\n",
      "grok 4\n"
     ]
    }
   ],
   "source": [
    "from collections import OrderedDict\n",
    "\n",
    "d = OrderedDict()\n",
    "d[\"foo\"] = 1\n",
    "d[\"bar\"] = 2\n",
    "d[\"spam\"] = 3\n",
    "d[\"grok\"] = 4\n",
    "\n",
    "for key in d:\n",
    "    print(key, d[key])"
   ]
  },
  {
   "cell_type": "markdown",
   "metadata": {},
   "source": [
    "**Cálculo con diccionarios**\n",
    "\n",
    "**Problema**\n",
    "\n",
    "* Desea realizar varios cálculos (por ejemplo, valor mínimo, valor máximo, ordenación, etc.) en un diccionario de datos.\n",
    "etc.) sobre un diccionario de datos"
   ]
  },
  {
   "cell_type": "code",
   "execution_count": 115,
   "metadata": {},
   "outputs": [
    {
     "data": {
      "text/plain": [
       "{'ACME': 45.23, 'AAPL': 612.78, 'IBM': 205.55, 'HPQ': 37.2, 'FB': 10.75}"
      ]
     },
     "execution_count": 115,
     "metadata": {},
     "output_type": "execute_result"
    }
   ],
   "source": [
    "prices = {\n",
    " 'ACME': 45.23,\n",
    " 'AAPL': 612.78,\n",
    " 'IBM': 205.55,\n",
    " 'HPQ': 37.20,\n",
    " 'FB': 10.75\n",
    " }\n",
    "\n",
    "prices"
   ]
  },
  {
   "cell_type": "markdown",
   "metadata": {},
   "source": [
    " Para realizar cálculos útiles sobre el contenido del diccionario, a menudo es útil invertir las claves y los valores del diccionario utilizando zip(). Por ejemplo\n",
    " encontrar el precio mínimo y máximo y el nombre de la acción:"
   ]
  },
  {
   "cell_type": "code",
   "execution_count": 106,
   "metadata": {},
   "outputs": [
    {
     "data": {
      "text/plain": [
       "(10.75, 'FB')"
      ]
     },
     "execution_count": 106,
     "metadata": {},
     "output_type": "execute_result"
    }
   ],
   "source": [
    "min_price = min(zip(prices.values(),prices.keys()))\n",
    "min_price"
   ]
  },
  {
   "cell_type": "code",
   "execution_count": 82,
   "metadata": {},
   "outputs": [
    {
     "data": {
      "text/plain": [
       "(612.78, 'AAPL')"
      ]
     },
     "execution_count": 82,
     "metadata": {},
     "output_type": "execute_result"
    }
   ],
   "source": [
    "max_price = max(zip(prices.values(),prices.keys()))\n",
    "max_price"
   ]
  },
  {
   "cell_type": "code",
   "execution_count": 98,
   "metadata": {},
   "outputs": [
    {
     "data": {
      "text/plain": [
       "[(10.75, 'FB'),\n",
       " (37.2, 'HPQ'),\n",
       " (45.23, 'ACME'),\n",
       " (205.55, 'IBM'),\n",
       " (612.78, 'AAPL')]"
      ]
     },
     "execution_count": 98,
     "metadata": {},
     "output_type": "execute_result"
    }
   ],
   "source": [
    "prices_sorted = sorted(zip(prices.values(), prices.keys()))\n",
    "prices_sorted"
   ]
  },
  {
   "cell_type": "markdown",
   "metadata": {},
   "source": [
    "**Filtrando por compañia con itemgetter**"
   ]
  },
  {
   "cell_type": "code",
   "execution_count": 97,
   "metadata": {},
   "outputs": [
    {
     "data": {
      "text/plain": [
       "[(612.78, 'AAPL'),\n",
       " (45.23, 'ACME'),\n",
       " (10.75, 'FB'),\n",
       " (37.2, 'HPQ'),\n",
       " (205.55, 'IBM')]"
      ]
     },
     "execution_count": 97,
     "metadata": {},
     "output_type": "execute_result"
    }
   ],
   "source": [
    "from operator import itemgetter\n",
    "\n",
    "company_sorted = sorted(zip(prices.values(), prices.keys()),key=itemgetter(1))\n",
    "company_sorted"
   ]
  },
  {
   "cell_type": "markdown",
   "metadata": {},
   "source": [
    " Al realizar estos cálculos, tenga en cuenta que zip() crea un iterador que sólo puede ser consumido una sola vez. Por ejemplo, el siguiente código es un error:"
   ]
  },
  {
   "cell_type": "code",
   "execution_count": 107,
   "metadata": {},
   "outputs": [],
   "source": [
    "prices_and_names = zip(prices.values(), prices.keys())"
   ]
  },
  {
   "cell_type": "code",
   "execution_count": 117,
   "metadata": {},
   "outputs": [
    {
     "name": "stdout",
     "output_type": "stream",
     "text": [
      "FB\n",
      "AAPL\n"
     ]
    }
   ],
   "source": [
    "print(min(prices, key=lambda k: prices[k]))  # Returns 'FB'\n",
    "print(max(prices, key=lambda k: prices[k]))  # Returns 'AAPL"
   ]
  },
  {
   "cell_type": "markdown",
   "metadata": {},
   "source": [
    "**Encontrar puntos en común en dos diccionarios**\n",
    "\n",
    "**Problema**\n",
    "\n",
    "* Tiene dos diccionarios y quiere averiguar qué pueden tener en común (las mismas mismas claves, mismos valores, etc.)"
   ]
  },
  {
   "cell_type": "code",
   "execution_count": 118,
   "metadata": {},
   "outputs": [],
   "source": [
    "a = {\n",
    " 'x' : 1,\n",
    " 'y' : 2,\n",
    " 'z' : 3\n",
    "}\n",
    "\n",
    "b = {\n",
    " 'w' : 10,\n",
    " 'x' : 11,\n",
    " 'y' : 2\n",
    "}"
   ]
  },
  {
   "cell_type": "markdown",
   "metadata": {},
   "source": [
    "Para averiguar qué tienen en común los dos diccionarios, basta con realizar operaciones comunes de conjunto  utilizando los métodos keys() o items(). Por ejemplo"
   ]
  },
  {
   "cell_type": "code",
   "execution_count": 119,
   "metadata": {},
   "outputs": [
    {
     "data": {
      "text/plain": [
       "{'x', 'y'}"
      ]
     },
     "execution_count": 119,
     "metadata": {},
     "output_type": "execute_result"
    }
   ],
   "source": [
    " # Find keys in common\n",
    "a.keys() & b.keys()   # { 'x', 'y' }"
   ]
  },
  {
   "cell_type": "code",
   "execution_count": 120,
   "metadata": {},
   "outputs": [
    {
     "data": {
      "text/plain": [
       "{'z'}"
      ]
     },
     "execution_count": 120,
     "metadata": {},
     "output_type": "execute_result"
    }
   ],
   "source": [
    "# Find keys in a that are not in b\n",
    "a.keys() - b.keys()   # { 'z' }"
   ]
  },
  {
   "cell_type": "code",
   "execution_count": 121,
   "metadata": {},
   "outputs": [
    {
     "data": {
      "text/plain": [
       "{'w'}"
      ]
     },
     "execution_count": 121,
     "metadata": {},
     "output_type": "execute_result"
    }
   ],
   "source": [
    "# Find keys in b that are not in a\n",
    "b.keys() -  a.keys()   # { 'w' }"
   ]
  },
  {
   "cell_type": "markdown",
   "metadata": {},
   "source": [
    " Este tipo de operaciones también pueden utilizarse para alterar o filtrar el contenido del diccionario. En ejemplo, supongamos que desea crear un nuevo diccionario sin las claves seleccionadas. Aquí\n",
    " código de ejemplo que utiliza la comprensión de un diccionario:"
   ]
  },
  {
   "cell_type": "code",
   "execution_count": 122,
   "metadata": {},
   "outputs": [
    {
     "data": {
      "text/plain": [
       "{'y': 2, 'x': 1}"
      ]
     },
     "execution_count": 122,
     "metadata": {},
     "output_type": "execute_result"
    }
   ],
   "source": [
    "c = {key: a[key] for key in a.keys() - {'z','w'}}\n",
    "c"
   ]
  },
  {
   "cell_type": "markdown",
   "metadata": {},
   "source": [
    "pag 35"
   ]
  }
 ],
 "metadata": {
  "kernelspec": {
   "display_name": "base",
   "language": "python",
   "name": "python3"
  },
  "language_info": {
   "codemirror_mode": {
    "name": "ipython",
    "version": 3
   },
   "file_extension": ".py",
   "mimetype": "text/x-python",
   "name": "python",
   "nbconvert_exporter": "python",
   "pygments_lexer": "ipython3",
   "version": "3.11.7"
  }
 },
 "nbformat": 4,
 "nbformat_minor": 2
}
