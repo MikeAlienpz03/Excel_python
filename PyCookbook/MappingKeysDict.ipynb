{
 "cells": [
  {
   "cell_type": "markdown",
   "metadata": {},
   "source": [
    "**Asignación de claves a múltiples valores en un diccionario**\n",
    "\n",
    "**Problema**\n",
    "\n",
    "* Desea crear un diccionario que asigne claves a más de un valor (lo que se denomina \"multidict\").\n",
    "\n",
    "**Solución**\n",
    "\n",
    "* Un diccionario es una asignación en la que cada clave se asigna a un único valor. Si desea asignar claves a múltiples valores, necesita almacenar los valores múltiples en otro contenedor\n",
    " como una lista o un conjunto. Por ejemplo, puede crear diccionarios como los siguientes"
   ]
  },
  {
   "cell_type": "code",
   "execution_count": 299,
   "metadata": {},
   "outputs": [],
   "source": [
    "d = {\n",
    " 'a' : [1, 2, 3],\n",
    " 'b' : [4, 5]\n",
    " }\n",
    "\n",
    "e = {\n",
    " 'a' : {1, 2, 3},\n",
    " 'b' : {4, 5}\n",
    " }"
   ]
  },
  {
   "cell_type": "markdown",
   "metadata": {},
   "source": [
    " La decisión de utilizar o no listas o conjuntos depende del uso previsto. Utilice una lista si desea conservar el orden de inserción de los elementos. Utilice un conjunto si desea eliminar\n",
    " duplicados (y no le importa el orden)."
   ]
  },
  {
   "cell_type": "markdown",
   "metadata": {},
   "source": [
    "**defultdict**"
   ]
  },
  {
   "cell_type": "markdown",
   "metadata": {},
   "source": [
    " Para construir fácilmente estos diccionarios, puede utilizar defaultdict en el módulo collections. Una característica de defaultdict es que inicializa automáticamente el primer valor para que usted puede simplemente centrarse en la adición de elementos. Por ejemplo:"
   ]
  },
  {
   "cell_type": "code",
   "execution_count": 300,
   "metadata": {},
   "outputs": [
    {
     "data": {
      "text/plain": [
       "defaultdict(list, {'a': [1, 2], 'b': [4, 10]})"
      ]
     },
     "execution_count": 300,
     "metadata": {},
     "output_type": "execute_result"
    }
   ],
   "source": [
    "from collections import defaultdict\n",
    "\n",
    "\"\"\"\n",
    "Es la forma de crear un diccionario que tiene listas por ejemplo\n",
    "\n",
    "d = {\n",
    "        \"a\" : [],\n",
    "        \"b\" : []\n",
    "    }\n",
    "\n",
    "de una manera más sencilla por asi decirlo\n",
    "\"\"\"\n",
    "d = defaultdict(list)\n",
    "d['a'].append(1)\n",
    "d['a'].append(2)\n",
    "d['b'].append(4)\n",
    "d['b'].append(10)\n",
    "\n",
    "d"
   ]
  },
  {
   "cell_type": "code",
   "execution_count": 301,
   "metadata": {},
   "outputs": [
    {
     "data": {
      "text/plain": [
       "defaultdict(set, {'a': {1, 2}, 'b': {4}})"
      ]
     },
     "execution_count": 301,
     "metadata": {},
     "output_type": "execute_result"
    }
   ],
   "source": [
    "\"\"\"\n",
    "Es la forma de crear un diccionario que tiene listas por ejemplo\n",
    "\n",
    "d = {\n",
    "        \"a\" : {},\n",
    "        \"b\" : {}\n",
    "    }\n",
    "\n",
    "de una manera más sencilla por asi decirlo\n",
    "\"\"\"\n",
    "\n",
    "d = defaultdict(set)\n",
    "\n",
    "d['a'].add(1)\n",
    "d['a'].add(2)\n",
    "d['b'].add(4)\n",
    "\n",
    "d"
   ]
  },
  {
   "cell_type": "markdown",
   "metadata": {},
   "source": [
    "Sin embargo esta es la mejor practica para crear los diccionarios"
   ]
  },
  {
   "cell_type": "code",
   "execution_count": 302,
   "metadata": {},
   "outputs": [
    {
     "data": {
      "text/plain": [
       "{'a': [1, 2], 'b': [4]}"
      ]
     },
     "execution_count": 302,
     "metadata": {},
     "output_type": "execute_result"
    }
   ],
   "source": [
    "d = {}    # A regular dictionary\n",
    "d.setdefault('a', []).append(1)\n",
    "d.setdefault('a', []).append(2)\n",
    "d.setdefault('b', []).append(4)\n",
    "\n",
    "d"
   ]
  },
  {
   "cell_type": "markdown",
   "metadata": {},
   "source": [
    "**Discusión**\n",
    "\n",
    " En principio, construir un diccionario multivaluado es sencillo. Sin embargo, la inicialización del primer valor puede ser complicada si intenta hacerlo usted mismo. Por ejemplo, puede tener un código como el siguiente:"
   ]
  },
  {
   "cell_type": "code",
   "execution_count": 303,
   "metadata": {},
   "outputs": [],
   "source": [
    "pairs = [('a', 1), ('b', 2), ('a', 3), ('c', 4), ('b', 5)]"
   ]
  },
  {
   "cell_type": "markdown",
   "metadata": {},
   "source": [
    "**Utilización de itemgetter:**\n",
    "\n",
    "**Función básica:**\n",
    "* itemgetter se usa para recuperar elementos específicos de una secuencia (como una lista, tupla, o cualquier objeto que soporte indexación) o claves de un diccionario.\n",
    "\n",
    "**Cómo funciona:**\n",
    "\n",
    "* Cuando llamas a itemgetter(index), creas una función que, cuando se aplica a un objeto, devuelve el elemento en la posición index de ese objeto.\n",
    "Puede tomar múltiples índices y devolverá una tupla de los elementos correspondientes."
   ]
  },
  {
   "cell_type": "code",
   "execution_count": 304,
   "metadata": {},
   "outputs": [
    {
     "name": "stdout",
     "output_type": "stream",
     "text": [
      "a 1\n",
      "b 2\n",
      "a 3\n",
      "c 4\n",
      "b 5\n"
     ]
    }
   ],
   "source": [
    "from operator import itemgetter\n",
    "key_getter = itemgetter(0)\n",
    "\n",
    "for pair in pairs:\n",
    "    print(key_getter(pair),pair[1])"
   ]
  },
  {
   "cell_type": "code",
   "execution_count": 305,
   "metadata": {},
   "outputs": [
    {
     "name": "stdout",
     "output_type": "stream",
     "text": [
      "a 1 {'a': [1]}\n",
      "b 2 {'a': [1], 'b': [2]}\n",
      "a 3 {'a': [1, 3], 'b': [2]}\n",
      "c 4 {'a': [1, 3], 'b': [2], 'c': [4]}\n",
      "b 5 {'a': [1, 3], 'b': [2, 5], 'c': [4]}\n"
     ]
    },
    {
     "data": {
      "text/plain": [
       "{'a': [1, 3], 'b': [2, 5], 'c': [4]}"
      ]
     },
     "execution_count": 305,
     "metadata": {},
     "output_type": "execute_result"
    }
   ],
   "source": [
    "from operator import itemgetter\n",
    "key_getter = itemgetter(0)\n",
    "\n",
    "d = {}\n",
    "for pair in pairs:\n",
    "    itemgetter_value =(key_getter(pair))\n",
    "    value = pair[1]\n",
    "    if itemgetter_value not in d:\n",
    "        d[itemgetter_value] = []\n",
    "\n",
    "    d[itemgetter_value].append(value)\n",
    "    print(itemgetter_value, value,d)\n",
    "\n",
    "d"
   ]
  },
  {
   "cell_type": "code",
   "execution_count": 1,
   "metadata": {},
   "outputs": [
    {
     "name": "stdout",
     "output_type": "stream",
     "text": [
      "{'a': [1, 3], 'b': [2, 5], 'c': [4]}\n"
     ]
    }
   ],
   "source": [
    "from operator import itemgetter\n",
    "\n",
    "pairs = [('a', 1), ('b', 2), ('a', 3), ('c', 4), ('b', 5)]\n",
    "\n",
    "d = {}\n",
    "key_getter = itemgetter(0)    # Función para obtener el primer elemento de una tupla\n",
    "\n",
    "for pair in pairs:\n",
    "    key = key_getter(pair)    # Obtener la clave de la tupla\n",
    "    value = pair[1]           # Obtener el valor de la tupla (segundo elemento)\n",
    "    if key not in d:\n",
    "        d[key] = []           # Inicializar una lista vacía si la clave no está en el diccionario\n",
    "    d[key].append(value)      # Agregar el valor a la lista correspondiente en d\n",
    "\n",
    "print(d)\n",
    "\n"
   ]
  },
  {
   "cell_type": "code",
   "execution_count": 307,
   "metadata": {},
   "outputs": [
    {
     "name": "stdout",
     "output_type": "stream",
     "text": [
      "a 1 {'a': [1]}\n",
      "b 2 {'a': [1], 'b': [2]}\n",
      "a 3 {'a': [1, 3], 'b': [2]}\n",
      "c 4 {'a': [1, 3], 'b': [2], 'c': [4]}\n",
      "b 5 {'a': [1, 3], 'b': [2, 5], 'c': [4]}\n"
     ]
    },
    {
     "data": {
      "text/plain": [
       "{'a': [1, 3], 'b': [2, 5], 'c': [4]}"
      ]
     },
     "execution_count": 307,
     "metadata": {},
     "output_type": "execute_result"
    }
   ],
   "source": [
    "d = {}\n",
    "for key, value in pairs:\n",
    "    if key not in d:\n",
    "        d[key] = []\n",
    "    d[key].append(value)\n",
    "    print(key,value,d)\n",
    "\n",
    "d"
   ]
  },
  {
   "cell_type": "markdown",
   "metadata": {},
   "source": [
    "Usamos defaultdict para simplificar el codigo\n",
    "\n"
   ]
  },
  {
   "cell_type": "code",
   "execution_count": 308,
   "metadata": {},
   "outputs": [
    {
     "data": {
      "text/plain": [
       "defaultdict(list, {'a': [1, 3], 'b': [2, 5], 'c': [4]})"
      ]
     },
     "execution_count": 308,
     "metadata": {},
     "output_type": "execute_result"
    }
   ],
   "source": [
    "from collections import defaultdict\n",
    "\n",
    "d = defaultdict(list)\n",
    "for key, value in pairs:\n",
    "    d[key].append(value)\n",
    "\n",
    "d"
   ]
  },
  {
   "cell_type": "markdown",
   "metadata": {},
   "source": [
    "**Mantener los diccionarios en orden: OrderedDict**\n",
    "\n",
    "**Problema**\n",
    "\n",
    "* Desea crear un diccionario y, además, controlar el orden de los elementos al iterar o serializar\n",
    "\n",
    "**Solución**\n",
    "\n",
    "* Para controlar el orden de los elementos en un diccionario, puede utilizar un OrderedDict del módulo collections. Conserva exactamente el orden de inserción original de los datos al iterar. Por ejemplo"
   ]
  },
  {
   "cell_type": "code",
   "execution_count": 309,
   "metadata": {},
   "outputs": [
    {
     "name": "stdout",
     "output_type": "stream",
     "text": [
      "foo 1\n",
      "bar 2\n",
      "spam 3\n",
      "grok 4\n"
     ]
    }
   ],
   "source": [
    "from collections import OrderedDict\n",
    "\n",
    "d = OrderedDict()\n",
    "d[\"foo\"] = 1\n",
    "d[\"bar\"] = 2\n",
    "d[\"spam\"] = 3\n",
    "d[\"grok\"] = 4\n",
    "\n",
    "for key in d:\n",
    "    print(key, d[key])"
   ]
  },
  {
   "cell_type": "markdown",
   "metadata": {},
   "source": [
    "**Cálculo con diccionarios**\n",
    "\n",
    "**Problema**\n",
    "\n",
    "* Desea realizar varios cálculos (por ejemplo, valor mínimo, valor máximo, ordenación, etc.) en un diccionario de datos.\n",
    "etc.) sobre un diccionario de datos"
   ]
  },
  {
   "cell_type": "code",
   "execution_count": 310,
   "metadata": {},
   "outputs": [
    {
     "data": {
      "text/plain": [
       "{'ACME': 45.23, 'AAPL': 612.78, 'IBM': 205.55, 'HPQ': 37.2, 'FB': 10.75}"
      ]
     },
     "execution_count": 310,
     "metadata": {},
     "output_type": "execute_result"
    }
   ],
   "source": [
    "prices = {\n",
    " 'ACME': 45.23,\n",
    " 'AAPL': 612.78,\n",
    " 'IBM': 205.55,\n",
    " 'HPQ': 37.20,\n",
    " 'FB': 10.75\n",
    " }\n",
    "\n",
    "prices"
   ]
  },
  {
   "cell_type": "markdown",
   "metadata": {},
   "source": [
    " Para realizar cálculos útiles sobre el contenido del diccionario, a menudo es útil invertir las claves y los valores del diccionario utilizando zip(). Por ejemplo\n",
    " encontrar el precio mínimo y máximo y el nombre de la acción:"
   ]
  },
  {
   "cell_type": "code",
   "execution_count": 311,
   "metadata": {},
   "outputs": [
    {
     "data": {
      "text/plain": [
       "(10.75, 'FB')"
      ]
     },
     "execution_count": 311,
     "metadata": {},
     "output_type": "execute_result"
    }
   ],
   "source": [
    "min_price = min(zip(prices.values(),prices.keys()))\n",
    "min_price"
   ]
  },
  {
   "cell_type": "code",
   "execution_count": 312,
   "metadata": {},
   "outputs": [
    {
     "data": {
      "text/plain": [
       "(612.78, 'AAPL')"
      ]
     },
     "execution_count": 312,
     "metadata": {},
     "output_type": "execute_result"
    }
   ],
   "source": [
    "max_price = max(zip(prices.values(),prices.keys()))\n",
    "max_price"
   ]
  },
  {
   "cell_type": "code",
   "execution_count": 313,
   "metadata": {},
   "outputs": [
    {
     "data": {
      "text/plain": [
       "[(10.75, 'FB'),\n",
       " (37.2, 'HPQ'),\n",
       " (45.23, 'ACME'),\n",
       " (205.55, 'IBM'),\n",
       " (612.78, 'AAPL')]"
      ]
     },
     "execution_count": 313,
     "metadata": {},
     "output_type": "execute_result"
    }
   ],
   "source": [
    "prices_sorted = sorted(zip(prices.values(), prices.keys()))\n",
    "prices_sorted"
   ]
  },
  {
   "cell_type": "markdown",
   "metadata": {},
   "source": [
    "**Filtrando por compañia con itemgetter**"
   ]
  },
  {
   "cell_type": "code",
   "execution_count": 314,
   "metadata": {},
   "outputs": [
    {
     "data": {
      "text/plain": [
       "[(612.78, 'AAPL'),\n",
       " (45.23, 'ACME'),\n",
       " (10.75, 'FB'),\n",
       " (37.2, 'HPQ'),\n",
       " (205.55, 'IBM')]"
      ]
     },
     "execution_count": 314,
     "metadata": {},
     "output_type": "execute_result"
    }
   ],
   "source": [
    "from operator import itemgetter\n",
    "\n",
    "company_sorted = sorted(zip(prices.values(), prices.keys()),key=itemgetter(1))\n",
    "company_sorted"
   ]
  },
  {
   "cell_type": "markdown",
   "metadata": {},
   "source": [
    " Al realizar estos cálculos, tenga en cuenta que zip() crea un iterador que sólo puede ser consumido una sola vez. Por ejemplo, el siguiente código es un error:"
   ]
  },
  {
   "cell_type": "code",
   "execution_count": 315,
   "metadata": {},
   "outputs": [],
   "source": [
    "prices_and_names = zip(prices.values(), prices.keys())"
   ]
  },
  {
   "cell_type": "code",
   "execution_count": 316,
   "metadata": {},
   "outputs": [
    {
     "name": "stdout",
     "output_type": "stream",
     "text": [
      "FB\n",
      "AAPL\n"
     ]
    }
   ],
   "source": [
    "print(min(prices, key=lambda k: prices[k]))  # Returns 'FB'\n",
    "print(max(prices, key=lambda k: prices[k]))  # Returns 'AAPL"
   ]
  },
  {
   "cell_type": "markdown",
   "metadata": {},
   "source": [
    "**Encontrar puntos en común en dos diccionarios**\n",
    "\n",
    "**Problema**\n",
    "\n",
    "* Tiene dos diccionarios y quiere averiguar qué pueden tener en común (las mismas mismas claves, mismos valores, etc.)"
   ]
  },
  {
   "cell_type": "code",
   "execution_count": 317,
   "metadata": {},
   "outputs": [],
   "source": [
    "a = {\n",
    " 'x' : 1,\n",
    " 'y' : 2,\n",
    " 'z' : 3\n",
    "}\n",
    "\n",
    "b = {\n",
    " 'w' : 10,\n",
    " 'x' : 11,\n",
    " 'y' : 2\n",
    "}"
   ]
  },
  {
   "cell_type": "markdown",
   "metadata": {},
   "source": [
    "Para averiguar qué tienen en común los dos diccionarios, basta con realizar operaciones comunes de conjunto  utilizando los métodos keys() o items(). Por ejemplo"
   ]
  },
  {
   "cell_type": "code",
   "execution_count": 318,
   "metadata": {},
   "outputs": [
    {
     "data": {
      "text/plain": [
       "{'x', 'y'}"
      ]
     },
     "execution_count": 318,
     "metadata": {},
     "output_type": "execute_result"
    }
   ],
   "source": [
    " # Find keys in common\n",
    "a.keys() & b.keys()   # { 'x', 'y' }"
   ]
  },
  {
   "cell_type": "code",
   "execution_count": 319,
   "metadata": {},
   "outputs": [
    {
     "data": {
      "text/plain": [
       "{'z'}"
      ]
     },
     "execution_count": 319,
     "metadata": {},
     "output_type": "execute_result"
    }
   ],
   "source": [
    "# Find keys in a that are not in b\n",
    "a.keys() - b.keys()   # { 'z' }"
   ]
  },
  {
   "cell_type": "code",
   "execution_count": 320,
   "metadata": {},
   "outputs": [
    {
     "data": {
      "text/plain": [
       "{'w'}"
      ]
     },
     "execution_count": 320,
     "metadata": {},
     "output_type": "execute_result"
    }
   ],
   "source": [
    "# Find keys in b that are not in a\n",
    "b.keys() -  a.keys()   # { 'w' }"
   ]
  },
  {
   "cell_type": "markdown",
   "metadata": {},
   "source": [
    " Este tipo de operaciones también pueden utilizarse para alterar o filtrar el contenido del diccionario. En ejemplo, supongamos que desea crear un nuevo diccionario sin las claves seleccionadas. Aquí\n",
    " código de ejemplo que utiliza la comprensión de un diccionario:"
   ]
  },
  {
   "cell_type": "markdown",
   "metadata": {},
   "source": [
    "**Standar expression**\n",
    "* new_list = [expression for member in iterable]\n",
    "\n",
    "**Expression with conditionals**\n",
    "* new_list = [expression for member in iterable if conditional]"
   ]
  },
  {
   "cell_type": "code",
   "execution_count": 321,
   "metadata": {},
   "outputs": [
    {
     "data": {
      "text/plain": [
       "[1.1772000000000002, 25.4448, 62.467200000000005, 4.9248, 7.322400000000001]"
      ]
     },
     "execution_count": 321,
     "metadata": {},
     "output_type": "execute_result"
    }
   ],
   "source": [
    "prices = [1.09, 23.56, 57.84, 4.56, 6.78]\n",
    "TAX_RATE = .08\n",
    "def get_price_with_tax(price):\n",
    "    return price * (1 + TAX_RATE)\n",
    "\n",
    "\n",
    "final_prices = [get_price_with_tax(price) for price in prices]\n",
    "final_prices\n",
    "[1.1772000000000002, 25.4448, 62.467200000000005, 4.9248, 7.322400000000001]"
   ]
  },
  {
   "cell_type": "code",
   "execution_count": 322,
   "metadata": {},
   "outputs": [
    {
     "data": {
      "text/plain": [
       "array([1.64091488e-03, 2.06532135e-08, 5.11831394e-01, 5.18175818e-06,\n",
       "       2.33971755e-03, 6.01780716e-06, 1.37936817e-01, 6.09001601e-03,\n",
       "       2.45608272e-01, 1.07339077e-05])"
      ]
     },
     "execution_count": 322,
     "metadata": {},
     "output_type": "execute_result"
    }
   ],
   "source": [
    "import numpy as np\n",
    "\n",
    "w = np.array([np.random.rand() ** 10 for x in range(1,11)])\n",
    "w"
   ]
  },
  {
   "cell_type": "code",
   "execution_count": 323,
   "metadata": {},
   "outputs": [
    {
     "data": {
      "text/plain": [
       "array([4.83976317e-03, 1.12406555e-01, 2.12144171e-09, 1.06296023e-01,\n",
       "       7.42998224e-03, 1.06189919e-02, 1.82739082e-01])"
      ]
     },
     "execution_count": 323,
     "metadata": {},
     "output_type": "execute_result"
    }
   ],
   "source": [
    "import numpy as np\n",
    "\n",
    "w = np.array([np.random.rand() ** 10 for x in range(1,11) if x > 3])\n",
    "w"
   ]
  },
  {
   "cell_type": "code",
   "execution_count": 324,
   "metadata": {},
   "outputs": [
    {
     "data": {
      "text/plain": [
       "{'y': 2, 'x': 1}"
      ]
     },
     "execution_count": 324,
     "metadata": {},
     "output_type": "execute_result"
    }
   ],
   "source": [
    "c = {key: a[key] for key in a.keys() - {'z','w'}}\n",
    "c"
   ]
  },
  {
   "cell_type": "markdown",
   "metadata": {},
   "source": [
    "**Eliminar duplicados de una secuencia manteniendo el orden**\n",
    "\n",
    "**Problema**\n",
    "\n",
    "* Desea eliminar los valores duplicados de una secuencia, pero conservar el orden de los elementos restantes.\n",
    "\n",
    "**Solución**\n",
    "\n",
    "* Si los valores de la secuencia son hashables, el problema puede resolverse fácilmente utilizando un conjunto\n",
    " y un generador. Por ejemplo:"
   ]
  },
  {
   "cell_type": "markdown",
   "metadata": {},
   "source": [
    "**Metodo yield**\n",
    "\n",
    "* El método yield en Python se utiliza dentro de funciones generadoras para permitir que la función devuelva un valor y luego se suspenda temporalmente su ejecución, conservando su estado para poder continuar desde donde se detuvo en la próxima llamada. Esto es útil cuando se trabaja con secuencias grandes de datos o cuando se desea generar una secuencia de valores uno a la vez, en lugar de devolverlos todos de una vez."
   ]
  },
  {
   "cell_type": "code",
   "execution_count": 325,
   "metadata": {},
   "outputs": [],
   "source": [
    "def dedupe(items):\n",
    "    seen = set()\n",
    "    for item in items:\n",
    "        if item not in seen:\n",
    "            yield item\n",
    "            seen.add(item)"
   ]
  },
  {
   "cell_type": "code",
   "execution_count": 326,
   "metadata": {},
   "outputs": [
    {
     "data": {
      "text/plain": [
       "[1, 5, 2, 9, 10]"
      ]
     },
     "execution_count": 326,
     "metadata": {},
     "output_type": "execute_result"
    }
   ],
   "source": [
    "from numpy import arange, array\n",
    "\n",
    "a = [1, 5, 2, 1, 9, 1, 5, 10]\n",
    "list(dedupe(a))\n"
   ]
  },
  {
   "cell_type": "code",
   "execution_count": 327,
   "metadata": {},
   "outputs": [
    {
     "name": "stdout",
     "output_type": "stream",
     "text": [
      "1\n",
      "2\n",
      "3\n",
      "4\n",
      "5\n"
     ]
    }
   ],
   "source": [
    "def count_up_to(n):\n",
    "    count = 1\n",
    "    while count <= n:\n",
    "        yield count\n",
    "        count += 1\n",
    "\n",
    "# Utilizar la función generadora para imprimir los números del 1 al 5\n",
    "for num in count_up_to(5):\n",
    "    print(num)\n"
   ]
  },
  {
   "cell_type": "markdown",
   "metadata": {},
   "source": [
    " Esto sólo funciona si los elementos de la secuencia son hashables. Si intenta eliminar duplicados en una secuencia de tipos no hashable (como dicts), puede hacer un ligero\n",
    "a esta receta, como sigue:"
   ]
  },
  {
   "cell_type": "code",
   "execution_count": 328,
   "metadata": {},
   "outputs": [],
   "source": [
    "#condition_if_true if condition else condition_if_false\n",
    "\n",
    "def dedupe2(items, key=None):\n",
    "    seen = set()\n",
    "    for item in items:\n",
    "        #Si key es None, val es igual a item.\n",
    "        #Si key no es None, val es igual al resultado de key(item).\n",
    "        val = item if key is None else key(item)\n",
    "        if val not in seen:\n",
    "            yield item\n",
    "            seen.add(val)\n",
    "            print(seen)\n",
    "                                    "
   ]
  },
  {
   "cell_type": "code",
   "execution_count": 329,
   "metadata": {},
   "outputs": [
    {
     "name": "stdout",
     "output_type": "stream",
     "text": [
      "{(1, 2)}\n",
      "{(1, 2), (1, 3)}\n",
      "{(2, 4), (1, 2), (1, 3)}\n"
     ]
    },
    {
     "data": {
      "text/plain": [
       "[{'x': 1, 'y': 2}, {'x': 1, 'y': 3}, {'x': 2, 'y': 4}]"
      ]
     },
     "execution_count": 329,
     "metadata": {},
     "output_type": "execute_result"
    }
   ],
   "source": [
    "a = [ {'x':1, 'y':2}, {'x':1, 'y':3}, {'x':1, 'y':2}, {'x':2, 'y':4}]\n",
    "list(dedupe2(a,key=lambda d: (d[\"x\"],d[\"y\"])))"
   ]
  },
  {
   "cell_type": "markdown",
   "metadata": {},
   "source": [
    "**Determinación de los elementos más frecuentes de una secuencia**\n",
    "\n",
    "**Problema**\n",
    "\n",
    "* Tiene una secuencia de elementos y desea determinar los elementos que aparecen con más frecuencia en la secuencia.\n",
    "\n",
    "**Solución**\n",
    "\n",
    "* La clase collections.Counter está diseñada para este tipo de problemas. **Incluso dispone de un práctico método most_common()** que te dará la respuesta. Para ilustrarlo, supongamos que tenemos una lista de palabras y queremos saber cuáles son las más frecuentes. aparecen con más frecuencia. Así es como lo harías:"
   ]
  },
  {
   "cell_type": "code",
   "execution_count": 330,
   "metadata": {},
   "outputs": [],
   "source": [
    "words = [\n",
    " 'look', 'into', 'my', 'eyes', 'look', 'into', 'my', 'eyes',\n",
    " 'the', 'eyes', 'the', 'eyes', 'the', 'eyes', 'not', 'around', 'the',\n",
    " 'eyes', \"don't\", 'look', 'around', 'the', 'eyes', 'look', 'into',\n",
    " 'my', 'eyes', \"you're\", 'under'\n",
    " ]"
   ]
  },
  {
   "cell_type": "code",
   "execution_count": 331,
   "metadata": {},
   "outputs": [
    {
     "name": "stdout",
     "output_type": "stream",
     "text": [
      "[('eyes', 8), ('the', 5), ('look', 4)]\n"
     ]
    }
   ],
   "source": [
    "from collections import Counter\n",
    "word_counts = Counter(words)\n",
    "top_three = word_counts.most_common(3)\n",
    "print(top_three)"
   ]
  },
  {
   "cell_type": "markdown",
   "metadata": {},
   "source": [
    "**Ordenar una lista de diccionarios por una clave común**\n",
    "\n",
    "**Problema**\n",
    "\n",
    "* Tiene una lista de diccionarios y desea ordenar las entradas en función de uno o varios valores del diccionario. o más valores del diccionario."
   ]
  },
  {
   "cell_type": "code",
   "execution_count": 332,
   "metadata": {},
   "outputs": [],
   "source": [
    "rows = [\n",
    " {'fname': 'Brian', 'lname': 'Jones', 'uid': 1003},\n",
    " {'fname': 'David', 'lname': 'Beazley', 'uid': 1002},\n",
    " {'fname': 'John', 'lname': 'Cleese', 'uid': 1001},\n",
    " {'fname': 'Big', 'lname': 'Jones', 'uid': 1004}\n",
    "]"
   ]
  },
  {
   "cell_type": "code",
   "execution_count": 333,
   "metadata": {},
   "outputs": [
    {
     "name": "stdout",
     "output_type": "stream",
     "text": [
      "[{'fname': 'David', 'lname': 'Beazley', 'uid': 1002}, {'fname': 'John', 'lname': 'Cleese', 'uid': 1001}, {'fname': 'Big', 'lname': 'Jones', 'uid': 1004}, {'fname': 'Brian', 'lname': 'Jones', 'uid': 1003}]\n"
     ]
    }
   ],
   "source": [
    "from operator import itemgetter\n",
    "\n",
    "rows_by_lfname = sorted(rows, key=itemgetter('lname','fname'))\n",
    "print(rows_by_lfname)"
   ]
  },
  {
   "cell_type": "markdown",
   "metadata": {},
   "source": [
    " La funcionalidad de itemgetter() se sustituye a veces por **expresiones lambda**. En ejemplo\n",
    "\n",
    "**Estructura**\n",
    "* lambda arguments: expression"
   ]
  },
  {
   "cell_type": "code",
   "execution_count": 334,
   "metadata": {},
   "outputs": [
    {
     "name": "stdout",
     "output_type": "stream",
     "text": [
      "Brian\n",
      "David\n",
      "John\n",
      "Big\n"
     ]
    }
   ],
   "source": [
    "for r in rows:\n",
    "    print(r['fname'])"
   ]
  },
  {
   "cell_type": "code",
   "execution_count": 335,
   "metadata": {},
   "outputs": [
    {
     "data": {
      "text/plain": [
       "[{'fname': 'Big', 'lname': 'Jones', 'uid': 1004},\n",
       " {'fname': 'Brian', 'lname': 'Jones', 'uid': 1003},\n",
       " {'fname': 'David', 'lname': 'Beazley', 'uid': 1002},\n",
       " {'fname': 'John', 'lname': 'Cleese', 'uid': 1001}]"
      ]
     },
     "execution_count": 335,
     "metadata": {},
     "output_type": "execute_result"
    }
   ],
   "source": [
    "rows_by_fname = sorted(rows,key=lambda r: r['fname'])\n",
    "rows_by_fname"
   ]
  },
  {
   "cell_type": "code",
   "execution_count": 336,
   "metadata": {},
   "outputs": [
    {
     "data": {
      "text/plain": [
       "[{'fname': 'Big', 'lname': 'Jones', 'uid': 1004},\n",
       " {'fname': 'Brian', 'lname': 'Jones', 'uid': 1003},\n",
       " {'fname': 'David', 'lname': 'Beazley', 'uid': 1002},\n",
       " {'fname': 'John', 'lname': 'Cleese', 'uid': 1001}]"
      ]
     },
     "execution_count": 336,
     "metadata": {},
     "output_type": "execute_result"
    }
   ],
   "source": [
    "rows_by_fname = sorted(rows,key=lambda r: r['fname'])\n",
    "rows_by_fname"
   ]
  },
  {
   "cell_type": "code",
   "execution_count": 337,
   "metadata": {},
   "outputs": [
    {
     "data": {
      "text/plain": [
       "[{'fname': 'David', 'lname': 'Beazley', 'uid': 1002},\n",
       " {'fname': 'John', 'lname': 'Cleese', 'uid': 1001},\n",
       " {'fname': 'Big', 'lname': 'Jones', 'uid': 1004},\n",
       " {'fname': 'Brian', 'lname': 'Jones', 'uid': 1003}]"
      ]
     },
     "execution_count": 337,
     "metadata": {},
     "output_type": "execute_result"
    }
   ],
   "source": [
    "rows_by_lfname = sorted(rows, key=lambda r: (r['lname'],r['fname']))\n",
    "rows_by_lfname"
   ]
  },
  {
   "cell_type": "markdown",
   "metadata": {},
   "source": [
    "En Python, attrgetter se usa típicamente con objetos que tienen atributos (como instancias de clases)"
   ]
  },
  {
   "cell_type": "code",
   "execution_count": 338,
   "metadata": {},
   "outputs": [],
   "source": [
    "class User:\n",
    "    def __init__(self,user_id):\n",
    "        \"\"\"\n",
    "        El parametro user_id y se asigna como atributo self.user_id\n",
    "        \"\"\"\n",
    "        self.user_id = user_id\n",
    "    \n",
    "    def __repr__(self):\n",
    "        return 'User({})'.format(self.user_id)"
   ]
  },
  {
   "cell_type": "code",
   "execution_count": 339,
   "metadata": {},
   "outputs": [
    {
     "data": {
      "text/plain": [
       "[User(23), User(3), User(99)]"
      ]
     },
     "execution_count": 339,
     "metadata": {},
     "output_type": "execute_result"
    }
   ],
   "source": [
    "users = [User(23),User(3), User(99)]\n",
    "users"
   ]
  },
  {
   "cell_type": "code",
   "execution_count": 340,
   "metadata": {},
   "outputs": [
    {
     "data": {
      "text/plain": [
       "[User(3), User(23), User(99)]"
      ]
     },
     "execution_count": 340,
     "metadata": {},
     "output_type": "execute_result"
    }
   ],
   "source": [
    "from operator import attrgetter\n",
    "sorted(users,key=attrgetter('user_id'))"
   ]
  },
  {
   "cell_type": "code",
   "execution_count": 341,
   "metadata": {},
   "outputs": [
    {
     "name": "stdout",
     "output_type": "stream",
     "text": [
      "Alice\n",
      "Bob\n",
      "Charlie\n"
     ]
    }
   ],
   "source": [
    "from operator import attrgetter\n",
    "\n",
    "class Person:\n",
    "    def __init__(self, fname):\n",
    "        self.fname = fname\n",
    "\n",
    "# Ejemplo de lista de objetos Person\n",
    "people = [\n",
    "    Person('Alice'),\n",
    "    Person('Bob'),\n",
    "    Person('Charlie')\n",
    "]\n",
    "\n",
    "# Ordenar por fname utilizando attrgetter\n",
    "people_sorted_by_fname = sorted(people, key=attrgetter('fname'))\n",
    "\n",
    "for person in people_sorted_by_fname:\n",
    "    print(person.fname)\n"
   ]
  },
  {
   "cell_type": "markdown",
   "metadata": {},
   "source": [
    "**Agrupación de registros en función de un campo** \n",
    "\n",
    "**Problema**\n",
    "\n",
    "* Tiene una secuencia de diccionarios o instancias y desea iterar sobre los datos en grupos basados en el valor de un campo en particular, como la fecha.\n",
    "\n",
    "**Solución**\n",
    "\n",
    "* La función **itertools.groupby()** es especialmente útil para agrupar datos de esta forma. Para ilustrarlo, supongamos que tenemos la siguiente lista de diccionarios"
   ]
  },
  {
   "cell_type": "code",
   "execution_count": 342,
   "metadata": {},
   "outputs": [],
   "source": [
    "rows = [\n",
    " {'address': '5412 N CLARK', 'date': '07/01/2012'},\n",
    " {'address': '5148 N CLARK', 'date': '07/04/2012'},\n",
    " {'address': '5800 E 58TH', 'date': '07/02/2012'},\n",
    " {'address': '2122 N CLARK', 'date': '07/03/2012'},\n",
    " {'address': '5645 N RAVENSWOOD', 'date': '07/02/2012'},\n",
    " {'address': '1060 W ADDISON', 'date': '07/02/2012'},\n",
    " {'address': '4801 N BROADWAY', 'date': '07/01/2012'},\n",
    " {'address': '1039 W GRANVILLE', 'date': '07/04/2012'},\n",
    " ]"
   ]
  },
  {
   "cell_type": "code",
   "execution_count": 343,
   "metadata": {},
   "outputs": [
    {
     "data": {
      "text/plain": [
       "[{'address': '5412 N CLARK', 'date': '07/01/2012'},\n",
       " {'address': '4801 N BROADWAY', 'date': '07/01/2012'},\n",
       " {'address': '5800 E 58TH', 'date': '07/02/2012'},\n",
       " {'address': '5645 N RAVENSWOOD', 'date': '07/02/2012'},\n",
       " {'address': '1060 W ADDISON', 'date': '07/02/2012'},\n",
       " {'address': '2122 N CLARK', 'date': '07/03/2012'},\n",
       " {'address': '5148 N CLARK', 'date': '07/04/2012'},\n",
       " {'address': '1039 W GRANVILLE', 'date': '07/04/2012'}]"
      ]
     },
     "execution_count": 343,
     "metadata": {},
     "output_type": "execute_result"
    }
   ],
   "source": [
    "from operator import itemgetter\n",
    "from itertools import groupby\n",
    "\n",
    "# Sort by the desired field first\n",
    "rows.sort(key=itemgetter('date'))\n",
    "rows"
   ]
  },
  {
   "cell_type": "markdown",
   "metadata": {},
   "source": [
    "**groupby de itertools:**\n",
    "\n",
    "* El groupby de itertools agrupa elementos consecutivos en función de una clave dada. Aquí está el fragmento de código que has mostrado:\n",
    "\n",
    "* itertools groupby agrupa elementos en base a una clave específica pero no realiza operaciones de agregación o transformación automáticamente como lo hace groupby en pandas.\n",
    "\n"
   ]
  },
  {
   "cell_type": "code",
   "execution_count": 344,
   "metadata": {},
   "outputs": [
    {
     "data": {
      "text/plain": [
       "['07/01/2012',\n",
       " '07/01/2012',\n",
       " '07/02/2012',\n",
       " '07/02/2012',\n",
       " '07/02/2012',\n",
       " '07/03/2012',\n",
       " '07/04/2012',\n",
       " '07/04/2012']"
      ]
     },
     "execution_count": 344,
     "metadata": {},
     "output_type": "execute_result"
    }
   ],
   "source": [
    "#obtenemos todas las fechas\n",
    "[itemgetter('date')(x) for x in rows]"
   ]
  },
  {
   "cell_type": "code",
   "execution_count": 345,
   "metadata": {},
   "outputs": [
    {
     "data": {
      "text/plain": [
       "['5412 N CLARK',\n",
       " '4801 N BROADWAY',\n",
       " '5800 E 58TH',\n",
       " '5645 N RAVENSWOOD',\n",
       " '1060 W ADDISON',\n",
       " '2122 N CLARK',\n",
       " '5148 N CLARK',\n",
       " '1039 W GRANVILLE']"
      ]
     },
     "execution_count": 345,
     "metadata": {},
     "output_type": "execute_result"
    }
   ],
   "source": [
    "[itemgetter(\"address\")(x) for x in rows]"
   ]
  },
  {
   "cell_type": "markdown",
   "metadata": {},
   "source": [
    "El segundo elemento de cada tupla devuelta por groupby es un iterador sobre los elementos del grupo actual. "
   ]
  },
  {
   "cell_type": "code",
   "execution_count": 346,
   "metadata": {},
   "outputs": [
    {
     "name": "stdout",
     "output_type": "stream",
     "text": [
      "('07/01/2012', <itertools._grouper object at 0x000001D4CC596950>)\n",
      "('07/02/2012', <itertools._grouper object at 0x000001D4CF8EF880>)\n",
      "('07/03/2012', <itertools._grouper object at 0x000001D4CC596950>)\n",
      "('07/04/2012', <itertools._grouper object at 0x000001D4CF8EF880>)\n"
     ]
    }
   ],
   "source": [
    "for date in groupby(rows,key=itemgetter('date')):\n",
    "    print(date)"
   ]
  },
  {
   "cell_type": "markdown",
   "metadata": {},
   "source": [
    "**Discusión**\n",
    "\n",
    "* La función groupby() funciona escaneando una secuencia y encontrando \"series\" secuenciales de valores idénticos (o valores devueltos por la función clave dada). En cada iteración\n",
    " devuelve el valor junto con un iterador que produce todos los elementos de un grupo con el mismo valor.\n",
    "\n",
    "* Un paso previo importante es ordenar los datos según el campo de interés. Dado que groupby() sólo examina elementos consecutivos, si no se ordena primero no se agruparán los registros como desea."
   ]
  },
  {
   "cell_type": "code",
   "execution_count": 347,
   "metadata": {},
   "outputs": [
    {
     "name": "stdout",
     "output_type": "stream",
     "text": [
      "07/01/2012\n",
      "     {'address': '5412 N CLARK', 'date': '07/01/2012'}\n",
      "     {'address': '4801 N BROADWAY', 'date': '07/01/2012'}\n",
      "07/02/2012\n",
      "     {'address': '5800 E 58TH', 'date': '07/02/2012'}\n",
      "     {'address': '5645 N RAVENSWOOD', 'date': '07/02/2012'}\n",
      "     {'address': '1060 W ADDISON', 'date': '07/02/2012'}\n",
      "07/03/2012\n",
      "     {'address': '2122 N CLARK', 'date': '07/03/2012'}\n",
      "07/04/2012\n",
      "     {'address': '5148 N CLARK', 'date': '07/04/2012'}\n",
      "     {'address': '1039 W GRANVILLE', 'date': '07/04/2012'}\n"
     ]
    }
   ],
   "source": [
    "# Agrupar por la clave 'date'\n",
    "for date, items in groupby(rows, key=itemgetter('date')):\n",
    "    print(date)  # Aquí date es el valor de la clave 'date' que define el grupo\n",
    "    for item in items:\n",
    "        print('    ', item)  # item es cada diccionario dentro del grupo correspondiente a 'date'"
   ]
  },
  {
   "cell_type": "markdown",
   "metadata": {},
   "source": [
    "**groupby de itertools es útil cuando necesitas agrupar elementos consecutivos en una secuencia según un criterio específico. Aquí te indico algunos casos comunes en los que groupby es beneficioso:**\n",
    "\n",
    "* **Agrupación por una clave específica:** Cuando tienes una lista de elementos y quieres agruparlos según el valor de una clave común. Por ejemplo, agrupar registros de datos por fecha, categorizar datos por algún atributo compartido, etc.\n",
    "\n",
    "* **Datos ordenados:** groupby espera que los datos estén ordenados según el criterio de agrupación. Es útil cuando tienes datos ordenados por la clave por la que deseas agrupar, ya que agrupará elementos consecutivos que tengan el mismo valor para esa clave.\n",
    "\n",
    "* **Eficiencia:** groupby funciona de manera eficiente ya que no requiere almacenar todos los datos en estructuras adicionales; trabaja directamente sobre la iteración de los datos existentes.\n",
    "\n",
    "* **Operaciones de reducción:** Puedes usar groupby junto con funciones de agregación, como sum, max, min, etc., para realizar operaciones de reducción dentro de cada grupo de elementos.\n",
    "\n",
    "* **Análisis de datos:** Es útil en tareas de análisis de datos donde necesitas segmentar y procesar conjuntos de datos agrupados según diferentes criterios."
   ]
  },
  {
   "cell_type": "markdown",
   "metadata": {},
   "source": [
    "**Otro ejemplo con analisis de datos**"
   ]
  },
  {
   "cell_type": "code",
   "execution_count": 348,
   "metadata": {},
   "outputs": [
    {
     "name": "stdout",
     "output_type": "stream",
     "text": [
      "2024-07-01\n",
      "     {'date': '2024-07-01', 'value': 10}\n",
      "     {'date': '2024-07-01', 'value': 15}\n",
      "2024-07-02\n",
      "     {'date': '2024-07-02', 'value': 20}\n",
      "     {'date': '2024-07-02', 'value': 25}\n",
      "     {'date': '2024-07-02', 'value': 30}\n"
     ]
    }
   ],
   "source": [
    "from itertools import groupby\n",
    "from operator import itemgetter\n",
    "\n",
    "# Ejemplo de datos\n",
    "rows = [\n",
    "    {'date': '2024-07-01', 'value': 10},\n",
    "    {'date': '2024-07-01', 'value': 15},\n",
    "    {'date': '2024-07-02', 'value': 20},\n",
    "    {'date': '2024-07-02', 'value': 25},\n",
    "    {'date': '2024-07-02', 'value': 30},\n",
    "]\n",
    "\n",
    "# Lista para almacenar los resultados\n",
    "grouped_data = []\n",
    "\n",
    "# Agrupar por la clave 'date' y almacenar en grouped_data\n",
    "for date, items in groupby(rows, key=itemgetter('date')):\n",
    "    group = {'date': date, 'items': list(items)}\n",
    "    grouped_data.append(group)\n",
    "\n",
    "# Mostrar el resultado\n",
    "for group in grouped_data:\n",
    "    print(group['date'])\n",
    "    for item in group['items']:\n",
    "        print('    ', item)\n"
   ]
  },
  {
   "cell_type": "code",
   "execution_count": 349,
   "metadata": {},
   "outputs": [
    {
     "data": {
      "text/plain": [
       "[{'date': '2024-07-01',\n",
       "  'items': [{'date': '2024-07-01', 'value': 10},\n",
       "   {'date': '2024-07-01', 'value': 15}]},\n",
       " {'date': '2024-07-02',\n",
       "  'items': [{'date': '2024-07-02', 'value': 20},\n",
       "   {'date': '2024-07-02', 'value': 25},\n",
       "   {'date': '2024-07-02', 'value': 30}]}]"
      ]
     },
     "execution_count": 349,
     "metadata": {},
     "output_type": "execute_result"
    }
   ],
   "source": [
    "grouped_data"
   ]
  },
  {
   "cell_type": "code",
   "execution_count": 350,
   "metadata": {},
   "outputs": [
    {
     "data": {
      "text/plain": [
       "{'date': '2024-07-01',\n",
       " 'items': [{'date': '2024-07-01', 'value': 10},\n",
       "  {'date': '2024-07-01', 'value': 15}]}"
      ]
     },
     "execution_count": 350,
     "metadata": {},
     "output_type": "execute_result"
    }
   ],
   "source": [
    "grouped_data[0]"
   ]
  },
  {
   "cell_type": "markdown",
   "metadata": {},
   "source": [
    "**Ejemplo de estudio**\n",
    "\n",
    "**Punto numero 1**\n",
    "* x es una lista que contiene 2 diccionarios anidados donde el primer for me permite recorrer ambos diccionarios."
   ]
  },
  {
   "cell_type": "code",
   "execution_count": 404,
   "metadata": {},
   "outputs": [],
   "source": [
    "x = [\n",
    "    {\n",
    "        'date': '2024-07-01',\n",
    "        'items': [\n",
    "            {'date': '2024-07-01', 'value': 10},\n",
    "            {'date': '2024-07-01', 'value': 15}\n",
    "        ]\n",
    "    },\n",
    "    {\n",
    "        'date': '2024-07-02',\n",
    "        'items': [\n",
    "            {'date': '2024-07-02', 'value': 20},\n",
    "            {'date': '2024-07-02', 'value': 25},\n",
    "            {'date': '2024-07-02', 'value': 30}\n",
    "        ]\n",
    "    }\n",
    "]\n"
   ]
  },
  {
   "cell_type": "markdown",
   "metadata": {},
   "source": [
    "**Punto numero 2**\n",
    "* Si itero sobre ambos diccionarios me puedo dar cuenta que \"date\" y \"items\" son keys pero que \"items\" tienen una lista que contiene un diccionario interno con una key = \"date\" y una \"value\"\n"
   ]
  },
  {
   "cell_type": "code",
   "execution_count": 352,
   "metadata": {},
   "outputs": [
    {
     "name": "stdout",
     "output_type": "stream",
     "text": [
      "{'date': '2024-07-01', 'items': [{'date': '2024-07-01', 'value': 10}, {'date': '2024-07-01', 'value': 15}]}\n",
      "{'date': '2024-07-02', 'items': [{'date': '2024-07-02', 'value': 20}, {'date': '2024-07-02', 'value': 25}, {'date': '2024-07-02', 'value': 30}]}\n"
     ]
    }
   ],
   "source": [
    "for group in x:\n",
    "    print(group)"
   ]
  },
  {
   "cell_type": "code",
   "execution_count": 353,
   "metadata": {},
   "outputs": [
    {
     "name": "stdout",
     "output_type": "stream",
     "text": [
      "2024-07-01\n",
      "2024-07-02\n"
     ]
    }
   ],
   "source": [
    "for group in x:\n",
    "    print(group[\"date\"])"
   ]
  },
  {
   "cell_type": "code",
   "execution_count": 354,
   "metadata": {},
   "outputs": [
    {
     "name": "stdout",
     "output_type": "stream",
     "text": [
      "[{'date': '2024-07-01', 'value': 10}, {'date': '2024-07-01', 'value': 15}]\n",
      "[{'date': '2024-07-02', 'value': 20}, {'date': '2024-07-02', 'value': 25}, {'date': '2024-07-02', 'value': 30}]\n"
     ]
    }
   ],
   "source": [
    "for group in x:\n",
    "    print(group[\"items\"])"
   ]
  },
  {
   "cell_type": "code",
   "execution_count": 355,
   "metadata": {},
   "outputs": [
    {
     "name": "stdout",
     "output_type": "stream",
     "text": [
      "[{'date': '2024-07-01', 'value': 10}, {'date': '2024-07-01', 'value': 15}]\n",
      "\n",
      "10\n",
      "\n",
      "15\n",
      "\n",
      "[{'date': '2024-07-02', 'value': 20}, {'date': '2024-07-02', 'value': 25}, {'date': '2024-07-02', 'value': 30}]\n",
      "\n",
      "20\n",
      "\n",
      "25\n",
      "\n",
      "30\n",
      "\n"
     ]
    }
   ],
   "source": [
    "for group in x:\n",
    "    print(f\"{group['items']}\\n\")\n",
    "    for valor in group['items']:\n",
    "        print(f\"{valor['value']}\\n\")"
   ]
  },
  {
   "cell_type": "markdown",
   "metadata": {},
   "source": [
    "**Punto numero 3**\n",
    "* Este blucle for despues de iterar sobre cada uno de los dos diccionarios anidados me permite dentro de la listcomprehension **iterar intermente** sobre la clave key = \"items\" y tomar sus valores internos con item[\"values\"] asignandolos a la variable valor_total donde al momento de hacer la primera iteracion me traera los valores internos \n"
   ]
  },
  {
   "cell_type": "code",
   "execution_count": 356,
   "metadata": {},
   "outputs": [
    {
     "name": "stdout",
     "output_type": "stream",
     "text": [
      "[10, 15]\n",
      "[20, 25, 30]\n"
     ]
    }
   ],
   "source": [
    "for group in x:\n",
    "    valor_total = [item[\"value\"] for item in group['items']]\n",
    "    print(valor_total)"
   ]
  },
  {
   "cell_type": "code",
   "execution_count": 357,
   "metadata": {},
   "outputs": [
    {
     "name": "stdout",
     "output_type": "stream",
     "text": [
      "Total value for date 2024-07-01: 25\n",
      "Total value for date 2024-07-02: 75\n"
     ]
    }
   ],
   "source": [
    "# Ejemplo de análisis posterior\n",
    "# Calcular suma de 'value' para cada fecha\n",
    "for group in grouped_data:\n",
    "    total_value = sum(item['value'] for item in group['items'])\n",
    "    print(f\"Total value for date {group['date']}: {total_value}\")\n"
   ]
  },
  {
   "cell_type": "markdown",
   "metadata": {},
   "source": [
    "**La conclusion** \n",
    "\n",
    "* Cuando se me presente algun caso similar es entender que primero debo iterar sobre esa lista de diccionarios anidados independientemente de cual sea su tamaño y posteriormente recorrer internamente esos diccionarios y los valores que llega a necesitar de ellos.\n",
    "\n",
    "**Por qué es Importante este Enfoque:**\n",
    "* Claridad y estructura: Dividir el proceso en pasos separados (iterar externamente y luego acceder internamente) hace que tu código sea más claro y fácil de entender para otros programadores que puedan leerlo en el futuro.\n",
    "\n",
    "**Flexibilidad y manejo de datos:**\n",
    "* Manejar datos estructurados de esta manera permite una manipulación y análisis más flexible y dinámica. Puedes realizar operaciones específicas en cada nivel de la estructura sin confusiones."
   ]
  },
  {
   "cell_type": "markdown",
   "metadata": {},
   "source": [
    "**Ejemplo de Mejores Prácticas:**"
   ]
  },
  {
   "cell_type": "code",
   "execution_count": 358,
   "metadata": {},
   "outputs": [
    {
     "name": "stdout",
     "output_type": "stream",
     "text": [
      "Valores para el grupo con fecha 2024-07-01: [10, 15]\n",
      "Valores para el grupo con fecha 2024-07-02: [20, 25, 30]\n"
     ]
    }
   ],
   "source": [
    "# Ejemplo genérico para iterar sobre una lista de diccionarios anidados\n",
    "for group in x:\n",
    "    # Acceder a la clave 'items' dentro de cada diccionario 'group'\n",
    "    if 'items' in group:\n",
    "        # Usar una comprensión de lista para acceder a los valores de 'value' dentro de 'items'\n",
    "        valores = [item['value'] for item in group['items']]\n",
    "        # Realizar cualquier operación necesaria con 'valores'\n",
    "        print(f\"Valores para el grupo con fecha {group['date']}: {valores}\")\n"
   ]
  },
  {
   "cell_type": "markdown",
   "metadata": {},
   "source": [
    "**Que se puediera mejorar**\n",
    "\n",
    "* 1 - Usar una listcomprehension de esta manera para # List comprehension con bucle for anidado\n",
    "**anidado = [[bucle interno] bucle externo]** para no que sea mas elegante"
   ]
  },
  {
   "cell_type": "code",
   "execution_count": 359,
   "metadata": {},
   "outputs": [
    {
     "data": {
      "text/plain": [
       "[[10, 15], [20, 25, 30]]"
      ]
     },
     "execution_count": 359,
     "metadata": {},
     "output_type": "execute_result"
    }
   ],
   "source": [
    "\"\"\"\n",
    "El bucle externo (derecha): es el que recorre la lista de diccionarios\n",
    "El bucle interno (izquierda): es el que recorre internamente la clave \"items\" para obtener los valores \n",
    "\"\"\"\n",
    "\n",
    "# List comprehension anidada para obtener una lista de listas de valores 'value'\n",
    "anidado = [[valor['value'] for valor in group['items']] for group in x]\n",
    "anidado"
   ]
  },
  {
   "cell_type": "code",
   "execution_count": 13,
   "metadata": {},
   "outputs": [],
   "source": [
    "x = [\n",
    "    {\n",
    "        'date': '2024-07-01',\n",
    "        'items': [\n",
    "            {'date': '2024-07-01', 'value': 10},\n",
    "            {'date': '2024-07-01', 'value': 15}\n",
    "        ]\n",
    "    },\n",
    "    {\n",
    "        'date': '2024-07-02',\n",
    "        'items': [\n",
    "            {'date': '2024-07-02', 'value': 20},\n",
    "            {'date': '2024-07-02', 'value': 25},\n",
    "            {'date': '2024-07-02', 'value': 30}\n",
    "        ]\n",
    "    }\n",
    "]\n"
   ]
  },
  {
   "cell_type": "markdown",
   "metadata": {},
   "source": [
    "**Ejercicios**"
   ]
  },
  {
   "cell_type": "markdown",
   "metadata": {},
   "source": [
    "Extrae y muestra todos los valores (value) del día '2024-07-01'."
   ]
  },
  {
   "cell_type": "code",
   "execution_count": 365,
   "metadata": {},
   "outputs": [
    {
     "name": "stdout",
     "output_type": "stream",
     "text": [
      "10\n",
      "15\n"
     ]
    }
   ],
   "source": [
    "date_to_find = '2024-07-01'\n",
    "for record in x:    \n",
    "    if record[\"date\"] == date_to_find:\n",
    "        for item in record[\"items\"]:\n",
    "            print(item[\"value\"])"
   ]
  },
  {
   "cell_type": "markdown",
   "metadata": {},
   "source": [
    "Extrae y muestra todos los valores (value) del día '2024-07-01' con una funcion."
   ]
  },
  {
   "cell_type": "code",
   "execution_count": 87,
   "metadata": {},
   "outputs": [],
   "source": [
    "def date_to_find(data,date):\n",
    "    values = []\n",
    "    for record in data:\n",
    "        if record['date'] == date:\n",
    "            for item in record['items']:\n",
    "                values.append(item['value'])\n",
    "    return values"
   ]
  },
  {
   "cell_type": "code",
   "execution_count": 88,
   "metadata": {},
   "outputs": [
    {
     "data": {
      "text/plain": [
       "[10, 15]"
      ]
     },
     "execution_count": 88,
     "metadata": {},
     "output_type": "execute_result"
    }
   ],
   "source": [
    "w = date_to_find(x,'2024-07-01')\n",
    "w"
   ]
  },
  {
   "cell_type": "markdown",
   "metadata": {},
   "source": [
    "Calcula y muestra el promedio de los valores (value) del día '2024-07-02'"
   ]
  },
  {
   "cell_type": "code",
   "execution_count": 24,
   "metadata": {},
   "outputs": [
    {
     "name": "stdout",
     "output_type": "stream",
     "text": [
      "25.0\n"
     ]
    }
   ],
   "source": [
    "date_to_find = '2024-07-02'\n",
    "all_values = []\n",
    "for record in x:\n",
    "    if record[\"date\"] == date_to_find:\n",
    "        for item in record[\"items\"]:\n",
    "            all_values.append(item['value'])\n",
    "            \n",
    "average = (sum(all_values) / len(all_values))\n",
    "print(average)"
   ]
  },
  {
   "cell_type": "markdown",
   "metadata": {},
   "source": [
    "Agrega un nuevo valor (value) de 35 al día '2024-07-02'."
   ]
  },
  {
   "cell_type": "code",
   "execution_count": 25,
   "metadata": {},
   "outputs": [],
   "source": [
    "new_value = {'date' : \"2024-07-02\", 'value' : 35}\n",
    "\n",
    "for record in x:\n",
    "    if record['date'] == new_value['date']:\n",
    "        record['items'].append(new_value)"
   ]
  },
  {
   "cell_type": "code",
   "execution_count": 26,
   "metadata": {},
   "outputs": [
    {
     "data": {
      "text/plain": [
       "[{'date': '2024-07-01',\n",
       "  'items': [{'date': '2024-07-01', 'value': 10},\n",
       "   {'date': '2024-07-01', 'value': 15}]},\n",
       " {'date': '2024-07-02',\n",
       "  'items': [{'date': '2024-07-02', 'value': 20},\n",
       "   {'date': '2024-07-02', 'value': 25},\n",
       "   {'date': '2024-07-02', 'value': 30},\n",
       "   {'date': '2024-07-02', 'value': 35}]}]"
      ]
     },
     "execution_count": 26,
     "metadata": {},
     "output_type": "execute_result"
    }
   ],
   "source": [
    "x"
   ]
  },
  {
   "cell_type": "markdown",
   "metadata": {},
   "source": [
    "Eliminar todos los valores de un día específico:"
   ]
  },
  {
   "cell_type": "code",
   "execution_count": 10,
   "metadata": {},
   "outputs": [],
   "source": [
    "date_to_remove = '2024-07-01'\n",
    "for record in x:\n",
    "    if record['date'] == date_to_remove:\n",
    "        record['items'] = []"
   ]
  },
  {
   "cell_type": "code",
   "execution_count": 11,
   "metadata": {},
   "outputs": [
    {
     "data": {
      "text/plain": [
       "[{'date': '2024-07-01', 'items': []},\n",
       " {'date': '2024-07-02',\n",
       "  'items': [{'date': '2024-07-02', 'value': 20},\n",
       "   {'date': '2024-07-02', 'value': 25},\n",
       "   {'date': '2024-07-02', 'value': 30}]}]"
      ]
     },
     "execution_count": 11,
     "metadata": {},
     "output_type": "execute_result"
    }
   ],
   "source": [
    "x"
   ]
  },
  {
   "cell_type": "markdown",
   "metadata": {},
   "source": [
    "Encontrar el valor máximo y mínimo de todos los días:"
   ]
  },
  {
   "cell_type": "code",
   "execution_count": 83,
   "metadata": {},
   "outputs": [],
   "source": [
    "x = [\n",
    "    {\n",
    "        'date': '2024-07-01',\n",
    "        'items': [\n",
    "            {'date': '2024-07-01', 'value': 10},\n",
    "            {'date': '2024-07-01', 'value': 15}\n",
    "        ]\n",
    "    },\n",
    "    {\n",
    "        'date': '2024-07-02',\n",
    "        'items': [\n",
    "            {'date': '2024-07-02', 'value': 20},\n",
    "            {'date': '2024-07-02', 'value': 25},\n",
    "            {'date': '2024-07-02', 'value': 30}\n",
    "        ]\n",
    "    }\n",
    "]\n"
   ]
  },
  {
   "cell_type": "code",
   "execution_count": 28,
   "metadata": {},
   "outputs": [
    {
     "name": "stdout",
     "output_type": "stream",
     "text": [
      "Max Value: 30\n",
      "Min Value: 10\n"
     ]
    }
   ],
   "source": [
    "all_values = []\n",
    "for record in x:\n",
    "    for item in record['items']:\n",
    "        all_values.append(item['value'])\n",
    "\n",
    "max_value = max(all_values)\n",
    "min_value = min(all_values)\n",
    "\n",
    "print(f'Max Value: {max_value}')\n",
    "print(f'Min Value: {min_value}')"
   ]
  },
  {
   "cell_type": "markdown",
   "metadata": {},
   "source": [
    "Crear una funcion y encontrar el valor máximo y mínimo de todos los días: "
   ]
  },
  {
   "cell_type": "code",
   "execution_count": 77,
   "metadata": {},
   "outputs": [],
   "source": [
    "def max_and_min(data):\n",
    "    all_values = []\n",
    "    for record in data:\n",
    "        for item in record['items']:\n",
    "            all_values.append(item['value'])\n",
    "    \n",
    "    return all_values"
   ]
  },
  {
   "cell_type": "code",
   "execution_count": 80,
   "metadata": {},
   "outputs": [
    {
     "name": "stdout",
     "output_type": "stream",
     "text": [
      "Max Value: 30\n",
      "Min Value: 10\n"
     ]
    }
   ],
   "source": [
    "w = max_and_min(x)\n",
    "print(f'Max Value: {max(w)}')\n",
    "print(f'Min Value: {min(w)}')"
   ]
  },
  {
   "cell_type": "markdown",
   "metadata": {},
   "source": [
    "**Ejercicio Avanzado**\n",
    "\n",
    "* Reestructurar los datos por valor total de cada día:\n",
    "\n"
   ]
  },
  {
   "cell_type": "code",
   "execution_count": 31,
   "metadata": {},
   "outputs": [
    {
     "name": "stdout",
     "output_type": "stream",
     "text": [
      "[{'date': '2024-07-01', 'total_value': 25}, {'date': '2024-07-02', 'total_value': 75}]\n"
     ]
    }
   ],
   "source": [
    "new_structure = []\n",
    "for record in x:\n",
    "    date = record['date']\n",
    "    total_value = sum([item['value'] for item in record['items']])\n",
    "    new_structure.append({'date' : date, 'total_value': total_value})\n",
    "\n",
    "print(new_structure)"
   ]
  },
  {
   "cell_type": "markdown",
   "metadata": {},
   "source": [
    "**Ejemplo avanzado en funcion**"
   ]
  },
  {
   "cell_type": "code",
   "execution_count": 69,
   "metadata": {},
   "outputs": [],
   "source": [
    "def structured_data(data):\n",
    "    new_structure = []\n",
    "    for record in data:\n",
    "        date = record['date']\n",
    "        total_value = sum(item['value'] for item in record['items'])\n",
    "        new_structure.append(\n",
    "            {\n",
    "                'date': date,\n",
    "                'total_value' : total_value\n",
    "            }\n",
    "        )\n",
    "    return new_structure\n",
    "\n"
   ]
  },
  {
   "cell_type": "code",
   "execution_count": 72,
   "metadata": {},
   "outputs": [
    {
     "name": "stdout",
     "output_type": "stream",
     "text": [
      "{'date': '2024-07-01', 'total_value': 25}\n",
      "{'date': '2024-07-02', 'total_value': 75}\n"
     ]
    }
   ],
   "source": [
    "w = structured_data(x)\n",
    "for x in w:\n",
    "    print(x)"
   ]
  },
  {
   "cell_type": "markdown",
   "metadata": {},
   "source": [
    "**Ejercicio Complejo**\n",
    "\n",
    "* Agrupar valores por día y calcular estadísticas:"
   ]
  },
  {
   "cell_type": "code",
   "execution_count": 61,
   "metadata": {},
   "outputs": [],
   "source": [
    "import math\n",
    "\n",
    "def calculate_statistics(data):\n",
    "    result = []\n",
    "    for record in data:\n",
    "        date = record['date']\n",
    "        values = [item['value'] for item in record['items']]\n",
    "        total = sum(values)\n",
    "        average = total / len(values)\n",
    "        variance = sum((v - average)**2 for v in values) /  len(values)\n",
    "        std_dev = math.sqrt(variance)\n",
    "\n",
    "        result.append(\n",
    "            {\n",
    "                'date' : date,\n",
    "                'total' : total,\n",
    "                'average' : average,\n",
    "                'variance' : variance,\n",
    "                'std_dev' : std_dev\n",
    "            }\n",
    "        )\n",
    "    return result\n",
    "\n"
   ]
  },
  {
   "cell_type": "code",
   "execution_count": 67,
   "metadata": {},
   "outputs": [
    {
     "name": "stdout",
     "output_type": "stream",
     "text": [
      "Date: 2024-07-01\n",
      "Total: 25\n",
      "Average: 12.50\n",
      "Std Dev: 2.50\n",
      "\n",
      "Date: 2024-07-02\n",
      "Total: 75\n",
      "Average: 25.00\n",
      "Std Dev: 4.08\n",
      "\n"
     ]
    }
   ],
   "source": [
    "statistics = calculate_statistics(x)\n",
    "for stats in statistics:\n",
    "    print(f\"Date: {stats['date']}\")\n",
    "    print(f\"Total: {stats['total']}\")\n",
    "    print(f\"Average: {stats['average']:.2f}\")\n",
    "    print(f\"Std Dev: {stats['std_dev']:.2f}\\n\")"
   ]
  },
  {
   "cell_type": "markdown",
   "metadata": {},
   "source": [
    "**Ejercicios con groupby**"
   ]
  },
  {
   "cell_type": "markdown",
   "metadata": {},
   "source": [
    "**Ejercicios Sencillos**\n",
    "* Agrupar números por paridad (pares e impares)"
   ]
  },
  {
   "cell_type": "code",
   "execution_count": 27,
   "metadata": {},
   "outputs": [
    {
     "name": "stdout",
     "output_type": "stream",
     "text": [
      "par: [2, 4, 6, 8, 10]\n",
      "inpar: [1, 3, 5, 7, 9]\n"
     ]
    }
   ],
   "source": [
    "from itertools import groupby\n",
    "from operator import itemgetter\n",
    "from numpy import arange\n",
    "\n",
    "numbers = list(arange(1,11))\n",
    "#ordenar por pares\n",
    "sorted_numbers = sorted(numbers,key=lambda x: x % 2)\n",
    "\n",
    "grouped_numbers = groupby(sorted_numbers,key=lambda x: x % 2)\n",
    "for key,group in grouped_numbers:\n",
    "    parity = 'par' if key == 0 else 'inpar'\n",
    "    print(f\"{parity}: {list(group)}\")"
   ]
  },
  {
   "cell_type": "markdown",
   "metadata": {},
   "source": [
    "**Agrupar nombres por la primera letra:**\n",
    "\n",
    "* Dada una lista de nombres, agrúpalos por su primera letra."
   ]
  },
  {
   "cell_type": "code",
   "execution_count": 39,
   "metadata": {},
   "outputs": [
    {
     "name": "stdout",
     "output_type": "stream",
     "text": [
      "A : ['Alice', 'Adam']\n",
      "B : ['Bob']\n",
      "C : ['Charlie']\n",
      "D : ['David']\n",
      "E : ['Edward', 'Eva']\n"
     ]
    }
   ],
   "source": [
    "from itertools import groupby\n",
    "from operator import itemgetter\n",
    "\n",
    "names = ['Alice', 'Adam', 'Bob', 'Charlie', 'David', 'Edward', 'Eva']\n",
    "#ordena los nombres por la primera leta\n",
    "sorted_names = sorted(names,key=itemgetter(0))\n",
    "\n",
    "grouped_names = groupby(sorted_names,key=itemgetter(0))\n",
    "for key, group in grouped_names:\n",
    "    print(f\"{key} : {list(group)}\")"
   ]
  },
  {
   "cell_type": "markdown",
   "metadata": {},
   "source": [
    "**Ejercicios Medios**\n",
    "* Agrupar transacciones por tipo:\n",
    "\n",
    "* Dada una lista de transacciones con un tipo y un monto, agrúpalas por tipo."
   ]
  },
  {
   "cell_type": "code",
   "execution_count": 48,
   "metadata": {},
   "outputs": [
    {
     "name": "stdout",
     "output_type": "stream",
     "text": [
      "deposit: [{'type': 'deposit', 'amount': 100}, {'type': 'deposit', 'amount': 200}, {'type': 'deposit', 'amount': 150}]\n",
      "withdrawal: [{'type': 'withdrawal', 'amount': 50}, {'type': 'withdrawal', 'amount': 75}]\n"
     ]
    }
   ],
   "source": [
    "from itertools import groupby\n",
    "from operator import itemgetter\n",
    "\n",
    "transactions = [\n",
    "    {'type': 'deposit', 'amount': 100},\n",
    "    {'type': 'withdrawal', 'amount': 50},\n",
    "    {'type': 'deposit', 'amount': 200},\n",
    "    {'type': 'withdrawal', 'amount': 75},\n",
    "    {'type': 'deposit', 'amount': 150}\n",
    "]\n",
    "\n",
    "sorted_transactions = sorted(transactions,key=itemgetter('type'))\n",
    "grouped_transactions = groupby(sorted_transactions, key=itemgetter('type'))\n",
    "for key, group in grouped_transactions:\n",
    "    print(f\"{key}: {list(group)}\")"
   ]
  },
  {
   "cell_type": "markdown",
   "metadata": {},
   "source": [
    "**Agrupar eventos por fecha:**\n",
    "\n",
    "* Dada una lista de eventos con fechas y nombres, agrúpalos por fecha."
   ]
  },
  {
   "cell_type": "code",
   "execution_count": 50,
   "metadata": {},
   "outputs": [
    {
     "name": "stdout",
     "output_type": "stream",
     "text": [
      "2024-07-01 : [{'date': '2024-07-01', 'event': 'Meeting'}, {'date': '2024-07-01', 'event': 'Workshop'}]\n",
      "2024-07-02 : [{'date': '2024-07-02', 'event': 'Conference'}, {'date': '2024-07-02', 'event': 'Webinar'}]\n",
      "2024-07-03 : [{'date': '2024-07-03', 'event': 'Seminar'}]\n"
     ]
    }
   ],
   "source": [
    "from itertools import groupby\n",
    "from operator import itemgetter\n",
    "\n",
    "events = [\n",
    "    {'date': '2024-07-01', 'event': 'Meeting'},\n",
    "    {'date': '2024-07-02', 'event': 'Conference'},\n",
    "    {'date': '2024-07-01', 'event': 'Workshop'},\n",
    "    {'date': '2024-07-03', 'event': 'Seminar'},\n",
    "    {'date': '2024-07-02', 'event': 'Webinar'}\n",
    "]\n",
    "\n",
    "sorted_events = sorted(events,key=itemgetter('date'))\n",
    "grouped_events = groupby(sorted_events,key=itemgetter('date'))\n",
    "for key, group in grouped_events:\n",
    "    print(f\"{key} : {list(group)}\")\n"
   ]
  },
  {
   "cell_type": "markdown",
   "metadata": {},
   "source": [
    "**Ejercicios Avanzados**\n",
    "\n",
    "* Dada una lista de productos con categorías y ventas, agrúpalos por categoría y calcula el total de ventas por categoría."
   ]
  },
  {
   "cell_type": "code",
   "execution_count": 70,
   "metadata": {},
   "outputs": [
    {
     "name": "stdout",
     "output_type": "stream",
     "text": [
      "Clothing : Total Sales = 2000\n",
      "Electronics : Total Sales = 4000\n",
      "Furniture : Total Sales = 5000\n"
     ]
    }
   ],
   "source": [
    "from itertools import groupby\n",
    "from operator import itemgetter\n",
    "\n",
    "products = [\n",
    "    {'category': 'Electronics', 'sales': 1500},\n",
    "    {'category': 'Furniture', 'sales': 3000},\n",
    "    {'category': 'Electronics', 'sales': 2500},\n",
    "    {'category': 'Clothing', 'sales': 1200},\n",
    "    {'category': 'Furniture', 'sales': 2000},\n",
    "    {'category': 'Clothing', 'sales': 800}\n",
    "]\n",
    "\n",
    "sorted_products = sorted(products,key=itemgetter('category'))\n",
    "\n",
    "grouped_products = groupby(sorted_products,key=itemgetter('category'))\n",
    "\n",
    "for key,group in grouped_products:\n",
    "    total_value_category = sum([item['sales'] for item in group])\n",
    "    print(f\"{key} : Total Sales = {total_value_category}\")\n",
    "    "
   ]
  },
  {
   "cell_type": "markdown",
   "metadata": {},
   "source": [
    "**Agrupar empleados por departamento y calcular el promedio de salario:**\n",
    "\n",
    "* Dada una lista de empleados con departamentos y salarios, agrúpalos por departamento y calcula el promedio de salario por departamento."
   ]
  },
  {
   "cell_type": "code",
   "execution_count": 134,
   "metadata": {},
   "outputs": [
    {
     "name": "stdout",
     "output_type": "stream",
     "text": [
      "deparment: Finance: Average Salary = 82500.00\n",
      "deparment: HR: Average Salary = 55000.00\n",
      "deparment: IT: Average Salary = 72500.00\n"
     ]
    }
   ],
   "source": [
    "from itertools import groupby\n",
    "from operator import itemgetter\n",
    "import pandas as pd\n",
    "\n",
    "employees = [\n",
    "    {'department': 'HR', 'salary': 50000},\n",
    "    {'department': 'IT', 'salary': 70000},\n",
    "    {'department': 'HR', 'salary': 60000},\n",
    "    {'department': 'Finance', 'salary': 80000},\n",
    "    {'department': 'IT', 'salary': 75000},\n",
    "    {'department': 'Finance', 'salary': 85000}\n",
    "]\n",
    "\n",
    "sorted_employees = sorted(employees,key=itemgetter('department'))\n",
    "grouped_employess = groupby(sorted_employees,key=itemgetter('department'))\n",
    "\n",
    "for key, group in grouped_employess:\n",
    "    salarys = [item['salary'] for item in group]\n",
    "    average = sum(salarys) / len(salarys)\n",
    "    print(f\"deparment: {key}: Average Salary = {average:.2f}\")"
   ]
  },
  {
   "cell_type": "markdown",
   "metadata": {},
   "source": [
    "**Ejercicios Medios con sub-DataFrame**\n",
    "* Agrupar eventos por fecha y crear sub-DataFrame:"
   ]
  },
  {
   "cell_type": "code",
   "execution_count": 105,
   "metadata": {},
   "outputs": [
    {
     "name": "stdout",
     "output_type": "stream",
     "text": [
      "Sub-DataFrame for date 2024-07-01:\n",
      "         date     event\n",
      "0  2024-07-01   Meeting\n",
      "1  2024-07-01  Workshop\n",
      "\n",
      "Sub-DataFrame for date 2024-07-02:\n",
      "         date       event\n",
      "0  2024-07-02  Conference\n",
      "1  2024-07-02     Webinar\n",
      "\n",
      "Sub-DataFrame for date 2024-07-03:\n",
      "         date    event\n",
      "0  2024-07-03  Seminar\n",
      "\n"
     ]
    }
   ],
   "source": [
    "from itertools import groupby\n",
    "from operator import itemgetter\n",
    "import pandas as pd\n",
    "\n",
    "events = [\n",
    "    {'date': '2024-07-01', 'event': 'Meeting'},\n",
    "    {'date': '2024-07-02', 'event': 'Conference'},\n",
    "    {'date': '2024-07-01', 'event': 'Workshop'},\n",
    "    {'date': '2024-07-03', 'event': 'Seminar'},\n",
    "    {'date': '2024-07-02', 'event': 'Webinar'}\n",
    "\n",
    "]\n",
    "\n",
    "sorted_events = sorted(events,key=itemgetter('date'))\n",
    "\n",
    "grouped_events = groupby(sorted_events,key=itemgetter('date'))\n",
    "for key, group in grouped_events:\n",
    "    group_list = list(group)\n",
    "    # print(f\"{key} : {group_list}\")\n",
    "    \n",
    "    df = pd.DataFrame(group_list)\n",
    "    print(f\"Sub-DataFrame for date {key}:\\n{df}\\n\")"
   ]
  },
  {
   "cell_type": "markdown",
   "metadata": {},
   "source": [
    "Agrupar transacciones por tipo y crear sub-DataFrame:"
   ]
  },
  {
   "cell_type": "code",
   "execution_count": 108,
   "metadata": {},
   "outputs": [
    {
     "name": "stdout",
     "output_type": "stream",
     "text": [
      "deposit: [{'type': 'deposit', 'amount': 100}, {'type': 'deposit', 'amount': 200}, {'type': 'deposit', 'amount': 150}]\n",
      "Sub-DataFrame for type deposit:\n",
      "      type  amount\n",
      "0  deposit     100\n",
      "1  deposit     200\n",
      "2  deposit     150\n",
      "\n",
      "withdrawal: [{'type': 'withdrawal', 'amount': 50}, {'type': 'withdrawal', 'amount': 75}]\n",
      "Sub-DataFrame for type withdrawal:\n",
      "         type  amount\n",
      "0  withdrawal      50\n",
      "1  withdrawal      75\n",
      "\n"
     ]
    }
   ],
   "source": [
    "from itertools import groupby\n",
    "from operator import itemgetter\n",
    "import pandas as pd\n",
    "\n",
    "transactions = [\n",
    "    {'type': 'deposit', 'amount': 100},\n",
    "    {'type': 'withdrawal', 'amount': 50},\n",
    "    {'type': 'deposit', 'amount': 200},\n",
    "    {'type': 'withdrawal', 'amount': 75},\n",
    "    {'type': 'deposit', 'amount': 150}\n",
    "]\n",
    "sorted_transactions = sorted(transactions, key=itemgetter('type'))\n",
    "\n",
    "grouped_transactions = groupby(sorted_transactions, key=itemgetter('type'))\n",
    "for key, group in grouped_transactions:\n",
    "    group_list = list(group)\n",
    "    print(f\"{key}: {group_list}\")\n",
    "    df = pd.DataFrame(group_list)\n",
    "    print(f\"Sub-DataFrame for type {key}:\\n{df}\\n\")\n"
   ]
  },
  {
   "cell_type": "markdown",
   "metadata": {},
   "source": [
    "**Ejercicios Avanzados con sub-DataFrame**\n",
    "\n",
    "* Agrupar productos por categoría, crear sub-DataFrame y calcular el total de ventas:"
   ]
  },
  {
   "cell_type": "code",
   "execution_count": 109,
   "metadata": {},
   "outputs": [
    {
     "name": "stdout",
     "output_type": "stream",
     "text": [
      "Clothing: [{'category': 'Clothing', 'sales': 1200}, {'category': 'Clothing', 'sales': 800}]\n",
      "Sub-DataFrame for category Clothing:\n",
      "   category  sales\n",
      "0  Clothing   1200\n",
      "1  Clothing    800\n",
      "\n",
      "Total Sales for Clothing = 2000\n",
      "\n",
      "Electronics: [{'category': 'Electronics', 'sales': 1500}, {'category': 'Electronics', 'sales': 2500}]\n",
      "Sub-DataFrame for category Electronics:\n",
      "      category  sales\n",
      "0  Electronics   1500\n",
      "1  Electronics   2500\n",
      "\n",
      "Total Sales for Electronics = 4000\n",
      "\n",
      "Furniture: [{'category': 'Furniture', 'sales': 3000}, {'category': 'Furniture', 'sales': 2000}]\n",
      "Sub-DataFrame for category Furniture:\n",
      "    category  sales\n",
      "0  Furniture   3000\n",
      "1  Furniture   2000\n",
      "\n",
      "Total Sales for Furniture = 5000\n",
      "\n"
     ]
    }
   ],
   "source": [
    "from itertools import groupby\n",
    "from operator import itemgetter\n",
    "import pandas as pd\n",
    "\n",
    "products = [\n",
    "    {'category': 'Electronics', 'sales': 1500},\n",
    "    {'category': 'Furniture', 'sales': 3000},\n",
    "    {'category': 'Electronics', 'sales': 2500},\n",
    "    {'category': 'Clothing', 'sales': 1200},\n",
    "    {'category': 'Furniture', 'sales': 2000},\n",
    "    {'category': 'Clothing', 'sales': 800}\n",
    "]\n",
    "sorted_products = sorted(products, key=itemgetter('category'))\n",
    "\n",
    "grouped_products = groupby(sorted_products, key=itemgetter('category'))\n",
    "for key, group in grouped_products:\n",
    "    group_list = list(group)\n",
    "    print(f\"{key}: {group_list}\")\n",
    "    df = pd.DataFrame(group_list)\n",
    "    total_sales = df['sales'].sum()\n",
    "    print(f\"Sub-DataFrame for category {key}:\\n{df}\\n\")\n",
    "    print(f\"Total Sales for {key} = {total_sales}\\n\")\n"
   ]
  },
  {
   "cell_type": "markdown",
   "metadata": {},
   "source": [
    "Agrupar empleados por departamento y crear sub-DataFrame"
   ]
  },
  {
   "cell_type": "code",
   "execution_count": 110,
   "metadata": {},
   "outputs": [
    {
     "name": "stdout",
     "output_type": "stream",
     "text": [
      "HR: [{'department': 'HR', 'name': 'Alice', 'salary': 50000}, {'department': 'HR', 'name': 'Charlie', 'salary': 60000}]\n",
      "Sub-DataFrame for department HR:\n",
      "  department     name  salary\n",
      "0         HR    Alice   50000\n",
      "1         HR  Charlie   60000\n",
      "\n",
      "Average Salary for HR = 55000.0\n",
      "\n",
      "IT: [{'department': 'IT', 'name': 'Bob', 'salary': 70000}, {'department': 'IT', 'name': 'Eva', 'salary': 75000}]\n",
      "Sub-DataFrame for department IT:\n",
      "  department name  salary\n",
      "0         IT  Bob   70000\n",
      "1         IT  Eva   75000\n",
      "\n",
      "Average Salary for IT = 72500.0\n",
      "\n",
      "Sales: [{'department': 'Sales', 'name': 'David', 'salary': 55000}, {'department': 'Sales', 'name': 'Frank', 'salary': 65000}]\n",
      "Sub-DataFrame for department Sales:\n",
      "  department   name  salary\n",
      "0      Sales  David   55000\n",
      "1      Sales  Frank   65000\n",
      "\n",
      "Average Salary for Sales = 60000.0\n",
      "\n"
     ]
    }
   ],
   "source": [
    "from itertools import groupby\n",
    "from operator import itemgetter\n",
    "import pandas as pd\n",
    "\n",
    "employees = [\n",
    "    {'department': 'HR', 'name': 'Alice', 'salary': 50000},\n",
    "    {'department': 'IT', 'name': 'Bob', 'salary': 70000},\n",
    "    {'department': 'HR', 'name': 'Charlie', 'salary': 60000},\n",
    "    {'department': 'Sales', 'name': 'David', 'salary': 55000},\n",
    "    {'department': 'IT', 'name': 'Eva', 'salary': 75000},\n",
    "    {'department': 'Sales', 'name': 'Frank', 'salary': 65000}\n",
    "]\n",
    "sorted_employees = sorted(employees, key=itemgetter('department'))\n",
    "\n",
    "grouped_employees = groupby(sorted_employees, key=itemgetter('department'))\n",
    "for key, group in grouped_employees:\n",
    "    group_list = list(group)\n",
    "    print(f\"{key}: {group_list}\")\n",
    "    df = pd.DataFrame(group_list)\n",
    "    avg_salary = df['salary'].mean()\n",
    "    print(f\"Sub-DataFrame for department {key}:\\n{df}\\n\")\n",
    "    print(f\"Average Salary for {key} = {avg_salary}\\n\")"
   ]
  },
  {
   "cell_type": "code",
   "execution_count": 135,
   "metadata": {},
   "outputs": [
    {
     "name": "stdout",
     "output_type": "stream",
     "text": [
      "Sub-DataFrame for department HR:\n",
      "  department     name  salary\n",
      "0         HR    Alice   50000\n",
      "1         HR  Charlie   60000\n",
      "\n",
      "Sub-DataFrame for department IT:\n",
      "  department name  salary\n",
      "0         IT  Bob   70000\n",
      "1         IT  Eva   75000\n",
      "\n",
      "Sub-DataFrame for department Sales:\n",
      "  department   name  salary\n",
      "0      Sales  David   55000\n",
      "1      Sales  Frank   65000\n",
      "\n",
      "Average Salary for HR = 55000.00\n",
      "Average Salary for IT = 72500.00\n",
      "Average Salary for Sales = 60000.00\n"
     ]
    }
   ],
   "source": [
    "from itertools import groupby\n",
    "from operator import itemgetter\n",
    "import pandas as pd\n",
    "\n",
    "employees = [\n",
    "    {'department': 'HR', 'name': 'Alice', 'salary': 50000},\n",
    "    {'department': 'IT', 'name': 'Bob', 'salary': 70000},\n",
    "    {'department': 'HR', 'name': 'Charlie', 'salary': 60000},\n",
    "    {'department': 'Sales', 'name': 'David', 'salary': 55000},\n",
    "    {'department': 'IT', 'name': 'Eva', 'salary': 75000},\n",
    "    {'department': 'Sales', 'name': 'Frank', 'salary': 65000}\n",
    "]\n",
    "sorted_employees = sorted(employees, key=itemgetter('department'))\n",
    "\n",
    "grouped_employees = groupby(sorted_employees, key=itemgetter('department'))\n",
    "sub_dfs = {}\n",
    "\n",
    "for key, group in grouped_employees:\n",
    "    group_list = list(group)\n",
    "    sub_dfs[key] = pd.DataFrame(group_list)\n",
    "    print(f\"Sub-DataFrame for department {key}:\\n{sub_dfs[key]}\\n\")\n",
    "\n",
    "# # Ahora puedes acceder a cada sub-DataFrame de forma individual\n",
    "# print(sub_dfs['HR'])\n",
    "# print(sub_dfs['IT'])\n",
    "# print(f\"{sub_dfs['Sales']}\\n\")\n",
    "\n",
    "# Ejemplo de análisis adicional: calcular el salario promedio para cada departamento\n",
    "for dept, df in sub_dfs.items():\n",
    "    avg_salary = df['salary'].mean()\n",
    "    print(f\"Average Salary for {dept} = {avg_salary:.2f}\")\n"
   ]
  },
  {
   "cell_type": "markdown",
   "metadata": {},
   "source": [
    "**Resultado del análisis:**\n",
    "\n",
    "* Después de ejecutar este código, obtendrías un DataFrame grouped_df que contiene los resultados de los análisis realizados. Aquí puedes ver cómo cada fecha tiene asociados valores como el promedio, la suma total, el número de elementos y más. Esto te proporciona información valiosa sobre tus datos agrupados, que puedes utilizar para tomar decisiones o realizar análisis más avanzados según tus necesidades específicas."
   ]
  },
  {
   "cell_type": "code",
   "execution_count": 362,
   "metadata": {},
   "outputs": [
    {
     "name": "stdout",
     "output_type": "stream",
     "text": [
      "DataFrame agrupado y analizado:\n",
      "         date                                              items  \\\n",
      "0  2024-07-01  [{'date': '2024-07-01', 'value': 10}, {'date':...   \n",
      "1  2024-07-02  [{'date': '2024-07-02', 'value': 20}, {'date':...   \n",
      "\n",
      "   average_value  total_value  count  \n",
      "0           12.5           25      2  \n",
      "1           25.0           75      3  \n",
      "\n",
      "Resultados del análisis:\n",
      "Fecha con el valor máximo total: 2024-07-02\n",
      "Fecha con el valor mínimo total: 2024-07-01\n"
     ]
    }
   ],
   "source": [
    "import pandas as pd\n",
    "from itertools import groupby\n",
    "from operator import itemgetter\n",
    "\n",
    "# Datos de ejemplo en forma de DataFrame de pandas\n",
    "data = {\n",
    "    'date': ['2024-07-01', '2024-07-01', '2024-07-02', '2024-07-02', '2024-07-02'],\n",
    "    'value': [10, 15, 20, 25, 30]\n",
    "}\n",
    "df = pd.DataFrame(data)\n",
    "\n",
    "# Agrupar usando groupby de itertools\n",
    "grouped_data = []\n",
    "for date, items in groupby(df.to_dict(orient='records'), key=itemgetter('date')):\n",
    "    group = {'date': date, 'items': list(items)}\n",
    "    grouped_data.append(group)\n",
    "\n",
    "# Convertir a DataFrame de pandas\n",
    "grouped_df = pd.DataFrame(grouped_data)\n",
    "\n",
    "# Análisis posterior sobre los grupos\n",
    "\n",
    "# 1. Calcular el promedio de 'value' para cada fecha\n",
    "grouped_df['average_value'] = grouped_df['items'].apply(lambda x: pd.DataFrame(x)['value'].mean())\n",
    "\n",
    "# 2. Calcular la suma total de 'value' para cada fecha\n",
    "grouped_df['total_value'] = grouped_df['items'].apply(lambda x: pd.DataFrame(x)['value'].sum())\n",
    "\n",
    "# 3. Encontrar la fecha con el valor máximo y mínimo\n",
    "max_value_date = grouped_df.loc[grouped_df['total_value'].idxmax(), 'date']\n",
    "min_value_date = grouped_df.loc[grouped_df['total_value'].idxmin(), 'date']\n",
    "\n",
    "# 4. Contar el número de elementos por fecha\n",
    "grouped_df['count'] = grouped_df['items'].apply(lambda x: len(x))\n",
    "\n",
    "# Mostrar el resultado del análisis\n",
    "print(\"DataFrame agrupado y analizado:\")\n",
    "print(grouped_df)\n",
    "print()\n",
    "\n",
    "print(\"Resultados del análisis:\")\n",
    "print(f\"Fecha con el valor máximo total: {max_value_date}\")\n",
    "print(f\"Fecha con el valor mínimo total: {min_value_date}\")\n"
   ]
  },
  {
   "cell_type": "markdown",
   "metadata": {},
   "source": [
    "**Extracting a Subset of a Dictionary**\n",
    "\n",
    "**Problema**\n",
    "* Desea crear un diccionario que sea un subconjunto de otro diccionario.\n",
    "\n",
    "**Solución**\n",
    "* Esto se consigue fácilmente utilizando la comprensión de un diccionario. Por ejemplo:"
   ]
  },
  {
   "cell_type": "code",
   "execution_count": 171,
   "metadata": {},
   "outputs": [],
   "source": [
    "prices = {\n",
    " 'ACME': 45.23,\n",
    " 'AAPL': 612.78,\n",
    " 'IBM': 205.55,\n",
    " 'HPQ': 37.20,\n",
    " 'FB': 10.75\n",
    " }"
   ]
  },
  {
   "cell_type": "code",
   "execution_count": 158,
   "metadata": {},
   "outputs": [
    {
     "data": {
      "text/plain": [
       "{'AAPL', 'ACME', 'FB', 'HPQ', 'IBM'}"
      ]
     },
     "execution_count": 158,
     "metadata": {},
     "output_type": "execute_result"
    }
   ],
   "source": [
    "tech_names = {key for key,_ in prices.items()}\n",
    "tech_names"
   ]
  },
  {
   "cell_type": "code",
   "execution_count": 159,
   "metadata": {},
   "outputs": [
    {
     "data": {
      "text/plain": [
       "{10.75, 37.2, 45.23, 205.55, 612.78}"
      ]
     },
     "execution_count": 159,
     "metadata": {},
     "output_type": "execute_result"
    }
   ],
   "source": [
    "values = {value for _,value in prices.items()}\n",
    "values"
   ]
  },
  {
   "cell_type": "code",
   "execution_count": 144,
   "metadata": {},
   "outputs": [
    {
     "data": {
      "text/plain": [
       "{'AAPL': 612.78, 'IBM': 205.55}"
      ]
     },
     "execution_count": 144,
     "metadata": {},
     "output_type": "execute_result"
    }
   ],
   "source": [
    "# Make a dictionary of all prices over 200\n",
    "p1 = {key:value for key,value in prices.items() if value > 200}\n",
    "p1"
   ]
  },
  {
   "cell_type": "code",
   "execution_count": 156,
   "metadata": {},
   "outputs": [
    {
     "data": {
      "text/plain": [
       "{'AAPL': 612.78, 'IBM': 205.55, 'HPQ': 37.2}"
      ]
     },
     "execution_count": 156,
     "metadata": {},
     "output_type": "execute_result"
    }
   ],
   "source": [
    "#Make a dictionary of tech stocks\n",
    "tech_names = { 'AAPL', 'IBM', 'HPQ', 'MSFT' }\n",
    "p2 = {key:value for key,value in prices.items() if key in tech_names}\n",
    "p2\n"
   ]
  },
  {
   "cell_type": "markdown",
   "metadata": {},
   "source": [
    "**Debate**\n",
    "\n",
    "* Mucho de lo que se puede lograr con la comprensión de un diccionario también podría hacerse creando una secuencia de tuplas y pasándolas a la función dict(). Por ejemplo:"
   ]
  },
  {
   "cell_type": "code",
   "execution_count": 162,
   "metadata": {},
   "outputs": [
    {
     "data": {
      "text/plain": [
       "{'AAPL': 612.78, 'IBM': 205.55}"
      ]
     },
     "execution_count": 162,
     "metadata": {},
     "output_type": "execute_result"
    }
   ],
   "source": [
    "p1 = dict((key,value) for key, value in prices.items() if value > 200)\n",
    "p1"
   ]
  },
  {
   "cell_type": "markdown",
   "metadata": {},
   "source": [
    "A veces hay varias formas de conseguir lo mismo. Por ejemplo, el segundo ejemplo podría reescribirse como:"
   ]
  },
  {
   "cell_type": "code",
   "execution_count": 170,
   "metadata": {},
   "outputs": [
    {
     "data": {
      "text/plain": [
       "{'AAPL': 612.78, 'IBM': 205.55, 'HPQ': 37.2}"
      ]
     },
     "execution_count": 170,
     "metadata": {},
     "output_type": "execute_result"
    }
   ],
   "source": [
    "# Make a dictionary of tech stocks\n",
    "tech_names = { 'AAPL', 'IBM', 'HPQ', 'MSFT' }\n",
    "#interseccion de ambos diccionarios en keys\n",
    "p2 = {key: prices[key] for key in prices.keys() & tech_names}\n",
    "p2\n",
    "    "
   ]
  },
  {
   "cell_type": "code",
   "execution_count": 1,
   "metadata": {},
   "outputs": [
    {
     "name": "stdout",
     "output_type": "stream",
     "text": [
      "nombre: Juan\n",
      "edad: 30\n",
      "ciudad: Madrid\n"
     ]
    }
   ],
   "source": [
    "def mostrar_datos(**kwargs):\n",
    "    for key, value in kwargs.items():\n",
    "        print(f\"{key}: {value}\")\n",
    "\n",
    "# Llamada a la función con argumentos de palabra clave\n",
    "mostrar_datos(nombre='Juan', edad=30, ciudad='Madrid')\n"
   ]
  },
  {
   "cell_type": "code",
   "execution_count": 2,
   "metadata": {},
   "outputs": [
    {
     "name": "stdout",
     "output_type": "stream",
     "text": [
      "nombre: Juan\n",
      "edad: 30\n",
      "ciudad: Madrid\n"
     ]
    }
   ],
   "source": [
    "datos = {'nombre': 'Juan', 'edad': 30, 'ciudad': 'Madrid'}\n",
    "\n",
    "# Llamada a la función con el desempaquetado del diccionario\n",
    "mostrar_datos(**datos)"
   ]
  }
 ],
 "metadata": {
  "kernelspec": {
   "display_name": "base",
   "language": "python",
   "name": "python3"
  },
  "language_info": {
   "codemirror_mode": {
    "name": "ipython",
    "version": 3
   },
   "file_extension": ".py",
   "mimetype": "text/x-python",
   "name": "python",
   "nbconvert_exporter": "python",
   "pygments_lexer": "ipython3",
   "version": "3.11.7"
  }
 },
 "nbformat": 4,
 "nbformat_minor": 2
}
