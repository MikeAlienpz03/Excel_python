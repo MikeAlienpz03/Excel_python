{
 "cells": [
  {
   "cell_type": "markdown",
   "metadata": {},
   "source": [
    "**Functions**\n",
    "\n",
    "* La definición de funciones mediante la sentencia def es la piedra angular de todos los programas. El objetivo de este capítulo es presentar algunos patrones de uso y definición de funciones más avanzados e inusuales.\n",
    " patrones de uso. Los temas incluyen argumentos por defecto, funciones que toman cualquier número de argumentos, argumentos de palabra clave-onl, anotaciones y cierres. Además, algunos problemas complicados de flujo de control y paso de datos que implican funciones de devolución de llamada."
   ]
  },
  {
   "cell_type": "markdown",
   "metadata": {},
   "source": [
    "**Writing Functions That Accept Any Number of Arguments**"
   ]
  },
  {
   "cell_type": "markdown",
   "metadata": {},
   "source": [
    " En este ejemplo, rest es una tupla de todos los argumentos posicionales extra pasados. El código lo trata como una secuencia al realizar los cálculos posteriores."
   ]
  },
  {
   "cell_type": "code",
   "execution_count": 1,
   "metadata": {},
   "outputs": [],
   "source": [
    "def avg(first, *rest):\n",
    "    return (first + sum(rest)) / (1 + len(rest))"
   ]
  },
  {
   "cell_type": "code",
   "execution_count": 2,
   "metadata": {},
   "outputs": [
    {
     "name": "stdout",
     "output_type": "stream",
     "text": [
      "1.5\n",
      "2.5\n"
     ]
    }
   ],
   "source": [
    "print(avg(1,2))\n",
    "print(avg(1,2,3,4))"
   ]
  },
  {
   "cell_type": "markdown",
   "metadata": {},
   "source": [
    "Para aceptar cualquier número de argumentos de palabra clave, utilice un argumento que empiece por **. Para\n",
    " ejemplo:"
   ]
  },
  {
   "cell_type": "code",
   "execution_count": 7,
   "metadata": {},
   "outputs": [],
   "source": [
    "attrs = {\n",
    "    'id': 'elemento1',\n",
    "    'class': 'boton',\n",
    "    'href': 'https://www.ejemplo.com'\n",
    "}"
   ]
  },
  {
   "cell_type": "code",
   "execution_count": 23,
   "metadata": {},
   "outputs": [
    {
     "data": {
      "text/plain": [
       "['id=\"elemento1\"', 'class=\"boton\"', 'href=\"https://www.ejemplo.com\"']"
      ]
     },
     "execution_count": 23,
     "metadata": {},
     "output_type": "execute_result"
    }
   ],
   "source": [
    "['%s=\"%s\"' % item for item in attrs.items()]"
   ]
  },
  {
   "cell_type": "code",
   "execution_count": 24,
   "metadata": {},
   "outputs": [
    {
     "data": {
      "text/plain": [
       "'id=\"elemento1\"class=\"boton\"href=\"https://www.ejemplo.com\"'"
      ]
     },
     "execution_count": 24,
     "metadata": {},
     "output_type": "execute_result"
    }
   ],
   "source": [
    "# List comprehension para crear la lista de cadenas formateadas\n",
    "keyvals = ['%s=\"%s\"' % item for item in attrs.items()]\n",
    "attrs_str = ''.join(keyvals)\n",
    "attrs_str\n"
   ]
  },
  {
   "cell_type": "code",
   "execution_count": 5,
   "metadata": {},
   "outputs": [],
   "source": [
    "import html\n",
    "\n",
    "def make_element(name, value, **attrs):\n",
    "    # Convierte los atributos pasados como kwargs en una lista de pares clave-valor en formato 'clave=\"valor\"'\n",
    "    keyvals = ['%s=\"%s\"' % item for item in attrs.items()]\n",
    "\n",
    "    # Une todos los pares clave-valor en una cadena continua de atributos\n",
    "    attr_str = ''.join(keyvals)\n",
    "    \n",
    "    # Escapa el valor usando html.escape() para prevenir inyecciones HTML y otras vulnerabilidades\n",
    "    element = '<{name}{attrs}>{value}</{name}>'.format(\n",
    "        name=name,\n",
    "        attrs=attr_str,\n",
    "        value=html.escape(value)\n",
    "    )\n",
    "\n",
    "    return element\n"
   ]
  },
  {
   "cell_type": "code",
   "execution_count": 33,
   "metadata": {},
   "outputs": [
    {
     "data": {
      "text/plain": [
       "'<itemsize=\"large\"quantity=\"6\">Albatross</item>'"
      ]
     },
     "execution_count": 33,
     "metadata": {},
     "output_type": "execute_result"
    }
   ],
   "source": [
    " # Example\n",
    " # Creates '<item size=\"large\" quantity=\"6\">Albatross</item>'\n",
    "make_element('item','Albatross', size='large', quantity=6)"
   ]
  },
  {
   "cell_type": "code",
   "execution_count": 28,
   "metadata": {},
   "outputs": [
    {
     "data": {
      "text/plain": [
       "'<ahref=\"https://www.google.com\"target=\"_blank\">Ir a Google</a>'"
      ]
     },
     "execution_count": 28,
     "metadata": {},
     "output_type": "execute_result"
    }
   ],
   "source": [
    "make_element('a', 'Ir a Google', href='https://www.google.com', target='_blank')"
   ]
  },
  {
   "cell_type": "markdown",
   "metadata": {},
   "source": [
    "La diferencia fundamental entre *args y **kwargs radica en cómo se pasan los argumentos a una función y cómo se manejan dentro de la función."
   ]
  },
  {
   "cell_type": "markdown",
   "metadata": {},
   "source": [
    " Aquí, attrs es un diccionario que contiene los argumentos de palabra clave pasados (si los hay). Si desea una función que pueda aceptar cualquier número de argumentos posicionales y de sólo palabra clave\n",
    " use * y ** juntos. Por ejemplo:"
   ]
  },
  {
   "cell_type": "code",
   "execution_count": 29,
   "metadata": {},
   "outputs": [],
   "source": [
    "def anyargs(*args, **kwargs):\n",
    "    print(args) #tuple\n",
    "    print(**kwargs) #dict"
   ]
  },
  {
   "cell_type": "code",
   "execution_count": 31,
   "metadata": {},
   "outputs": [],
   "source": [
    "def anyargs(*args, **kwargs):\n",
    "    print(args)  # Imprime la tupla de argumentos posicionales\n",
    "    for key, value in kwargs.items():\n",
    "        print(f'{key}: {value}')  # Imprime cada clave y valor del diccionario kwargs\n",
    "        "
   ]
  },
  {
   "cell_type": "code",
   "execution_count": 32,
   "metadata": {},
   "outputs": [
    {
     "name": "stdout",
     "output_type": "stream",
     "text": [
      "('a', 'b', 'c')\n",
      "nombre: Alice\n",
      "edad: 30\n"
     ]
    }
   ],
   "source": [
    "# Ejemplo de uso\n",
    "anyargs('a', 'b', 'c', nombre='Alice', edad=30)"
   ]
  },
  {
   "cell_type": "markdown",
   "metadata": {},
   "source": [
    "Funciones de escritura que sólo aceptan palabras clave\n",
    " Argumentos"
   ]
  }
 ],
 "metadata": {
  "kernelspec": {
   "display_name": "base",
   "language": "python",
   "name": "python3"
  },
  "language_info": {
   "codemirror_mode": {
    "name": "ipython",
    "version": 3
   },
   "file_extension": ".py",
   "mimetype": "text/x-python",
   "name": "python",
   "nbconvert_exporter": "python",
   "pygments_lexer": "ipython3",
   "version": "3.11.7"
  }
 },
 "nbformat": 4,
 "nbformat_minor": 2
}
