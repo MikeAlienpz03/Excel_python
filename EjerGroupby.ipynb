{
 "cells": [
  {
   "cell_type": "code",
   "execution_count": 2,
   "metadata": {},
   "outputs": [],
   "source": [
    "import pandas as pd\n",
    "import numpy as np"
   ]
  },
  {
   "cell_type": "code",
   "execution_count": 3,
   "metadata": {},
   "outputs": [],
   "source": [
    "import pandas as pd\n",
    "\n",
    "data = {\n",
    "    'Producto': ['A', 'B', 'A', 'C', 'B', 'A', 'C', 'A'],\n",
    "    'Cantidad': [10, 15, 5, 7, 12, 9, 5, 11],\n",
    "    'Precio': [20, 30, 20, 50, 30, 20, 50, 20],\n",
    "    'Fecha': ['2024-07-01', '2024-07-01', '2024-07-02', '2024-07-02', '2024-07-03', '2024-07-03', '2024-07-04', '2024-07-04']\n",
    "}\n",
    "\n",
    "df = pd.DataFrame(data)\n"
   ]
  },
  {
   "cell_type": "code",
   "execution_count": 4,
   "metadata": {},
   "outputs": [
    {
     "name": "stdout",
     "output_type": "stream",
     "text": [
      "Producto\n",
      "A    35\n",
      "B    27\n",
      "C    12\n",
      "Name: Cantidad, dtype: int64\n"
     ]
    }
   ],
   "source": [
    "# 1. Agrupa por `Producto` y calcula la cantidad total vendida de cada producto\n",
    "cantidad_total = df.groupby(['Producto'])['Cantidad'].sum()\n",
    "print(cantidad_total)"
   ]
  },
  {
   "cell_type": "code",
   "execution_count": 5,
   "metadata": {},
   "outputs": [
    {
     "name": "stdout",
     "output_type": "stream",
     "text": [
      "Producto\n",
      "A    700\n",
      "B    810\n",
      "C    600\n",
      "Name: ingreso, dtype: int64\n"
     ]
    }
   ],
   "source": [
    "# 1. Agrupa por `Producto` y calcula la cantidad total vendida de cada producto\n",
    "df['ingreso'] = df['Cantidad'] * df['Precio']\n",
    "ingreso_total = df.groupby(['Producto'])['ingreso'].sum()\n",
    "print(ingreso_total)"
   ]
  },
  {
   "cell_type": "code",
   "execution_count": 6,
   "metadata": {},
   "outputs": [
    {
     "name": "stdout",
     "output_type": "stream",
     "text": [
      "Fecha\n",
      "2024-07-01    25\n",
      "2024-07-02    12\n",
      "2024-07-03    21\n",
      "2024-07-04    16\n",
      "Name: Cantidad, dtype: int64\n"
     ]
    }
   ],
   "source": [
    "# 3. Agrupa por `Fecha` y calcula la cantidad total vendida cada día\n",
    "cantidad_por_dia = df.groupby(['Fecha'])['Cantidad'].sum()\n",
    "print(cantidad_por_dia)"
   ]
  },
  {
   "cell_type": "markdown",
   "metadata": {},
   "source": [
    "Ejercicio 2: Agrupación y Agregación"
   ]
  },
  {
   "cell_type": "code",
   "execution_count": 7,
   "metadata": {},
   "outputs": [],
   "source": [
    "data = {\n",
    "    'Empleado': ['Alice', 'Bob', 'Charlie', 'David', 'Edward', 'Frank', 'Grace'],\n",
    "    'Departamento': ['HR', 'IT', 'IT', 'HR', 'Finance', 'Finance', 'IT'],\n",
    "    'Salario': [50000, 60000, 70000, 45000, 80000, 85000, 60000],\n",
    "    'Edad': [25, 30, 35, 28, 40, 45, 32]\n",
    "}\n",
    "\n",
    "df = pd.DataFrame(data)"
   ]
  },
  {
   "cell_type": "code",
   "execution_count": 8,
   "metadata": {},
   "outputs": [
    {
     "name": "stdout",
     "output_type": "stream",
     "text": [
      "Departamento\n",
      "Finance    82500.00\n",
      "HR         47500.00\n",
      "IT         63333.33\n",
      "Name: Salario, dtype: object\n"
     ]
    }
   ],
   "source": [
    "# 1. Agrupa por `Departamento` y calcula el salario promedio en cada departamento\n",
    "promedio_salario = df.groupby(['Departamento'])['Salario'].mean()\n",
    "promedio_salario_f = promedio_salario.apply(lambda x: f'{x:.2f}')\n",
    "print(promedio_salario_f)"
   ]
  },
  {
   "cell_type": "code",
   "execution_count": 9,
   "metadata": {},
   "outputs": [
    {
     "data": {
      "text/plain": [
       "Departamento\n",
       "Finance    45\n",
       "HR         28\n",
       "IT         35\n",
       "Name: Edad, dtype: int64"
      ]
     },
     "execution_count": 9,
     "metadata": {},
     "output_type": "execute_result"
    }
   ],
   "source": [
    "# 2. Agrupa por `Departamento` y encuentra \n",
    "# la edad máxima de los empleados en cada departamento\n",
    "df.groupby(['Departamento'])['Edad'].max()\n"
   ]
  },
  {
   "cell_type": "code",
   "execution_count": 10,
   "metadata": {},
   "outputs": [
    {
     "data": {
      "text/plain": [
       "Departamento\n",
       "Finance    2\n",
       "HR         2\n",
       "IT         3\n",
       "Name: Empleado, dtype: int64"
      ]
     },
     "execution_count": 10,
     "metadata": {},
     "output_type": "execute_result"
    }
   ],
   "source": [
    "# 3. Agrupa por `Departamento` \n",
    "# y cuenta el número de empleados en cada departamento\n",
    "\n",
    "df.groupby(['Departamento'])['Empleado'].count()"
   ]
  },
  {
   "cell_type": "markdown",
   "metadata": {},
   "source": [
    "Ejercicio 3: Filtrado después de Agrupar\n"
   ]
  },
  {
   "cell_type": "code",
   "execution_count": 11,
   "metadata": {},
   "outputs": [
    {
     "data": {
      "text/html": [
       "<div>\n",
       "<style scoped>\n",
       "    .dataframe tbody tr th:only-of-type {\n",
       "        vertical-align: middle;\n",
       "    }\n",
       "\n",
       "    .dataframe tbody tr th {\n",
       "        vertical-align: top;\n",
       "    }\n",
       "\n",
       "    .dataframe thead th {\n",
       "        text-align: right;\n",
       "    }\n",
       "</style>\n",
       "<table border=\"1\" class=\"dataframe\">\n",
       "  <thead>\n",
       "    <tr style=\"text-align: right;\">\n",
       "      <th></th>\n",
       "      <th>Estudiante</th>\n",
       "      <th>Curso</th>\n",
       "      <th>Calificación</th>\n",
       "    </tr>\n",
       "  </thead>\n",
       "  <tbody>\n",
       "    <tr>\n",
       "      <th>0</th>\n",
       "      <td>Ana</td>\n",
       "      <td>Matemáticas</td>\n",
       "      <td>90</td>\n",
       "    </tr>\n",
       "    <tr>\n",
       "      <th>1</th>\n",
       "      <td>Luis</td>\n",
       "      <td>Ciencias</td>\n",
       "      <td>85</td>\n",
       "    </tr>\n",
       "    <tr>\n",
       "      <th>2</th>\n",
       "      <td>Carlos</td>\n",
       "      <td>Matemáticas</td>\n",
       "      <td>78</td>\n",
       "    </tr>\n",
       "    <tr>\n",
       "      <th>3</th>\n",
       "      <td>Marta</td>\n",
       "      <td>Historia</td>\n",
       "      <td>92</td>\n",
       "    </tr>\n",
       "    <tr>\n",
       "      <th>4</th>\n",
       "      <td>Pedro</td>\n",
       "      <td>Ciencias</td>\n",
       "      <td>88</td>\n",
       "    </tr>\n",
       "    <tr>\n",
       "      <th>5</th>\n",
       "      <td>Lucía</td>\n",
       "      <td>Historia</td>\n",
       "      <td>75</td>\n",
       "    </tr>\n",
       "    <tr>\n",
       "      <th>6</th>\n",
       "      <td>Jorge</td>\n",
       "      <td>Matemáticas</td>\n",
       "      <td>85</td>\n",
       "    </tr>\n",
       "    <tr>\n",
       "      <th>7</th>\n",
       "      <td>Sofía</td>\n",
       "      <td>Ciencias</td>\n",
       "      <td>95</td>\n",
       "    </tr>\n",
       "  </tbody>\n",
       "</table>\n",
       "</div>"
      ],
      "text/plain": [
       "  Estudiante        Curso  Calificación\n",
       "0        Ana  Matemáticas            90\n",
       "1       Luis     Ciencias            85\n",
       "2     Carlos  Matemáticas            78\n",
       "3      Marta     Historia            92\n",
       "4      Pedro     Ciencias            88\n",
       "5      Lucía     Historia            75\n",
       "6      Jorge  Matemáticas            85\n",
       "7      Sofía     Ciencias            95"
      ]
     },
     "execution_count": 11,
     "metadata": {},
     "output_type": "execute_result"
    }
   ],
   "source": [
    "data = {\n",
    "    'Estudiante': ['Ana', 'Luis', 'Carlos', 'Marta', 'Pedro', 'Lucía', 'Jorge', 'Sofía'],\n",
    "    'Curso': ['Matemáticas', 'Ciencias', 'Matemáticas', 'Historia', 'Ciencias', 'Historia', 'Matemáticas', 'Ciencias'],\n",
    "    'Calificación': [90, 85, 78, 92, 88, 75, 85, 95]\n",
    "}\n",
    "\n",
    "df = pd.DataFrame(data)\n",
    "df"
   ]
  },
  {
   "cell_type": "code",
   "execution_count": 12,
   "metadata": {},
   "outputs": [
    {
     "name": "stdout",
     "output_type": "stream",
     "text": [
      "Curso\n",
      "Ciencias       89.333333\n",
      "Historia       83.500000\n",
      "Matemáticas    84.333333\n",
      "Name: Calificación, dtype: float64\n"
     ]
    }
   ],
   "source": [
    "calificacion_promedio = df.groupby(['Curso'])['Calificación'].mean()\n",
    "print(calificacion_promedio)"
   ]
  },
  {
   "cell_type": "code",
   "execution_count": 13,
   "metadata": {},
   "outputs": [
    {
     "name": "stdout",
     "output_type": "stream",
     "text": [
      "Curso\n",
      "Ciencias    89.333333\n",
      "Name: Calificación, dtype: float64\n"
     ]
    }
   ],
   "source": [
    "#filtrando los datos que tienen mayor a 85\n",
    "mayor_85 = calificacion_promedio[calificacion_promedio > 85]\n",
    "print(mayor_85)"
   ]
  },
  {
   "cell_type": "code",
   "execution_count": 14,
   "metadata": {},
   "outputs": [
    {
     "name": "stdout",
     "output_type": "stream",
     "text": [
      "('Ciencias',)\n",
      "1    85\n",
      "4    88\n",
      "7    95\n",
      "Name: Calificación, dtype: int64\n",
      "('Historia',)\n",
      "3    92\n",
      "5    75\n",
      "Name: Calificación, dtype: int64\n",
      "('Matemáticas',)\n",
      "0    90\n",
      "2    78\n",
      "6    85\n",
      "Name: Calificación, dtype: int64\n"
     ]
    }
   ],
   "source": [
    "for curso,value in df.groupby(['Curso'])['Calificación']:\n",
    "    print(curso)\n",
    "    print(value)\n"
   ]
  },
  {
   "cell_type": "code",
   "execution_count": 15,
   "metadata": {},
   "outputs": [
    {
     "name": "stdout",
     "output_type": "stream",
     "text": [
      "0    84.333333\n",
      "1    89.333333\n",
      "2    84.333333\n",
      "3    83.500000\n",
      "4    89.333333\n",
      "5    83.500000\n",
      "6    84.333333\n",
      "7    89.333333\n",
      "Name: Calificación, dtype: float64\n"
     ]
    }
   ],
   "source": [
    "promedios = df.groupby(['Curso'])['Calificación'].transform('mean')\n",
    "print(promedios)"
   ]
  },
  {
   "cell_type": "code",
   "execution_count": 16,
   "metadata": {},
   "outputs": [
    {
     "name": "stdout",
     "output_type": "stream",
     "text": [
      "  Estudiante        Curso  Calificación\n",
      "0        Ana  Matemáticas            90\n",
      "3      Marta     Historia            92\n",
      "6      Jorge  Matemáticas            85\n",
      "7      Sofía     Ciencias            95\n"
     ]
    }
   ],
   "source": [
    "# 3. Agrupa por `Curso` y muestra \n",
    "# solo los estudiantes que tienen una calificación \n",
    "# superior al promedio de su curso\n",
    "promedios = df.groupby(['Curso'])['Calificación'].transform('mean')\n",
    "estudiantes_superior_promedio = df[df['Calificación'] > promedios]\n",
    "print(estudiantes_superior_promedio)"
   ]
  },
  {
   "cell_type": "markdown",
   "metadata": {},
   "source": [
    "**Clase: Uso Avanzado de groupby en Pandas**\n",
    "\n",
    "**¿Qué es groupby?**\n",
    "* groupby es un método en pandas que permite **dividir un DataFrame en grupos según ciertos criterios**. Luego, puedes aplicar **funciones de agregación o transformación a cada grupo individualmente.**"
   ]
  },
  {
   "cell_type": "markdown",
   "metadata": {},
   "source": [
    "**Teoría: Conceptos Clave de groupby**\n",
    "\n",
    "**División-Agregación-Combinación**\n",
    "\n",
    "* **División:** Separar el DataFrame en grupos.\n",
    "* **Agregación:** Aplicar una función de resumen a cada grupo.\n",
    "* **Combinación:** Unir los resultados en un DataFrame."
   ]
  },
  {
   "cell_type": "markdown",
   "metadata": {},
   "source": [
    "**Funciones Comunes de Agregación**\n",
    "\n",
    "* sum()\n",
    "* mean()\n",
    "* count()\n",
    "* min()\n",
    "* max()\n",
    "* std()\n",
    "* var()\n",
    "* sem()\n",
    "* median()\n",
    "* prod()\n",
    "* first()\n",
    "* last()"
   ]
  },
  {
   "cell_type": "markdown",
   "metadata": {},
   "source": [
    "**Ejercicio 1: Suma por grupo**"
   ]
  },
  {
   "cell_type": "code",
   "execution_count": 17,
   "metadata": {},
   "outputs": [],
   "source": [
    "import pandas as pd\n",
    "\n",
    "# Crear un DataFrame de ejemplo\n",
    "data = {\n",
    "    'team': ['A', 'A', 'B', 'B', 'C', 'C'],\n",
    "    'points': [10, 15, 10, 20, 30, 40],\n",
    "    'assists': [1, 2, 2, 3, 4, 5]\n",
    "}\n",
    "df = pd.DataFrame(data)"
   ]
  },
  {
   "cell_type": "code",
   "execution_count": 18,
   "metadata": {},
   "outputs": [
    {
     "name": "stdout",
     "output_type": "stream",
     "text": [
      "      points  assists\n",
      "team                 \n",
      "A         25        3\n",
      "B         30        5\n",
      "C         70        9\n"
     ]
    }
   ],
   "source": [
    "# Usar groupby para sumar puntos por equipo\n",
    "\n",
    "grouped_sum = df.groupby(['team']).sum()\n",
    "print(grouped_sum)"
   ]
  },
  {
   "cell_type": "markdown",
   "metadata": {},
   "source": [
    "**Teoría: Operaciones Avanzadas con groupby**\n",
    "\n",
    "**Agregaciones Múltiples**\n",
    "\n",
    "* Usar agg() para aplicar múltiples funciones de agregación."
   ]
  },
  {
   "cell_type": "code",
   "execution_count": 19,
   "metadata": {},
   "outputs": [
    {
     "name": "stdout",
     "output_type": "stream",
     "text": [
      "     points       assists\n",
      "        sum  mean    mean\n",
      "team                     \n",
      "A        25  12.5     1.5\n",
      "B        30  15.0     2.5\n",
      "C        70  35.0     4.5\n"
     ]
    }
   ],
   "source": [
    "result = df.groupby(['team']).agg({'points' : ['sum','mean'],\n",
    "                           'assists': 'mean'})\n",
    "print(result)"
   ]
  },
  {
   "cell_type": "markdown",
   "metadata": {},
   "source": [
    "**Filtrado de Grupos**\n",
    "\n",
    "* Filtrar grupos según una condición."
   ]
  },
  {
   "cell_type": "code",
   "execution_count": 20,
   "metadata": {},
   "outputs": [
    {
     "data": {
      "text/plain": [
       "0    10\n",
       "1    15\n",
       "2    10\n",
       "3    20\n",
       "4    30\n",
       "5    40\n",
       "Name: points, dtype: int64"
      ]
     },
     "execution_count": 20,
     "metadata": {},
     "output_type": "execute_result"
    }
   ],
   "source": [
    "df['points']"
   ]
  },
  {
   "cell_type": "markdown",
   "metadata": {},
   "source": [
    "**El DataFrame filtered debería contener solo los grupos de equipos cuya suma de puntos sea mayor a 25:**"
   ]
  },
  {
   "cell_type": "code",
   "execution_count": 21,
   "metadata": {},
   "outputs": [
    {
     "data": {
      "text/plain": [
       "[  team  points  assists\n",
       " 0    A      10        1\n",
       " 1    A      15        2,\n",
       "   team  points  assists\n",
       " 2    B      10        2\n",
       " 3    B      20        3,\n",
       "   team  points  assists\n",
       " 4    C      30        4\n",
       " 5    C      40        5]"
      ]
     },
     "execution_count": 21,
     "metadata": {},
     "output_type": "execute_result"
    }
   ],
   "source": [
    "[x for _,x in df.groupby(['team'])]\n",
    "    "
   ]
  },
  {
   "cell_type": "code",
   "execution_count": 22,
   "metadata": {},
   "outputs": [
    {
     "data": {
      "text/plain": [
       "0    10\n",
       "1    15\n",
       "Name: points, dtype: int64"
      ]
     },
     "execution_count": 22,
     "metadata": {},
     "output_type": "execute_result"
    }
   ],
   "source": [
    "x = df.iloc[:2,:2]\n",
    "x['points']"
   ]
  },
  {
   "cell_type": "code",
   "execution_count": 23,
   "metadata": {},
   "outputs": [
    {
     "data": {
      "text/plain": [
       "25"
      ]
     },
     "execution_count": 23,
     "metadata": {},
     "output_type": "execute_result"
    }
   ],
   "source": [
    "#primeras dos filas del dataframe\n",
    "x = df[:2]\n",
    "x['points'].sum()"
   ]
  },
  {
   "cell_type": "code",
   "execution_count": 24,
   "metadata": {},
   "outputs": [
    {
     "name": "stdout",
     "output_type": "stream",
     "text": [
      "  team  points  assists\n",
      "2    B      10        2\n",
      "3    B      20        3\n",
      "4    C      30        4\n",
      "5    C      40        5\n"
     ]
    }
   ],
   "source": [
    "def filter_func(x):\n",
    "    return x['points'].sum() > 25\n",
    "\n",
    "\n",
    "filtered = df.groupby(['team']).filter(filter_func)\n",
    "print(filtered)"
   ]
  },
  {
   "cell_type": "markdown",
   "metadata": {},
   "source": [
    "**Práctica: Ejercicios Intermedios con groupby**\n",
    "\n",
    "**Ejercicio 2: Agregaciones Múltiples y Filtrado**"
   ]
  },
  {
   "cell_type": "code",
   "execution_count": 25,
   "metadata": {},
   "outputs": [],
   "source": [
    "data = {\n",
    "    'team': ['A', 'A', 'B', 'B', 'C', 'C', 'D', 'D'],\n",
    "    'points': [10, 15, 10, 20, 30, 40, 5, 7],\n",
    "    'assists': [1, 2, 2, 3, 4, 5, 0, 1]\n",
    "}\n",
    "df = pd.DataFrame(data)"
   ]
  },
  {
   "cell_type": "code",
   "execution_count": 26,
   "metadata": {},
   "outputs": [
    {
     "data": {
      "text/plain": [
       "0    10\n",
       "1    15\n",
       "Name: points, dtype: int64"
      ]
     },
     "execution_count": 26,
     "metadata": {},
     "output_type": "execute_result"
    }
   ],
   "source": [
    "x = df[:2]\n",
    "x['points']"
   ]
  },
  {
   "cell_type": "code",
   "execution_count": 27,
   "metadata": {},
   "outputs": [
    {
     "name": "stdout",
     "output_type": "stream",
     "text": [
      "  team  points  assists\n",
      "2    B      10        2\n",
      "3    B      20        3\n",
      "4    C      30        4\n",
      "5    C      40        5\n"
     ]
    }
   ],
   "source": [
    "#agregaciones multiples\n",
    "result = df.groupby(['team']).agg({'points' : ['sum','mean'], 'assists': 'mean'})\n",
    "# print(result)\n",
    "\n",
    "#filtrar grupos\n",
    "filtered = df.groupby(['team']).filter(lambda x: x['points'].sum() > 25)\n",
    "print(filtered)"
   ]
  },
  {
   "cell_type": "code",
   "execution_count": 28,
   "metadata": {},
   "outputs": [
    {
     "name": "stdout",
     "output_type": "stream",
     "text": [
      "      points  assists\n",
      "team                 \n",
      "A         25        3\n",
      "B         30        5\n",
      "C         70        9\n",
      "D         12        1\n"
     ]
    }
   ],
   "source": [
    "w = df.groupby(['team']).sum()\n",
    "print(w)"
   ]
  },
  {
   "cell_type": "code",
   "execution_count": 29,
   "metadata": {},
   "outputs": [
    {
     "data": {
      "text/plain": [
       "team\n",
       "A    25\n",
       "B    30\n",
       "C    70\n",
       "D    12\n",
       "Name: points, dtype: int64"
      ]
     },
     "execution_count": 29,
     "metadata": {},
     "output_type": "execute_result"
    }
   ],
   "source": [
    "df.groupby(['team'])['points'].sum()"
   ]
  },
  {
   "cell_type": "markdown",
   "metadata": {},
   "source": [
    "**Teoría: Transformaciones y Aplicaciones Personalizadas**\n",
    "\n",
    "**Transformaciones con transform**\n",
    "\n",
    "* Aplicar una función que transforma los datos manteniendo el mismo tamaño que el DataFrame original.\n",
    "\n",
    "* Ideal para: Crear o modificar columnas manteniendo el mismo número de filas en el DataFrame original.\n",
    "\n",
    "* Uso: Aplica una función a cada grupo y devuelve un objeto con el mismo tamaño que el DataFrame original.\n",
    "\n",
    "* Ejemplo: Crear una nueva columna basada en operaciones grupales\n",
    "\n",
    "* Utiliza transform sin groupby para transformaciones simples a nivel de columna, y transform con groupby para transformaciones que dependen de los grupos en el DataFrame."
   ]
  },
  {
   "cell_type": "code",
   "execution_count": 30,
   "metadata": {},
   "outputs": [
    {
     "data": {
      "text/html": [
       "<div>\n",
       "<style scoped>\n",
       "    .dataframe tbody tr th:only-of-type {\n",
       "        vertical-align: middle;\n",
       "    }\n",
       "\n",
       "    .dataframe tbody tr th {\n",
       "        vertical-align: top;\n",
       "    }\n",
       "\n",
       "    .dataframe thead th {\n",
       "        text-align: right;\n",
       "    }\n",
       "</style>\n",
       "<table border=\"1\" class=\"dataframe\">\n",
       "  <thead>\n",
       "    <tr style=\"text-align: right;\">\n",
       "      <th></th>\n",
       "      <th>team</th>\n",
       "      <th>points</th>\n",
       "      <th>assists</th>\n",
       "      <th>points_normalized</th>\n",
       "    </tr>\n",
       "  </thead>\n",
       "  <tbody>\n",
       "    <tr>\n",
       "      <th>0</th>\n",
       "      <td>A</td>\n",
       "      <td>10</td>\n",
       "      <td>1</td>\n",
       "      <td>-0.707107</td>\n",
       "    </tr>\n",
       "    <tr>\n",
       "      <th>1</th>\n",
       "      <td>A</td>\n",
       "      <td>15</td>\n",
       "      <td>2</td>\n",
       "      <td>0.707107</td>\n",
       "    </tr>\n",
       "    <tr>\n",
       "      <th>2</th>\n",
       "      <td>B</td>\n",
       "      <td>10</td>\n",
       "      <td>2</td>\n",
       "      <td>-0.707107</td>\n",
       "    </tr>\n",
       "    <tr>\n",
       "      <th>3</th>\n",
       "      <td>B</td>\n",
       "      <td>20</td>\n",
       "      <td>3</td>\n",
       "      <td>0.707107</td>\n",
       "    </tr>\n",
       "    <tr>\n",
       "      <th>4</th>\n",
       "      <td>C</td>\n",
       "      <td>30</td>\n",
       "      <td>4</td>\n",
       "      <td>-0.707107</td>\n",
       "    </tr>\n",
       "    <tr>\n",
       "      <th>5</th>\n",
       "      <td>C</td>\n",
       "      <td>40</td>\n",
       "      <td>5</td>\n",
       "      <td>0.707107</td>\n",
       "    </tr>\n",
       "    <tr>\n",
       "      <th>6</th>\n",
       "      <td>D</td>\n",
       "      <td>5</td>\n",
       "      <td>0</td>\n",
       "      <td>-0.707107</td>\n",
       "    </tr>\n",
       "    <tr>\n",
       "      <th>7</th>\n",
       "      <td>D</td>\n",
       "      <td>7</td>\n",
       "      <td>1</td>\n",
       "      <td>0.707107</td>\n",
       "    </tr>\n",
       "  </tbody>\n",
       "</table>\n",
       "</div>"
      ],
      "text/plain": [
       "  team  points  assists  points_normalized\n",
       "0    A      10        1          -0.707107\n",
       "1    A      15        2           0.707107\n",
       "2    B      10        2          -0.707107\n",
       "3    B      20        3           0.707107\n",
       "4    C      30        4          -0.707107\n",
       "5    C      40        5           0.707107\n",
       "6    D       5        0          -0.707107\n",
       "7    D       7        1           0.707107"
      ]
     },
     "execution_count": 30,
     "metadata": {},
     "output_type": "execute_result"
    }
   ],
   "source": [
    "df['points_normalized'] = df.groupby(['team'])['points'].transform(lambda x: (x - x.mean()) / x.std())\n",
    "df"
   ]
  },
  {
   "cell_type": "markdown",
   "metadata": {},
   "source": [
    "**Aplicaciones Personalizadas con apply**\n",
    "\n",
    "* Aplicar una función personalizada a cada grupo.\n",
    "\n",
    "**apply**\n",
    "\n",
    "* Ideal para: Aplicar una función a cada fila o grupo y potencialmente cambiar la estructura del DataFrame.\n",
    "\n",
    "* Uso: Aplica una función a cada grupo y puede devolver un objeto con diferente tamaño o estructura.\n",
    "\n",
    "* Ejemplo: Aplicar operaciones complejas que pueden cambiar la estructura del DataFrame."
   ]
  },
  {
   "cell_type": "code",
   "execution_count": 31,
   "metadata": {},
   "outputs": [
    {
     "name": "stdout",
     "output_type": "stream",
     "text": [
      "<class 'pandas.core.series.Series'>\n"
     ]
    },
    {
     "data": {
      "text/plain": [
       "team   \n",
       "A     0    20\n",
       "      1    30\n",
       "B     2    20\n",
       "      3    40\n",
       "C     4    60\n",
       "      5    80\n",
       "D     6    10\n",
       "      7    14\n",
       "Name: points, dtype: int64"
      ]
     },
     "execution_count": 31,
     "metadata": {},
     "output_type": "execute_result"
    }
   ],
   "source": [
    "\"\"\"\n",
    "El uso de lambda devuelve una serie en esta caso en particular no\n",
    "una columna de un dataframe\n",
    "\"\"\"\n",
    "result = df.groupby(['team']).apply(lambda x: x['points'] * 2)\n",
    "print(type(result))\n",
    "result"
   ]
  },
  {
   "cell_type": "code",
   "execution_count": 32,
   "metadata": {},
   "outputs": [
    {
     "name": "stdout",
     "output_type": "stream",
     "text": [
      "       team  points  assists  points_normalized\n",
      "team                                           \n",
      "A    0    A      20        1          -0.707107\n",
      "     1    A      30        2           0.707107\n",
      "B    2    B      20        2          -0.707107\n",
      "     3    B      40        3           0.707107\n",
      "C    4    C      60        4          -0.707107\n",
      "     5    C      80        5           0.707107\n",
      "D    6    D      10        0          -0.707107\n",
      "     7    D      14        1           0.707107\n"
     ]
    }
   ],
   "source": [
    "\"\"\"\n",
    "El uso de lambda devuelve una serie en esta caso en particular no\n",
    "una columna de un dataframe, si quiero que se reescriba esa columna\n",
    "tengo que usar el metodo **assing** para modificar y sobreescribir\n",
    "la columna points\n",
    "\n",
    "x.assign(points=x['points'] * 2): assign crea una copia \n",
    "del DataFrame con la columna points modificada, \n",
    "manteniendo la estructura original del DataFrame.\n",
    "\"\"\"\n",
    "\n",
    "#Sobre escribiendo la columna con la funcion lambda\n",
    "# Usar una lambda función para modificar la columna 'points'\n",
    "result = df.groupby(['team']).apply(lambda x: x.assign(points=x['points'] * 2))\n",
    "print(result)"
   ]
  },
  {
   "cell_type": "markdown",
   "metadata": {},
   "source": [
    "**Teoría: Combinación con otras funcionalidades de pandas**\n",
    "\n",
    "**Combinación con pivot_table**\n",
    "\n",
    "* Crear tablas dinámicas para resumir datos."
   ]
  },
  {
   "cell_type": "code",
   "execution_count": 36,
   "metadata": {},
   "outputs": [
    {
     "name": "stdout",
     "output_type": "stream",
     "text": [
      "assists    0     1     2     3     4     5\n",
      "team                                      \n",
      "A        NaN  10.0  15.0   NaN   NaN   NaN\n",
      "B        NaN   NaN  10.0  20.0   NaN   NaN\n",
      "C        NaN   NaN   NaN   NaN  30.0  40.0\n",
      "D        5.0   7.0   NaN   NaN   NaN   NaN\n"
     ]
    }
   ],
   "source": [
    "# Crear un DataFrame de ejemplo\n",
    "data = {\n",
    "    'team': ['A', 'A', 'B', 'B', 'C', 'C', 'D', 'D'],\n",
    "    'points': [10, 15, 10, 20, 30, 40, 5, 7],\n",
    "    'assists': [1, 2, 2, 3, 4, 5, 0, 1]\n",
    "}\n",
    "df = pd.DataFrame(data)\n",
    "\n",
    "# Crear una tabla dinámica\n",
    "pivot = df.pivot_table(values='points', index='team', columns='assists', aggfunc='sum')\n",
    "print(pivot)\n"
   ]
  }
 ],
 "metadata": {
  "kernelspec": {
   "display_name": "base",
   "language": "python",
   "name": "python3"
  },
  "language_info": {
   "codemirror_mode": {
    "name": "ipython",
    "version": 3
   },
   "file_extension": ".py",
   "mimetype": "text/x-python",
   "name": "python",
   "nbconvert_exporter": "python",
   "pygments_lexer": "ipython3",
   "version": "3.11.7"
  }
 },
 "nbformat": 4,
 "nbformat_minor": 2
}
