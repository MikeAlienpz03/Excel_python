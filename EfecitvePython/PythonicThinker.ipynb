{
 "cells": [
  {
   "cell_type": "markdown",
   "metadata": {},
   "source": [
    "**Ítem 4: Prefiere F-Strings Interpolados Sobre Cadenas de Formato al Estilo C y str.format**\n",
    "\n",
    "* La forma más común de formatear una cadena en Python es utilizando el **operador de formato %**. La plantilla de texto predefinida se proporciona en el lado izquierdo del operador en una cadena de formato. Los valores que se insertarán en la plantilla se proporcionan como un valor único o una tupla de valores múltiples en el lado derecho del operador de formato. \n",
    "\n",
    "* Por ejemplo, aquí uso el operador % para convertir valores binarios y hexadecimales difíciles de leer en cadenas de enteros:\n"
   ]
  },
  {
   "cell_type": "code",
   "execution_count": 1,
   "metadata": {},
   "outputs": [],
   "source": [
    "a = 0b10111011\n",
    "b = 0xc5f"
   ]
  },
  {
   "cell_type": "code",
   "execution_count": 2,
   "metadata": {},
   "outputs": [
    {
     "name": "stdout",
     "output_type": "stream",
     "text": [
      "Binary is 187, hex is 3167\n"
     ]
    }
   ],
   "source": [
    "print('Binary is %d, hex is %d' % (a,b))"
   ]
  },
  {
   "cell_type": "markdown",
   "metadata": {},
   "source": [
    "* La cadena de formato utiliza **especificadores de formato (como %d) ** como marcadores de posición que serán reemplazados por valores del lado derecho de la expresión de formateo. \n",
    "\n",
    "* La sintaxis para los especificadores de formato proviene de la función printf de C, la cual ha sido heredada por Python (así como por otros lenguajes de programación). **Python soporta todas las opciones habituales que esperarías de printf, tales como los especificadores de formato %s, %x y `%f, así como el control sobre los lugares decimales, el relleno y la alineación**. Muchos programadores que son nuevos en Python comienzan con cadenas de formato al estilo C porque son familiares y simples de usar."
   ]
  },
  {
   "cell_type": "code",
   "execution_count": 17,
   "metadata": {},
   "outputs": [
    {
     "name": "stdout",
     "output_type": "stream",
     "text": [
      "my_var     = 1.23\n"
     ]
    }
   ],
   "source": [
    "key = 'my_var'\n",
    "value = 1.234\n",
    "\n",
    "\"\"\"\n",
    "%.2f -> Indica el numero de decimales que aplicaras a tu formato\n",
    "en este caso son 2 despues del punto\n",
    "\n",
    "\"\"\"\n",
    "\n",
    "formatted = '%-10s = %.2f' % (key,value)\n",
    "print(formatted)"
   ]
  },
  {
   "cell_type": "code",
   "execution_count": 18,
   "metadata": {},
   "outputs": [
    {
     "name": "stdout",
     "output_type": "stream",
     "text": [
      "John      \n",
      "John      \n"
     ]
    }
   ],
   "source": [
    "name = \"John\"\n",
    "formatted = '{:<10s}'.format(name)\n",
    "print(formatted)  # Salida: 'John      '\n",
    "\n",
    "# Usando f-string\n",
    "formatted = f'{name:<10}'\n",
    "print(formatted)  # Salida: 'John      '\n"
   ]
  },
  {
   "cell_type": "markdown",
   "metadata": {},
   "source": [
    "Para evitar esta trampa, necesitas verificar constantemente que ambos lados del operador % estén sincronizados; este proceso es propenso a errores porque debe hacerse manualmente cada vez que se realiza un cambio."
   ]
  },
  {
   "cell_type": "code",
   "execution_count": 19,
   "metadata": {},
   "outputs": [
    {
     "name": "stdout",
     "output_type": "stream",
     "text": [
      "#0: avocados   = 1.25\n",
      "#1: bananas    = 2.50\n",
      "#2: cherries   = 15.00\n"
     ]
    }
   ],
   "source": [
    "pantry = [\n",
    "    ('avocados', 1.25),\n",
    "    ('bananas', 2.5),\n",
    "    ('cherries', 15),\n",
    " ]\n",
    "\n",
    "for i, (item, count) in enumerate(pantry):\n",
    "    print('#%d: %-10s = %.2f' % (i, item, count))"
   ]
  },
  {
   "cell_type": "markdown",
   "metadata": {},
   "source": [
    "Ahora hago algunas modificaciones a los valores que estoy formateando para hacer el mensaje impreso más útil. Esto hace que la tupla en la expresión de formato sea tan larga que necesita dividirse en varias líneas, lo cual perjudica la legibilidad."
   ]
  },
  {
   "cell_type": "code",
   "execution_count": 20,
   "metadata": {},
   "outputs": [
    {
     "name": "stdout",
     "output_type": "stream",
     "text": [
      "#1: Avocados   = 1\n",
      "#2: Bananas    = 2\n",
      "#3: Cherries   = 15\n"
     ]
    }
   ],
   "source": [
    "for i, (item, count) in enumerate(pantry):\n",
    "    print('#%d: %-10s = %d' % (\n",
    "        i + 1,\n",
    "        item.title(),\n",
    "        round(count) \n",
    "    ))"
   ]
  },
  {
   "cell_type": "markdown",
   "metadata": {},
   "source": [
    "* Python 3 añadió soporte para formateo avanzado de cadenas que es más expresivo que las antiguas cadenas de formato al estilo C que utilizan el operador %. Para valores individuales en Python, esta nueva funcionalidad se puede acceder a través de la función integrada format(). \n",
    "\n",
    "* Por ejemplo, aquí uso algunas de las nuevas opciones **(, para separadores de miles y ^ para centrar)** para formatear valores:"
   ]
  },
  {
   "cell_type": "code",
   "execution_count": 31,
   "metadata": {},
   "outputs": [
    {
     "name": "stdout",
     "output_type": "stream",
     "text": [
      "1,234.57\n"
     ]
    }
   ],
   "source": [
    "a = 1234.5678\n",
    "formatted = format(a,',.2f')\n",
    "print(formatted)"
   ]
  },
  {
   "cell_type": "code",
   "execution_count": 32,
   "metadata": {},
   "outputs": [
    {
     "name": "stdout",
     "output_type": "stream",
     "text": [
      "*      my string       *\n"
     ]
    }
   ],
   "source": [
    "b = 'my string'\n",
    "formatted = format(b, '^20s')\n",
    "print('*',formatted,'*')"
   ]
  }
 ],
 "metadata": {
  "kernelspec": {
   "display_name": "base",
   "language": "python",
   "name": "python3"
  },
  "language_info": {
   "codemirror_mode": {
    "name": "ipython",
    "version": 3
   },
   "file_extension": ".py",
   "mimetype": "text/x-python",
   "name": "python",
   "nbconvert_exporter": "python",
   "pygments_lexer": "ipython3",
   "version": "3.11.7"
  }
 },
 "nbformat": 4,
 "nbformat_minor": 2
}
