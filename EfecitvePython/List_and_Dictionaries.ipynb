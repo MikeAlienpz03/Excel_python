{
 "cells": [
  {
   "cell_type": "markdown",
   "metadata": {},
   "source": [
    "**Saber cómo rebanar secuencias**\n",
    "\n",
    "* Python incluye una sintaxis para dividir secuencias en piezas. El rebanado te permite acceder a un subconjunto de elementos de una secuencia con un esfuerzo mínimo. Los usos más simples para el rebanado son los tipos integrados list, str y bytes. El rebanado se puede extender a cualquier clase de Python que implemente los métodos especiales getitem y setitem"
   ]
  },
  {
   "cell_type": "code",
   "execution_count": 14,
   "metadata": {},
   "outputs": [
    {
     "name": "stdout",
     "output_type": "stream",
     "text": [
      "Middle two:   ['d', 'e']\n",
      "All but ends: ['b', 'c', 'd', 'e', 'f', 'g']\n"
     ]
    }
   ],
   "source": [
    "a = ['a', 'b', 'c', 'd', 'e', 'f', 'g', 'h']\n",
    "print('Middle two:  ', a[3:5])\n",
    "print('All but ends:', a[1:7])"
   ]
  },
  {
   "cell_type": "markdown",
   "metadata": {},
   "source": [
    "Evita usar pasos y rebanado en una sola expresión"
   ]
  },
  {
   "cell_type": "code",
   "execution_count": 15,
   "metadata": {},
   "outputs": [
    {
     "data": {
      "text/plain": [
       "['a', 'c', 'e', 'g']"
      ]
     },
     "execution_count": 15,
     "metadata": {},
     "output_type": "execute_result"
    }
   ],
   "source": [
    "a[::2]"
   ]
  },
  {
   "cell_type": "markdown",
   "metadata": {},
   "source": [
    "* Pero es posible utilizar múltiples expresiones con asterisco en una declaración de asignación de desempaquetado, siempre y cuando sean para capturar diferentes partes de la estructura multinivel que se está desempaquetando. \n",
    "\n",
    "* No recomiendo hacer lo siguiente (ver el Ítem 19: \"Nunca desempaquetes más de tres variables cuando las funciones devuelvan múltiples valores\" para orientación relacionada), pero entenderlo debería ayudarte a desarrollar una intuición sobre cómo se pueden usar las expresiones con asterisco en las asignaciones de desempaquetado."
   ]
  },
  {
   "cell_type": "code",
   "execution_count": 16,
   "metadata": {},
   "outputs": [],
   "source": [
    "car_inventory = {\n",
    " 'Downtown': ('Silver Shadow', 'Pinto', 'DMC'),\n",
    " 'Airport': ('Skyline', 'Viper', 'Gremlin', 'Nova'),\n",
    " }"
   ]
  },
  {
   "cell_type": "code",
   "execution_count": 17,
   "metadata": {},
   "outputs": [
    {
     "data": {
      "text/plain": [
       "dict_items([('Downtown', ('Silver Shadow', 'Pinto', 'DMC')), ('Airport', ('Skyline', 'Viper', 'Gremlin', 'Nova'))])"
      ]
     },
     "execution_count": 17,
     "metadata": {},
     "output_type": "execute_result"
    }
   ],
   "source": [
    "car_inventory.items()"
   ]
  },
  {
   "cell_type": "code",
   "execution_count": 18,
   "metadata": {},
   "outputs": [],
   "source": [
    "((loc1, (best1, *rest1)),\n",
    " (loc2, (best2, *rest2))) = car_inventory.items()\n"
   ]
  },
  {
   "cell_type": "code",
   "execution_count": 19,
   "metadata": {},
   "outputs": [
    {
     "data": {
      "text/plain": [
       "('Downtown', ('Silver Shadow', 'Pinto', 'DMC'))"
      ]
     },
     "execution_count": 19,
     "metadata": {},
     "output_type": "execute_result"
    }
   ],
   "source": [
    "#Se desempaqueta los elementos key (loc1 y best1, el resto de la tupla con *)\n",
    "((loc1,(best1, *rest1)))"
   ]
  },
  {
   "cell_type": "code",
   "execution_count": 20,
   "metadata": {},
   "outputs": [
    {
     "data": {
      "text/plain": [
       "('Airport', ('Skyline', 'Viper', 'Gremlin', 'Nova'))"
      ]
     },
     "execution_count": 20,
     "metadata": {},
     "output_type": "execute_result"
    }
   ],
   "source": [
    "((loc2,(best2, *rest2)))"
   ]
  },
  {
   "cell_type": "code",
   "execution_count": 21,
   "metadata": {},
   "outputs": [
    {
     "name": "stdout",
     "output_type": "stream",
     "text": [
      "Best at Downtown is Silver Shadow, 2 others\n",
      "Best at Airport is Skyline, 3 others\n"
     ]
    }
   ],
   "source": [
    "((loc1, (best1, *rest1)),\n",
    "(loc2, (best2, *rest2))) = car_inventory.items()\n",
    "\n",
    "\n",
    "print(f'Best at {loc1} is {best1}, {len(rest1)} others')\n",
    "print(f'Best at {loc2} is {best2}, {len(rest2)} others')"
   ]
  },
  {
   "cell_type": "markdown",
   "metadata": {},
   "source": [
    "**Importante**\n",
    "\n",
    "* Las expresiones con asterisco se convierten en instancias de listas en todos los casos. \n",
    "\n",
    "* Si no quedan elementos adicionales de la secuencia que se está desempaquetando, la parte de captura de todo será una lista vacía. Esto es especialmente útil cuando estás procesando una secuencia que sabes de antemano que tiene al menos N elementos:"
   ]
  },
  {
   "cell_type": "code",
   "execution_count": 22,
   "metadata": {},
   "outputs": [
    {
     "name": "stdout",
     "output_type": "stream",
     "text": [
      "1 2 [3, 4, 5, 6]\n"
     ]
    }
   ],
   "source": [
    "short_list = [1,2,3,4,5,6]\n",
    "first, second, *rest = short_list\n",
    "print(first, second, rest)"
   ]
  },
  {
   "cell_type": "markdown",
   "metadata": {},
   "source": [
    "Pero con la adición de expresiones con asterisco, el valor de desempaquetar iteradores se hace evidente. Por ejemplo, aquí tengo un generador que produce las filas de un archivo CSV que contiene todos los pedidos de autos del concesionario de esta semana:"
   ]
  },
  {
   "cell_type": "code",
   "execution_count": 23,
   "metadata": {},
   "outputs": [],
   "source": [
    "def generate_csv():\n",
    "    yield ('Date', 'Make' , 'Model', 'Year', 'Price')"
   ]
  },
  {
   "cell_type": "code",
   "execution_count": 24,
   "metadata": {},
   "outputs": [],
   "source": [
    "def generate_csv():\n",
    "    yield ('Date', 'Make' , 'Model', 'Year', 'Price')\n",
    "    yield ('2023-01-01', 'Toyota', 'Camry', 2022, 30000)\n",
    "    yield ('2023-02-01', 'Honda', 'Accord', 2023, 32000)\n",
    "    yield ('2023-03-01', 'Ford', 'Mustang', 2021, 45000)"
   ]
  },
  {
   "cell_type": "code",
   "execution_count": 25,
   "metadata": {},
   "outputs": [
    {
     "name": "stdout",
     "output_type": "stream",
     "text": [
      "CSV Header: ('Date', 'Make', 'Model', 'Year', 'Price')\n",
      "Row count:  3\n"
     ]
    }
   ],
   "source": [
    "# Obtener todas las filas generadas en una lista\n",
    "all_csv_rows = list(generate_csv())\n",
    "\n",
    "# Separar el encabezado y las filas\n",
    "header = all_csv_rows[0]\n",
    "rows = all_csv_rows[1:]\n",
    "\n",
    "print('CSV Header:', header)\n",
    "print('Row count: ', len(rows))"
   ]
  },
  {
   "cell_type": "code",
   "execution_count": 26,
   "metadata": {},
   "outputs": [
    {
     "name": "stdout",
     "output_type": "stream",
     "text": [
      "Se ha creado el archivo CSV \"ejemplo.csv\" con los datos generados.\n"
     ]
    }
   ],
   "source": [
    "import csv\n",
    "\n",
    "def generate_csv():\n",
    "    yield ('2023-01-01', 'Toyota', 'Camry', 2022, 30000)\n",
    "    yield ('2023-02-01', 'Honda', 'Accord', 2023, 32000)\n",
    "    yield ('2023-03-01', 'Ford', 'Mustang', 2021, 45000)\n",
    "\n",
    "# Nombre del archivo CSV\n",
    "csv_file = 'ejemplo.csv'\n",
    "\n",
    "# Escribir los datos en el archivo CSV\n",
    "with open(csv_file, 'w', newline='') as file:\n",
    "    writer = csv.writer(file)\n",
    "    \n",
    "    # Escribir el encabezado\n",
    "    writer.writerow(['Date', 'Make', 'Model', 'Year', 'Price'])\n",
    "    \n",
    "    # Escribir las filas de datos\n",
    "    for row in generate_csv():\n",
    "        writer.writerow(row)\n",
    "\n",
    "print(f'Se ha creado el archivo CSV \"{csv_file}\" con los datos generados.')\n"
   ]
  },
  {
   "cell_type": "markdown",
   "metadata": {},
   "source": [
    "**Item 12:  Avoid Striding and Slicing in a Single Expression**"
   ]
  },
  {
   "cell_type": "code",
   "execution_count": 28,
   "metadata": {},
   "outputs": [],
   "source": [
    "x = ['red', 'orange', 'yellow', 'green', 'blue', 'purple']"
   ]
  },
  {
   "cell_type": "code",
   "execution_count": 30,
   "metadata": {},
   "outputs": [
    {
     "name": "stdout",
     "output_type": "stream",
     "text": [
      "['red', 'yellow', 'blue']\n"
     ]
    }
   ],
   "source": [
    "odds = x[::2]\n",
    "print(odds)"
   ]
  },
  {
   "cell_type": "code",
   "execution_count": 33,
   "metadata": {},
   "outputs": [
    {
     "name": "stdout",
     "output_type": "stream",
     "text": [
      "['orange', 'green', 'purple']\n"
     ]
    }
   ],
   "source": [
    "evens = x[1::2]\n",
    "print(evens)"
   ]
  },
  {
   "cell_type": "markdown",
   "metadata": {},
   "source": [
    "**Ítem 13: Prefiere el Desempaquetado de Captura General sobre el Slicing**\n",
    "\n",
    "* Una limitación del desempaquetado básico (ver Ítem 6: \"Prefiere el Desempaquetado de Asignación Múltiple sobre el Indexado\") es que debes conocer la longitud de las secuencias que estás desempaquetando de antemano. \n",
    "\n",
    "* Por ejemplo, aquí tengo una lista de las edades de los autos que se están entregando en un concesionario. Cuando intento tomar los dos primeros elementos de la lista con desempaquetado básico, se genera una excepción en tiempo de ejecución:"
   ]
  },
  {
   "cell_type": "code",
   "execution_count": 39,
   "metadata": {},
   "outputs": [
    {
     "name": "stdout",
     "output_type": "stream",
     "text": [
      "[20, 19, 15, 9, 8, 7, 6, 4, 1, 0]\n",
      "20 19 [15, 9, 8, 7, 6, 4, 1, 0]\n"
     ]
    }
   ],
   "source": [
    "car_ages = [0, 9, 4, 8, 7, 20, 19, 1, 6, 15]\n",
    "car_ages_descending = sorted(car_ages,reverse=True)\n",
    "print(car_ages_descending)\n",
    "\n",
    "oldest = car_ages_descending[0]\n",
    "second_oldest = car_ages_descending[1]\n",
    "others = car_ages_descending[2:]\n",
    "\n",
    "print(oldest,second_oldest,others)"
   ]
  },
  {
   "cell_type": "markdown",
   "metadata": {},
   "source": [
    "* Este método funciona, pero todo el indexado y el slicing son visiblemente ruidosos. En la práctica, también es propenso a errores dividir los miembros de una secuencia en varios subconjuntos de esta manera porque es mucho más probable cometer errores de desplazamiento por uno; por ejemplo, podrías cambiar los límites en una línea y olvidar actualizar los demás.\n",
    "\n",
    "* Para manejar mejor esta situación, **Python también admite el desempaquetado de captura general a través de una expresión con asterisco**. Esta sintaxis permite que una parte de la asignación de desempaquetado reciba todos los valores que no coincidieron con ninguna otra parte del patrón de desempaquetado. Aquí, uso una expresión con asterisco para lograr el mismo resultado que arriba sin indexado ni slicing:"
   ]
  },
  {
   "cell_type": "code",
   "execution_count": 40,
   "metadata": {},
   "outputs": [
    {
     "name": "stdout",
     "output_type": "stream",
     "text": [
      "20 19 [15, 9, 8, 7, 6, 4, 1, 0]\n"
     ]
    }
   ],
   "source": [
    "oldest, second_oldest, *others = car_ages_descending\n",
    "print(oldest,second_oldest,others)"
   ]
  },
  {
   "cell_type": "markdown",
   "metadata": {},
   "source": [
    "\n",
    "* Este código es más corto, más fácil de leer y ya no tiene la fragilidad propensa a errores de los índices de límites que deben mantenerse sincronizados entre líneas.\n",
    "\n",
    "* **Una expresión con asterisco puede aparecer en cualquier posición, por lo que puedes obtener los beneficios del desempaquetado de captura general cada vez que necesites extraer una sección:**"
   ]
  },
  {
   "cell_type": "code",
   "execution_count": 51,
   "metadata": {},
   "outputs": [
    {
     "name": "stdout",
     "output_type": "stream",
     "text": [
      "20 1 [20, 19, 15, 9, 8, 7, 6, 4]\n",
      "\n",
      "0 1 [20, 19, 15, 9, 8, 7, 6, 4]\n"
     ]
    }
   ],
   "source": [
    "oldest = car_ages_descending[0]\n",
    "second_youngest = car_ages_descending[-1]\n",
    "youngest = car_ages_descending[-2]\n",
    "print(oldest,youngest,others)\n",
    "\n",
    "print(\"\")\n",
    "*others, second_youngest, youngest = car_ages_descending\n",
    "print(youngest,second_youngest,others)"
   ]
  },
  {
   "cell_type": "markdown",
   "metadata": {},
   "source": [
    "**Ejercicio**"
   ]
  },
  {
   "cell_type": "code",
   "execution_count": 73,
   "metadata": {},
   "outputs": [],
   "source": [
    "autos = {\n",
    "    'auto1': ('Toyota','Corolla', 2023),\n",
    "    'auto2': ('Honda','Civic',2022),\n",
    "    }\n"
   ]
  },
  {
   "cell_type": "code",
   "execution_count": 78,
   "metadata": {},
   "outputs": [
    {
     "name": "stdout",
     "output_type": "stream",
     "text": [
      "Best at auto1 is Toyota, ['Corolla', 2023] others\n",
      "Best at auto2 is Honda, ['Civic', 2022] others\n"
     ]
    }
   ],
   "source": [
    "(\n",
    "    (key1, (marca, *rest)),\n",
    "    (key2, (marca2, *rest2))\n",
    "    \n",
    "    ) = autos.items()\n",
    "\n",
    "print(f'Best at {key1} is {marca}, {rest} others')\n",
    "print(f'Best at {key2} is {marca2}, {rest2} others')"
   ]
  },
  {
   "cell_type": "markdown",
   "metadata": {},
   "source": [
    "**Desempaquetado de diccionarios**"
   ]
  },
  {
   "cell_type": "code",
   "execution_count": 80,
   "metadata": {},
   "outputs": [],
   "source": [
    "# Definición de un diccionario\n",
    "auto = {\n",
    "    'marca': 'Toyota',\n",
    "    'modelo': 'Corolla',\n",
    "    'año': 2023,\n",
    "    'color': 'Rojo'\n",
    "}"
   ]
  },
  {
   "cell_type": "code",
   "execution_count": 83,
   "metadata": {},
   "outputs": [
    {
     "data": {
      "text/plain": [
       "dict_items([('marca', 'Toyota'), ('modelo', 'Corolla'), ('año', 2023), ('color', 'Rojo')])"
      ]
     },
     "execution_count": 83,
     "metadata": {},
     "output_type": "execute_result"
    }
   ],
   "source": [
    "auto.items()"
   ]
  },
  {
   "cell_type": "code",
   "execution_count": 82,
   "metadata": {},
   "outputs": [
    {
     "data": {
      "text/plain": [
       "dict_values(['Toyota', 'Corolla', 2023, 'Rojo'])"
      ]
     },
     "execution_count": 82,
     "metadata": {},
     "output_type": "execute_result"
    }
   ],
   "source": [
    "auto.values()"
   ]
  },
  {
   "cell_type": "code",
   "execution_count": 81,
   "metadata": {},
   "outputs": [
    {
     "name": "stdout",
     "output_type": "stream",
     "text": [
      "Marca: Toyota\n",
      "Modelo: Corolla\n",
      "Año: 2023\n",
      "Color: Rojo\n"
     ]
    }
   ],
   "source": [
    "# Desempaquetando el diccionario\n",
    "marca, modelo, año, color = auto.values()\n",
    "\n",
    "# Imprimiendo los valores desempaquetados\n",
    "print(f\"Marca: {marca}\")\n",
    "print(f\"Modelo: {modelo}\")\n",
    "print(f\"Año: {año}\")\n",
    "print(f\"Color: {color}\")\n"
   ]
  },
  {
   "cell_type": "code",
   "execution_count": 84,
   "metadata": {},
   "outputs": [
    {
     "name": "stdout",
     "output_type": "stream",
     "text": [
      "Marca: Toyota, Modelo: Corolla, Año: 2023, Color: Rojo\n"
     ]
    }
   ],
   "source": [
    "def imprimir_auto(marca, modelo, año, color):\n",
    "    print(f\"Marca: {marca}, Modelo: {modelo}, Año: {año}, Color: {color}\")\n",
    "\n",
    "# Llamando a la función con desempaquetado de diccionarios\n",
    "imprimir_auto(**auto)\n"
   ]
  },
  {
   "cell_type": "code",
   "execution_count": 86,
   "metadata": {},
   "outputs": [
    {
     "name": "stdout",
     "output_type": "stream",
     "text": [
      "1 and 2\n"
     ]
    }
   ],
   "source": [
    "it = iter(range(1,3))\n",
    "first, second = it\n",
    "print(f\"{first} and {second}\")"
   ]
  },
  {
   "cell_type": "markdown",
   "metadata": {},
   "source": [
    "**Item 14: Ordenar por Criterios Complejos Utilizando el Parámetro key**\n",
    "\n",
    "* El tipo integrado list proporciona un método sort para ordenar los elementos de una instancia de lista basándose en diversos criterios. Por defecto, sort ordenará el contenido de una lista en orden ascendente natural de los elementos. Por ejemplo, aquí ordeno una lista de enteros de menor a mayor:"
   ]
  },
  {
   "cell_type": "code",
   "execution_count": 87,
   "metadata": {},
   "outputs": [
    {
     "name": "stdout",
     "output_type": "stream",
     "text": [
      "[11, 68, 70, 86, 93]\n"
     ]
    }
   ],
   "source": [
    "numbers = [93,86,11,68,70]\n",
    "numbers.sort()\n",
    "print(numbers)"
   ]
  },
  {
   "cell_type": "markdown",
   "metadata": {},
   "source": [
    "77"
   ]
  }
 ],
 "metadata": {
  "kernelspec": {
   "display_name": "base",
   "language": "python",
   "name": "python3"
  },
  "language_info": {
   "codemirror_mode": {
    "name": "ipython",
    "version": 3
   },
   "file_extension": ".py",
   "mimetype": "text/x-python",
   "name": "python",
   "nbconvert_exporter": "python",
   "pygments_lexer": "ipython3",
   "version": "3.11.7"
  }
 },
 "nbformat": 4,
 "nbformat_minor": 2
}
