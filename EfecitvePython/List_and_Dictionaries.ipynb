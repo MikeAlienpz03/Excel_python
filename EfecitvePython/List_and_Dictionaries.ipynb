{
 "cells": [
  {
   "cell_type": "markdown",
   "metadata": {},
   "source": [
    "**Saber cómo rebanar secuencias**\n",
    "\n",
    "* Python incluye una sintaxis para dividir secuencias en piezas. El rebanado te permite acceder a un subconjunto de elementos de una secuencia con un esfuerzo mínimo. Los usos más simples para el rebanado son los tipos integrados list, str y bytes. El rebanado se puede extender a cualquier clase de Python que implemente los métodos especiales getitem y setitem"
   ]
  },
  {
   "cell_type": "code",
   "execution_count": 2,
   "metadata": {},
   "outputs": [
    {
     "name": "stdout",
     "output_type": "stream",
     "text": [
      "Middle two:   ['d', 'e']\n",
      "All but ends: ['b', 'c', 'd', 'e', 'f', 'g']\n"
     ]
    }
   ],
   "source": [
    "a = ['a', 'b', 'c', 'd', 'e', 'f', 'g', 'h']\n",
    "print('Middle two:  ', a[3:5])\n",
    "print('All but ends:', a[1:7])"
   ]
  },
  {
   "cell_type": "markdown",
   "metadata": {},
   "source": [
    "Evita usar pasos y rebanado en una sola expresión"
   ]
  },
  {
   "cell_type": "code",
   "execution_count": 4,
   "metadata": {},
   "outputs": [
    {
     "data": {
      "text/plain": [
       "['a', 'c', 'e', 'g']"
      ]
     },
     "execution_count": 4,
     "metadata": {},
     "output_type": "execute_result"
    }
   ],
   "source": [
    "a[::2]"
   ]
  },
  {
   "cell_type": "markdown",
   "metadata": {},
   "source": [
    "* Pero es posible utilizar múltiples expresiones con asterisco en una declaración de asignación de desempaquetado, siempre y cuando sean para capturar diferentes partes de la estructura multinivel que se está desempaquetando. \n",
    "\n",
    "* No recomiendo hacer lo siguiente (ver el Ítem 19: \"Nunca desempaquetes más de tres variables cuando las funciones devuelvan múltiples valores\" para orientación relacionada), pero entenderlo debería ayudarte a desarrollar una intuición sobre cómo se pueden usar las expresiones con asterisco en las asignaciones de desempaquetado."
   ]
  },
  {
   "cell_type": "code",
   "execution_count": 5,
   "metadata": {},
   "outputs": [],
   "source": [
    "car_inventory = {\n",
    " 'Downtown': ('Silver Shadow', 'Pinto', 'DMC'),\n",
    " 'Airport': ('Skyline', 'Viper', 'Gremlin', 'Nova'),\n",
    " }"
   ]
  },
  {
   "cell_type": "code",
   "execution_count": 10,
   "metadata": {},
   "outputs": [
    {
     "data": {
      "text/plain": [
       "('Downtown', ('Silver Shadow', 'Pinto', 'DMC'))"
      ]
     },
     "execution_count": 10,
     "metadata": {},
     "output_type": "execute_result"
    }
   ],
   "source": [
    "#Se desempaqueta los elementos key (loc1 y best1, el resto de la tupla con *)\n",
    "((loc1,(best1, *rest1)))"
   ]
  },
  {
   "cell_type": "code",
   "execution_count": 9,
   "metadata": {},
   "outputs": [
    {
     "data": {
      "text/plain": [
       "('Airport', ('Skyline', 'Viper', 'Gremlin', 'Nova'))"
      ]
     },
     "execution_count": 9,
     "metadata": {},
     "output_type": "execute_result"
    }
   ],
   "source": [
    "((loc2,(best2, *rest2)))"
   ]
  },
  {
   "cell_type": "code",
   "execution_count": 14,
   "metadata": {},
   "outputs": [],
   "source": [
    "((loc1, (best1, *rest1)),\n",
    "(loc2, (best2, *rest2))) = car_inventory.items()\n"
   ]
  },
  {
   "cell_type": "code",
   "execution_count": 6,
   "metadata": {},
   "outputs": [
    {
     "name": "stdout",
     "output_type": "stream",
     "text": [
      "Best at Downtown is Silver Shadow, 2 others\n",
      "Best at Airport is Skyline, 3 others\n"
     ]
    }
   ],
   "source": [
    "((loc1, (best1, *rest1)),\n",
    "(loc2, (best2, *rest2))) = car_inventory.items()\n",
    "print(f'Best at {loc1} is {best1}, {len(rest1)} others')\n",
    "print(f'Best at {loc2} is {best2}, {len(rest2)} others')"
   ]
  },
  {
   "cell_type": "markdown",
   "metadata": {},
   "source": [
    "**Importante**\n",
    "\n",
    "* Las expresiones con asterisco se convierten en instancias de listas en todos los casos. \n",
    "\n",
    "* Si no quedan elementos adicionales de la secuencia que se está desempaquetando, la parte de captura de todo será una lista vacía. Esto es especialmente útil cuando estás procesando una secuencia que sabes de antemano que tiene al menos N elementos:"
   ]
  },
  {
   "cell_type": "code",
   "execution_count": 15,
   "metadata": {},
   "outputs": [
    {
     "name": "stdout",
     "output_type": "stream",
     "text": [
      "1 2 []\n"
     ]
    }
   ],
   "source": [
    "short_list = [1,2]\n",
    "first, second, *rest = short_list\n",
    "print(first, second, rest)"
   ]
  },
  {
   "cell_type": "markdown",
   "metadata": {},
   "source": [
    "Pero con la adición de expresiones con asterisco, el valor de desempaquetar iteradores se hace evidente. Por ejemplo, aquí tengo un generador que produce las filas de un archivo CSV que contiene todos los pedidos de autos del concesionario de esta semana:"
   ]
  },
  {
   "cell_type": "code",
   "execution_count": 16,
   "metadata": {},
   "outputs": [],
   "source": [
    "def generate_csv():\n",
    "    yield ('Date', 'Make' , 'Model', 'Year', 'Price')"
   ]
  },
  {
   "cell_type": "code",
   "execution_count": 25,
   "metadata": {},
   "outputs": [],
   "source": [
    "def generate_csv():\n",
    "    yield ('Date', 'Make' , 'Model', 'Year', 'Price')\n",
    "    yield ('2023-01-01', 'Toyota', 'Camry', 2022, 30000)\n",
    "    yield ('2023-02-01', 'Honda', 'Accord', 2023, 32000)\n",
    "    yield ('2023-03-01', 'Ford', 'Mustang', 2021, 45000)"
   ]
  },
  {
   "cell_type": "code",
   "execution_count": 26,
   "metadata": {},
   "outputs": [
    {
     "name": "stdout",
     "output_type": "stream",
     "text": [
      "CSV Header: ('Date', 'Make', 'Model', 'Year', 'Price')\n",
      "Row count:  3\n"
     ]
    }
   ],
   "source": [
    "# Obtener todas las filas generadas en una lista\n",
    "all_csv_rows = list(generate_csv())\n",
    "\n",
    "# Separar el encabezado y las filas\n",
    "header = all_csv_rows[0]\n",
    "rows = all_csv_rows[1:]\n",
    "\n",
    "print('CSV Header:', header)\n",
    "print('Row count: ', len(rows))"
   ]
  },
  {
   "cell_type": "code",
   "execution_count": 27,
   "metadata": {},
   "outputs": [
    {
     "name": "stdout",
     "output_type": "stream",
     "text": [
      "Se ha creado el archivo CSV \"ejemplo.csv\" con los datos generados.\n"
     ]
    }
   ],
   "source": [
    "import csv\n",
    "\n",
    "def generate_csv():\n",
    "    yield ('2023-01-01', 'Toyota', 'Camry', 2022, 30000)\n",
    "    yield ('2023-02-01', 'Honda', 'Accord', 2023, 32000)\n",
    "    yield ('2023-03-01', 'Ford', 'Mustang', 2021, 45000)\n",
    "\n",
    "# Nombre del archivo CSV\n",
    "csv_file = 'ejemplo.csv'\n",
    "\n",
    "# Escribir los datos en el archivo CSV\n",
    "with open(csv_file, 'w', newline='') as file:\n",
    "    writer = csv.writer(file)\n",
    "    \n",
    "    # Escribir el encabezado\n",
    "    writer.writerow(['Date', 'Make', 'Model', 'Year', 'Price'])\n",
    "    \n",
    "    # Escribir las filas de datos\n",
    "    for row in generate_csv():\n",
    "        writer.writerow(row)\n",
    "\n",
    "print(f'Se ha creado el archivo CSV \"{csv_file}\" con los datos generados.')\n"
   ]
  }
 ],
 "metadata": {
  "kernelspec": {
   "display_name": "base",
   "language": "python",
   "name": "python3"
  },
  "language_info": {
   "codemirror_mode": {
    "name": "ipython",
    "version": 3
   },
   "file_extension": ".py",
   "mimetype": "text/x-python",
   "name": "python",
   "nbconvert_exporter": "python",
   "pygments_lexer": "ipython3",
   "version": "3.11.7"
  }
 },
 "nbformat": 4,
 "nbformat_minor": 2
}
